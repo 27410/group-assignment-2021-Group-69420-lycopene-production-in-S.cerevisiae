{
 "cells": [
  {
   "cell_type": "code",
   "execution_count": 29,
   "metadata": {},
   "outputs": [],
   "source": [
    "from cobra.io import read_sbml_model\n",
    "\n",
    "model = read_sbml_model('models/yeast_lyco.xml')"
   ]
  },
  {
   "cell_type": "code",
   "execution_count": 42,
   "metadata": {},
   "outputs": [],
   "source": [
    "NADHkinase=model.reactions.get_by_id(\"r_0771\")\n",
    "PPP1=model.reactions.get_by_id(\"r_0455\")\n",
    "PPP2=model.reactions.get_by_id(\"r_0466\")\n",
    "PPP3=model.reactions.get_by_id(\"r_0889\")\n",
    "cellwallglucan1=model.reactions.get_by_id(\"r_0005\")"
   ]
  },
  {
   "cell_type": "code",
   "execution_count": 36,
   "metadata": {},
   "outputs": [
    {
     "data": {
      "text/html": [
       "\n",
       "        <table>\n",
       "            <tr>\n",
       "                <td><strong>Reaction identifier</strong></td><td>r_0091</td>\n",
       "            </tr><tr>\n",
       "                <td><strong>Name</strong></td><td>6-phosphogluconolactonase</td>\n",
       "            </tr><tr>\n",
       "                <td><strong>Memory address</strong></td>\n",
       "                <td>0x07f65f4386b20</td>\n",
       "            </tr><tr>\n",
       "                <td><strong>Stoichiometry</strong></td>\n",
       "                <td>\n",
       "                    <p style='text-align:right'>H2O_c + s_0335[c] --> s_0340[c] + s_0794[c]</p>\n",
       "                    <p style='text-align:right'>H2O [cytoplasm] + 6-O-phosphono-D-glucono-1,5-lactone [cytoplasm] --> 6-phospho-D-gluconate [cytoplasm] + H+ [cytoplasm]</p>\n",
       "                </td>\n",
       "            </tr><tr>\n",
       "                <td><strong>GPR</strong></td><td>YGR248W or YHR163W</td>\n",
       "            </tr><tr>\n",
       "                <td><strong>Lower bound</strong></td><td>0.0</td>\n",
       "            </tr><tr>\n",
       "                <td><strong>Upper bound</strong></td><td>1000.0</td>\n",
       "            </tr>\n",
       "        </table>\n",
       "        "
      ],
      "text/plain": [
       "<Reaction r_0091 at 0x7f65f4386b20>"
      ]
     },
     "execution_count": 36,
     "metadata": {},
     "output_type": "execute_result"
    }
   ],
   "source": [
    "PPP1"
   ]
  },
  {
   "cell_type": "code",
   "execution_count": null,
   "metadata": {},
   "outputs": [],
   "source": [
    "with model:\n",
    "    for i in range(100):\n",
    "        r=PPP1.copy()\n",
    "        r.id=\"\"+str(i)\n",
    "        model.add_reactions([r])\n",
    "    model.objective = model.reactions.CrtI\n",
    "    print(model.objective)\n",
    "    print(model.optimize().objective_value)\n"
   ]
  }
 ],
 "metadata": {
  "kernelspec": {
   "display_name": "Python 3",
   "language": "python",
   "name": "python3"
  },
  "language_info": {
   "codemirror_mode": {
    "name": "ipython",
    "version": 3
   },
   "file_extension": ".py",
   "mimetype": "text/x-python",
   "name": "python",
   "nbconvert_exporter": "python",
   "pygments_lexer": "ipython3",
   "version": "3.8.5"
  }
 },
 "nbformat": 4,
 "nbformat_minor": 4
}
