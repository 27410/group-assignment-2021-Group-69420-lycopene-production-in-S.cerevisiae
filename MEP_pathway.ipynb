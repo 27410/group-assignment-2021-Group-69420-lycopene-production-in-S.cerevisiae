{
 "cells": [
  {
   "cell_type": "code",
   "execution_count": 22,
   "metadata": {},
   "outputs": [],
   "source": [
    "%run 01_loading_model.ipynb"
   ]
  },
  {
   "cell_type": "markdown",
   "metadata": {},
   "source": [
    "Renaming used metabolites"
   ]
  },
  {
   "cell_type": "code",
   "execution_count": 89,
   "metadata": {},
   "outputs": [
    {
     "name": "stdout",
     "output_type": "stream",
     "text": [
      "s_0543[c] cytidine [cytoplasm]\n",
      "s_0544[e] cytidine [extracellular]\n",
      "s_0610[c] deoxycytidine [cytoplasm]\n",
      "s_0611[e] deoxycytidine [extracellular]\n",
      "s_4100[c] cytidine 2'-phosphate [cytoplasm]\n",
      "s_4101[e] cytidine 2'-phosphate [extracellular]\n"
     ]
    }
   ],
   "source": [
    "for m in model.metabolites.query(\"cytidine\", 'name'):\n",
    "    print(m, m.name)"
   ]
  },
  {
   "cell_type": "code",
   "execution_count": 90,
   "metadata": {},
   "outputs": [
    {
     "data": {
      "text/html": [
       "\n",
       "        <table>\n",
       "            <tr>\n",
       "                <td><strong>Metabolite identifier</strong></td><td>s_0543[c]</td>\n",
       "            </tr><tr>\n",
       "                <td><strong>Name</strong></td><td>cytidine [cytoplasm]</td>\n",
       "            </tr><tr>\n",
       "                <td><strong>Memory address</strong></td>\n",
       "                <td>0x07fdbf4c7fa00</td>\n",
       "            </tr><tr>\n",
       "                <td><strong>Formula</strong></td><td>C9H13N3O5</td>\n",
       "            </tr><tr>\n",
       "                <td><strong>Compartment</strong></td><td>c</td>\n",
       "            </tr><tr>\n",
       "                <td><strong>In 5 reaction(s)</strong></td><td>\n",
       "                    r_4370, r_0315, r_0076, r_0314, r_1132</td>\n",
       "            </tr>\n",
       "        </table>"
      ],
      "text/plain": [
       "<Metabolite s_0543[c] at 0x7fdbf4c7fa00>"
      ]
     },
     "execution_count": 90,
     "metadata": {},
     "output_type": "execute_result"
    }
   ],
   "source": [
    "model.metabolites.get_by_id('s_0543[c]')"
   ]
  },
  {
   "cell_type": "code",
   "execution_count": 95,
   "metadata": {},
   "outputs": [
    {
     "data": {
      "text/html": [
       "\n",
       "        <table>\n",
       "            <tr>\n",
       "                <td><strong>Reaction identifier</strong></td><td>r_1132</td>\n",
       "            </tr><tr>\n",
       "                <td><strong>Name</strong></td><td>cytidine transport</td>\n",
       "            </tr><tr>\n",
       "                <td><strong>Memory address</strong></td>\n",
       "                <td>0x07fdbf403cca0</td>\n",
       "            </tr><tr>\n",
       "                <td><strong>Stoichiometry</strong></td>\n",
       "                <td>\n",
       "                    <p style='text-align:right'>s_0544[e] + s_0796[e] --> s_0543[c] + s_0794[c]</p>\n",
       "                    <p style='text-align:right'>cytidine [extracellular] + H+ [extracellular] --> cytidine [cytoplasm] + H+ [cytoplasm]</p>\n",
       "                </td>\n",
       "            </tr><tr>\n",
       "                <td><strong>GPR</strong></td><td>YAL022C</td>\n",
       "            </tr><tr>\n",
       "                <td><strong>Lower bound</strong></td><td>0.0</td>\n",
       "            </tr><tr>\n",
       "                <td><strong>Upper bound</strong></td><td>1000.0</td>\n",
       "            </tr>\n",
       "        </table>\n",
       "        "
      ],
      "text/plain": [
       "<Reaction r_1132 at 0x7fdbf403cca0>"
      ]
     },
     "execution_count": 95,
     "metadata": {},
     "output_type": "execute_result"
    }
   ],
   "source": [
    "model.reactions.r_1132"
   ]
  },
  {
   "cell_type": "code",
   "execution_count": 61,
   "metadata": {},
   "outputs": [],
   "source": [
    "pyruvate = model.metabolites.get_by_id('s_1399[c]')\n",
    "g3p = model.metabolites.get_by_id('s_0764[c]')\n",
    "co2 = model.metabolites.get_by_id('s_0456[c]')\n",
    "nadp = model.metabolites.get_by_id('s_1207[c]')\n",
    "nadph = model.metabolites.get_by_id('s_1212[c]')\n",
    "h = model.metabolites.get_by_id('s_0794[c]')"
   ]
  },
  {
   "cell_type": "markdown",
   "metadata": {},
   "source": [
    "New metabolites"
   ]
  },
  {
   "cell_type": "code",
   "execution_count": 62,
   "metadata": {},
   "outputs": [],
   "source": [
    "dxp = Metabolite(id='dxp', compartment = 'c', name='1-Deoxy-D-xylulose 5-phosphate', formula = 'C5H11O7P')\n",
    "mep = Metabolite(id='mep', compartment = 'c', name='2-C-Methyl-D-erythritol 4-phosphate', formula='C5H13O7P')\n"
   ]
  },
  {
   "cell_type": "markdown",
   "metadata": {},
   "source": [
    "Introducing MEP pathway reactions"
   ]
  },
  {
   "cell_type": "code",
   "execution_count": 63,
   "metadata": {},
   "outputs": [],
   "source": [
    "dx_synthase = Reaction('DXS')\n",
    "dx_reductase = Reaction('DXR')\n",
    "cytosyltransferase = Reaction('MCT')\n",
    "cm_kinase = Reaction('CMK')\n",
    "mecdp_synthase = Reaction('MDS')\n",
    "hmbpp_synthase = Reaction('HDS')\n",
    "hmbpp_reductase = Reaction('HDR')"
   ]
  },
  {
   "cell_type": "code",
   "execution_count": 64,
   "metadata": {},
   "outputs": [],
   "source": [
    "dx_synthase.add_metabolites(({pyruvate: -1,\n",
    "                             g3p: -1,\n",
    "                             dxp: 1,\n",
    "                             co2: 1\n",
    "                             }))"
   ]
  },
  {
   "cell_type": "code",
   "execution_count": 65,
   "metadata": {},
   "outputs": [],
   "source": [
    "dx_reductase.add_metabolites(({dxp: -1,\n",
    "                               nadph: -1,\n",
    "                               h: -1,\n",
    "                               mep: 1,\n",
    "                               nadp: 1\n",
    "                              }))"
   ]
  },
  {
   "cell_type": "code",
   "execution_count": null,
   "metadata": {},
   "outputs": [],
   "source": [
    "cytosyltransferase.add_metabolites(({}))"
   ]
  },
  {
   "cell_type": "code",
   "execution_count": null,
   "metadata": {},
   "outputs": [],
   "source": []
  }
 ],
 "metadata": {
  "kernelspec": {
   "display_name": "Python 3",
   "language": "python",
   "name": "python3"
  },
  "language_info": {
   "codemirror_mode": {
    "name": "ipython",
    "version": 3
   },
   "file_extension": ".py",
   "mimetype": "text/x-python",
   "name": "python",
   "nbconvert_exporter": "python",
   "pygments_lexer": "ipython3",
   "version": "3.8.5"
  }
 },
 "nbformat": 4,
 "nbformat_minor": 4
}
