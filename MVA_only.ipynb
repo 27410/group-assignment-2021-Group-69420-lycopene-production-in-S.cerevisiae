{
 "cells": [
  {
   "cell_type": "code",
   "execution_count": 1,
   "metadata": {},
   "outputs": [],
   "source": [
    "from cobra.io import read_sbml_model\n",
    "from cobra import Reaction, Metabolite, Model\n",
    "\n",
    "model = read_sbml_model('yeast-GEM.xml')"
   ]
  },
  {
   "cell_type": "markdown",
   "metadata": {},
   "source": [
    "**Defining metabolites to be incorporated in lycopene pathway**\n",
    "\n",
    "As well as renaming metabolite IDs for convenience"
   ]
  },
  {
   "cell_type": "code",
   "execution_count": 2,
   "metadata": {},
   "outputs": [],
   "source": [
    "ipp = model.metabolites.get_by_id('s_0943[c]') # IPP already in model\n",
    "ipp.id = \"IPP\""
   ]
  },
  {
   "cell_type": "code",
   "execution_count": 3,
   "metadata": {},
   "outputs": [],
   "source": [
    "dmapp = model.metabolites.get_by_id('s_1376[c]') # DMAPP is denoted as \"prenyl diphosphate (3-)\" in the model\n",
    "dmapp.id = \"DMAPP\""
   ]
  },
  {
   "cell_type": "code",
   "execution_count": 4,
   "metadata": {},
   "outputs": [],
   "source": [
    "gpp = model.metabolites.get_by_id('s_0745[c]') # Geranyl-PP already in model\n",
    "gpp.id = \"GPP\""
   ]
  },
  {
   "cell_type": "code",
   "execution_count": 5,
   "metadata": {},
   "outputs": [],
   "source": [
    "farnpp = model.metabolites.get_by_id('s_0190[c]') # Farnesyl-PP already in model\n",
    "farnpp.id = \"FPP\""
   ]
  },
  {
   "cell_type": "code",
   "execution_count": 6,
   "metadata": {},
   "outputs": [],
   "source": [
    "ggpp = model.metabolites.get_by_id('s_0189[c]') # GGPP is already found naturally in model as metabolite s_0189[c]\n",
    "ggpp.id = \"GGPP\""
   ]
  },
  {
   "cell_type": "code",
   "execution_count": 7,
   "metadata": {},
   "outputs": [],
   "source": [
    "phytoene = Metabolite(id='phytoene', compartment = 'c', name='Phytoene', formula = 'C40H64')"
   ]
  },
  {
   "cell_type": "code",
   "execution_count": 8,
   "metadata": {},
   "outputs": [],
   "source": [
    "lycopene = Metabolite(id='lycopene', compartment = 'c', name='Lycopene', formula='C40H56')"
   ]
  },
  {
   "cell_type": "code",
   "execution_count": 9,
   "metadata": {},
   "outputs": [],
   "source": [
    "# Readily available variables for our reactions\n",
    "\n",
    "NAD = model.metabolites.get_by_id('s_1198[c]')\n",
    "NAD.id = \"NAD_c\"\n",
    "\n",
    "NADH = model.metabolites.get_by_id('s_1203[c]')\n",
    "NADH.id = \"NADH_c\"\n",
    "\n",
    "FAD = model.metabolites.get_by_id('s_0687[c]') \n",
    "FAD.id = \"FAD_c\"\n",
    "\n",
    "FADH2 = model.metabolites.get_by_id('s_0689[c]') \n",
    "FADH2.id = \"FADH2_c\"\n",
    "\n",
    "O2 = model.metabolites.get_by_id('s_1275[c]')\n",
    "O2.id = \"O2_c\"\n",
    "\n",
    "H2O = model.metabolites.get_by_id('s_0803[c]')\n",
    "H2O.id = \"H2O_c\"\n",
    "\n",
    "diphosphate = model.metabolites.get_by_id('s_0633[c]')\n",
    "diphosphate.id = \"PPi_c\""
   ]
  },
  {
   "cell_type": "code",
   "execution_count": 10,
   "metadata": {},
   "outputs": [],
   "source": [
    "# To fix potential problems with indexes the following command is used from the cobra.py package documentation\n",
    "model.repair()"
   ]
  },
  {
   "cell_type": "markdown",
   "metadata": {},
   "source": [
    "**Defining reactions of lycopene pathway**\n",
    "\n",
    "Again, renaming reactions for our convience"
   ]
  },
  {
   "cell_type": "code",
   "execution_count": 11,
   "metadata": {},
   "outputs": [],
   "source": [
    "isopentenyl_diphosphate_delta_isomerase = model.reactions.get_by_id('r_0667')\n",
    "isopentenyl_diphosphate_delta_isomerase.id = \"IDI\""
   ]
  },
  {
   "cell_type": "code",
   "execution_count": 12,
   "metadata": {},
   "outputs": [],
   "source": [
    "gp_synthase = model.reactions.get_by_id('r_0355')\n",
    "gp_synthase.id = \"GP_synth\""
   ]
  },
  {
   "cell_type": "code",
   "execution_count": 13,
   "metadata": {},
   "outputs": [],
   "source": [
    "farnpp_synthase = model.reactions.get_by_id('r_0462')\n",
    "farnpp_synthase.id = \"FPP_synth\""
   ]
  },
  {
   "cell_type": "code",
   "execution_count": 14,
   "metadata": {},
   "outputs": [],
   "source": [
    "ggpp_synthase = model.reactions.get_by_id('r_0373')\n",
    "ggpp_synthase.id = \"CrtE\""
   ]
  },
  {
   "cell_type": "code",
   "execution_count": 15,
   "metadata": {},
   "outputs": [],
   "source": [
    "phytoene_synthase = Reaction('CrtB')"
   ]
  },
  {
   "cell_type": "code",
   "execution_count": 16,
   "metadata": {},
   "outputs": [],
   "source": [
    "phytoene_desaturase = Reaction('CrtI')"
   ]
  },
  {
   "cell_type": "markdown",
   "metadata": {},
   "source": [
    "**Adding metabolites to heterologous reactions**"
   ]
  },
  {
   "cell_type": "code",
   "execution_count": 17,
   "metadata": {},
   "outputs": [],
   "source": [
    "phytoene_synthase.add_metabolites(({ggpp: -2,\n",
    "                                    diphosphate:2,\n",
    "                                    phytoene: 1}))"
   ]
  },
  {
   "cell_type": "code",
   "execution_count": 18,
   "metadata": {},
   "outputs": [],
   "source": [
    "phytoene_desaturase.add_metabolites(({phytoene: -1,\n",
    "                                      FAD:-4,\n",
    "                                      FADH2:4,\n",
    "                                      lycopene: 1}))"
   ]
  },
  {
   "cell_type": "markdown",
   "metadata": {},
   "source": [
    "**Updating model with boundaries for introduced reactions**"
   ]
  },
  {
   "cell_type": "code",
   "execution_count": 19,
   "metadata": {},
   "outputs": [],
   "source": [
    "model.add_reactions([phytoene_synthase])\n",
    "model.add_reactions([phytoene_desaturase])"
   ]
  },
  {
   "cell_type": "code",
   "execution_count": 20,
   "metadata": {},
   "outputs": [],
   "source": [
    "#model.add_boundary(model.metabolites.phytoene, type = 'demand')\n",
    "model.add_boundary(model.metabolites.lycopene, type = 'demand');"
   ]
  },
  {
   "cell_type": "markdown",
   "metadata": {},
   "source": [
    "Attempting to duplicate this reaction by adding 4 copies. it did not turn out succesful. That reason why it is all only in text form."
   ]
  },
  {
   "cell_type": "code",
   "execution_count": 21,
   "metadata": {},
   "outputs": [],
   "source": [
    "#atp = model.metabolites.get_by_id('s_0434[c]')\n",
    "#atp.id = \"atp_c\"\n",
    "#adp = atp = model.metabolites.get_by_id('s_0394[c]')\n",
    "#adp.id = \"adp_c\"\n",
    "#CO2 = model.metabolites.get_by_id('s_0456[c]')\n",
    "#CO2.id = \"CO2_c\""
   ]
  },
  {
   "cell_type": "code",
   "execution_count": 22,
   "metadata": {},
   "outputs": [],
   "source": [
    "#pho = Metabolite(id='pho', compartment = 'c', name='R-5-phosphomevalonate', formula = 'Cf6H10O7P')\n",
    "#mev = Metabolite(id='mev', compartment = 'c', name='R-mevalonate-diphosphate', formula = 'C6H10O10P2')\n",
    "#meppi = Metabolite(id='meppi', compartment = 'c', name='three-methylbut-3-en-1-yl-diphosphate', formula = 'C5H9O7P2')"
   ]
  },
  {
   "cell_type": "code",
   "execution_count": 23,
   "metadata": {},
   "outputs": [],
   "source": [
    "#mevalonate_ppi_decarboxylase1 = Reaction('MPD1')\n",
    "#mevalonate_ppi_decarboxylase2 = Reaction('MPD2')\n",
    "#mevalonate_ppi_decarboxylase3 = Reaction('MPD3')\n",
    "#mevalonate_ppi_decarboxylase4 = Reaction('MPD4')"
   ]
  },
  {
   "cell_type": "code",
   "execution_count": 24,
   "metadata": {},
   "outputs": [],
   "source": [
    "#mevalonate_ppi_decarboxylase1.add_metabolites(({mev: -1,\n",
    " #                                   atp: -1,\n",
    "  #                                  meppi: 1,\n",
    "   #                                 adp: 1,\n",
    "    #                                CO2: 1\n",
    "     #                             }))"
   ]
  },
  {
   "cell_type": "code",
   "execution_count": 25,
   "metadata": {},
   "outputs": [],
   "source": [
    "#mevalonate_ppi_decarboxylase2.add_metabolites(({mev: -1,\n",
    " #                                   atp: -1,\n",
    "  #                                  meppi: 1,\n",
    "   #                                 adp: 1,\n",
    "    #                                CO2: 1\n",
    "     #                             }))"
   ]
  },
  {
   "cell_type": "code",
   "execution_count": 26,
   "metadata": {},
   "outputs": [],
   "source": [
    "#mevalonate_ppi_decarboxylase3.add_metabolites(({mev: -1,\n",
    " #                                   atp: -1,\n",
    "  #                                  meppi: 1,\n",
    "   #                                 adp: 1,\n",
    "    #                                CO2: 1\n",
    "     #                             }))"
   ]
  },
  {
   "cell_type": "code",
   "execution_count": 27,
   "metadata": {},
   "outputs": [],
   "source": [
    "#mevalonate_ppi_decarboxylase4.add_metabolites(({mev: -1,\n",
    " #                                   atp: -1,\n",
    "  #                                  meppi: 1,\n",
    "   #                                 adp: 1,\n",
    "    #                                CO2: 1\n",
    "     #                             }))"
   ]
  },
  {
   "cell_type": "code",
   "execution_count": 28,
   "metadata": {},
   "outputs": [],
   "source": [
    "#model.add_reactions([mevalonate_ppi_decarboxylase1])\n",
    "#model.add_reactions([mevalonate_ppi_decarboxylase2])\n",
    "#model.add_reactions([mevalonate_ppi_decarboxylase3])\n",
    "#model.add_reactions([mevalonate_ppi_decarboxylase4])"
   ]
  },
  {
   "cell_type": "code",
   "execution_count": 29,
   "metadata": {},
   "outputs": [],
   "source": [
    "#model.reactions.r_0455.lower_bound = 0;\n",
    "#model.reactions.r_0455.upper_bound = 1000"
   ]
  },
  {
   "cell_type": "code",
   "execution_count": 30,
   "metadata": {},
   "outputs": [],
   "source": [
    "#model.reactions.get_by_id('r_0455')"
   ]
  },
  {
   "cell_type": "code",
   "execution_count": 31,
   "metadata": {},
   "outputs": [],
   "source": [
    "#model.reactions.r_1265.lower_bound = 1000;\n",
    "#model.reactions.r_1265.upper_bound = 1000"
   ]
  },
  {
   "cell_type": "code",
   "execution_count": 32,
   "metadata": {},
   "outputs": [],
   "source": [
    "#model.reactions.r_1021.lower_bound = 1000;\n",
    "#model.reactions.r_1021.upper_bound = 1000"
   ]
  },
  {
   "cell_type": "code",
   "execution_count": 33,
   "metadata": {},
   "outputs": [],
   "source": [
    "#model.reactions.r_0800.lower_bound = 1000;\n",
    "#model.reactions.r_0800.upper_bound = 1000"
   ]
  },
  {
   "cell_type": "markdown",
   "metadata": {},
   "source": [
    "Attempting to overexpress two genes involved in degrading ethanol into a less toxic form, acetate."
   ]
  },
  {
   "cell_type": "code",
   "execution_count": 34,
   "metadata": {},
   "outputs": [],
   "source": [
    "#for m in model.reactions.query(\"acetate\", 'name'):\n",
    "#    print(m, m.name)"
   ]
  },
  {
   "cell_type": "code",
   "execution_count": 35,
   "metadata": {},
   "outputs": [],
   "source": [
    "#model.reactions.get_by_id('r_0163')"
   ]
  },
  {
   "cell_type": "code",
   "execution_count": 36,
   "metadata": {},
   "outputs": [],
   "source": [
    "#model.reactions.r_0163.lower_bound = 100;\n",
    "#model.reactions.r_0163.upper_bound = 1000"
   ]
  },
  {
   "cell_type": "code",
   "execution_count": 37,
   "metadata": {},
   "outputs": [],
   "source": [
    "#model.reactions.r_2116.lower_bound = 100;\n",
    "#model.reactions.r_2116.upper_bound = 1000"
   ]
  },
  {
   "cell_type": "code",
   "execution_count": 38,
   "metadata": {},
   "outputs": [],
   "source": [
    "#eth = model.metabolites.get_by_id('s_0680[c]')\n",
    "#eth.id = \"ethanol\""
   ]
  },
  {
   "cell_type": "code",
   "execution_count": 39,
   "metadata": {},
   "outputs": [],
   "source": [
    "#model.metabolites.get_by_id('s_0359[c]')"
   ]
  },
  {
   "cell_type": "code",
   "execution_count": 40,
   "metadata": {},
   "outputs": [],
   "source": [
    "#acetald = model.metabolites.get_by_id('s_0359[c]')\n",
    "#acetald.id = \"acetaldehyde\""
   ]
  },
  {
   "cell_type": "code",
   "execution_count": 41,
   "metadata": {},
   "outputs": [],
   "source": [
    "#model.metabolites.get_by_id('s_0794[c]')"
   ]
  },
  {
   "cell_type": "code",
   "execution_count": 42,
   "metadata": {},
   "outputs": [],
   "source": [
    "#hyd = model.metabolites.get_by_id('s_0794[c]')\n",
    "#hyd.id = \"hydrogen_ion\""
   ]
  },
  {
   "cell_type": "code",
   "execution_count": 43,
   "metadata": {},
   "outputs": [],
   "source": [
    "#acetate = model.metabolites.get_by_id('s_0362[c]')\n",
    "#acetate.id = \"acetate\""
   ]
  },
  {
   "cell_type": "code",
   "execution_count": 44,
   "metadata": {},
   "outputs": [],
   "source": [
    "#alcohol_dehydrogenase1 = Reaction('ADH_1')\n",
    "#alcohol_dehydrogenase2 = Reaction('ADH_2')\n",
    "#alcohol_dehydrogenase3 = Reaction('ADH_3')"
   ]
  },
  {
   "cell_type": "code",
   "execution_count": 45,
   "metadata": {},
   "outputs": [],
   "source": [
    "#alcohol_dehydrogenase1.add_metabolites(({NAD: -1,\n",
    " #                                   eth: -1,\n",
    "  #                                  NADH: 1,\n",
    "   #                                 acetald: 1,\n",
    "    #                                hyd: 1\n",
    "     #                             }))"
   ]
  },
  {
   "cell_type": "code",
   "execution_count": 46,
   "metadata": {},
   "outputs": [],
   "source": [
    "#alcohol_dehydrogenase2.add_metabolites(({NAD: -1,\n",
    " #                                   eth: -1,\n",
    "  #                                  NADH: 1,\n",
    "   #                                 acetald: 1,\n",
    "    #                                hyd: 1\n",
    "     #                             }))"
   ]
  },
  {
   "cell_type": "code",
   "execution_count": 47,
   "metadata": {},
   "outputs": [],
   "source": [
    "#alcohol_dehydrogenase3.add_metabolites(({NAD: -1,\n",
    " #                                   eth: -1,\n",
    "  #                                  NADH: 1,\n",
    "   #                                 acetald: 1,\n",
    "    #                                hyd: 1\n",
    "     #                             }))"
   ]
  },
  {
   "cell_type": "code",
   "execution_count": 48,
   "metadata": {},
   "outputs": [],
   "source": [
    "#model.reactions.get_by_id('ADH_1')"
   ]
  },
  {
   "cell_type": "code",
   "execution_count": 49,
   "metadata": {},
   "outputs": [],
   "source": [
    "#model.reactions.r_0739.lower_bound = 0\n",
    "#model.reactions.r_0739.upper_bound = 0"
   ]
  },
  {
   "cell_type": "code",
   "execution_count": 50,
   "metadata": {},
   "outputs": [],
   "source": [
    "#model.add_reactions([alcohol_dehydrogenase1])\n",
    "#model.add_reactions([alcohol_dehydrogenase2])\n",
    "#model.add_reactions([alcohol_dehydrogenase3])"
   ]
  },
  {
   "cell_type": "code",
   "execution_count": 51,
   "metadata": {},
   "outputs": [],
   "source": [
    "#for m in model.reactions.query(\"acetaldehyde\", 'name'):\n",
    " #   print(m, m.name)"
   ]
  },
  {
   "cell_type": "code",
   "execution_count": 52,
   "metadata": {},
   "outputs": [],
   "source": [
    "#model.reactions.get_by_id('r_2116')"
   ]
  },
  {
   "cell_type": "code",
   "execution_count": 53,
   "metadata": {},
   "outputs": [],
   "source": [
    "#aceta_dehydrogenase1 = Reaction('ACD_1')\n",
    "#aceta_dehydrogenase2 = Reaction('ACD_2')\n",
    "#aceta_dehydrogenase3 = Reaction('ACD_3')"
   ]
  },
  {
   "cell_type": "code",
   "execution_count": 54,
   "metadata": {},
   "outputs": [],
   "source": [
    "#aceta_dehydrogenase1.add_metabolites(({NAD: -1,\n",
    " #                                   acetald: -1,\n",
    "  #                                  H2O: -1,\n",
    "   #                                 NADH: 1,\n",
    "    #                                acetate: 1,\n",
    "     #                               hyd: 2\n",
    "      #                            }))"
   ]
  },
  {
   "cell_type": "code",
   "execution_count": 55,
   "metadata": {},
   "outputs": [],
   "source": [
    "#aceta_dehydrogenase2.add_metabolites(({NAD: -1,\n",
    " #                                   acetald: -1,\n",
    "  #                                  H2O: -1,\n",
    "   #                                 NADH: 1,\n",
    "    #                                acetate: 1,\n",
    "     #                               hyd: 2\n",
    "      #                            }))"
   ]
  },
  {
   "cell_type": "code",
   "execution_count": 56,
   "metadata": {},
   "outputs": [],
   "source": [
    "#aceta_dehydrogenase3.add_metabolites(({NAD: -1,\n",
    " #                                  acetald: -1,\n",
    "  #                                  H2O: -1,\n",
    "    #                                NADH: 1,\n",
    "     #                               acetate: 1,\n",
    "      #                              hyd: 2\n",
    "       #                           }))"
   ]
  },
  {
   "cell_type": "code",
   "execution_count": 57,
   "metadata": {},
   "outputs": [],
   "source": [
    "#model.add_reactions([aceta_dehydrogenase1])\n",
    "#model.add_reactions([aceta_dehydrogenase2])\n",
    "#model.add_reactions([aceta_dehydrogenase3])"
   ]
  },
  {
   "cell_type": "code",
   "execution_count": 58,
   "metadata": {},
   "outputs": [],
   "source": [
    "from cobra.io import write_sbml_model\n",
    "write_sbml_model(model,\"yeast_lyco_MVA.xml\")"
   ]
  },
  {
   "cell_type": "code",
   "execution_count": 59,
   "metadata": {},
   "outputs": [],
   "source": [
    "#model.reactions.get_by_id('r_0163')"
   ]
  },
  {
   "cell_type": "code",
   "execution_count": 60,
   "metadata": {},
   "outputs": [],
   "source": [
    "#model.reactions.r_0163.lower_bound = 200;\n",
    "#model.reactions.r_0163.upper_bound = 1000"
   ]
  },
  {
   "cell_type": "code",
   "execution_count": 61,
   "metadata": {},
   "outputs": [],
   "source": [
    "#model.reactions.r_2116.lower_bound = 200;\n",
    "#model.reactions.r_2116.upper_bound = 1000"
   ]
  },
  {
   "cell_type": "code",
   "execution_count": 62,
   "metadata": {},
   "outputs": [
    {
     "name": "stdout",
     "output_type": "stream",
     "text": [
      "At glucose concentration = 1.0:\n",
      "Maximum theoretical productivity of lycopene = 0.0871195699738864 mmol/(gDW*h^-1)\n",
      "Maximum theoretical yield = 0.0871195699738864 mmol-lyco/mmol-glc\n",
      "\n",
      "At glucose concentration = 10000:\n",
      "Maximum theoretical productivity of lycopene = 25.825440917107606 mmol/(gDW*h*^-1)\n",
      "Maximum theoretical yield = 0.04014908299958077 mmol-lyco/mmol-glc\n",
      "\n"
     ]
    }
   ],
   "source": [
    "medium_glc_ex = model.reactions.get_by_id('r_1714')\n",
    "medium = model.medium\n",
    "with model:\n",
    "    model.objective = model.reactions.CrtI\n",
    "    lycopene_production = model.optimize().objective_value\n",
    "    print(\"At glucose concentration = {}:\".format(medium[medium_glc_ex.id]))\n",
    "    print('Maximum theoretical productivity of lycopene =', lycopene_production, 'mmol/(gDW*h^-1)')\n",
    "    \n",
    "    glc_uptake_flux = model.reactions.r_1714.flux\n",
    "    max_yield = lycopene_production / (-1*glc_uptake_flux)\n",
    "    print('Maximum theoretical yield =', max_yield, 'mmol-lyco/mmol-glc\\n')\n",
    "    \n",
    "    medium[medium_glc_ex.id] = 10000\n",
    "    model.medium = medium\n",
    "\n",
    "    lycopene_production = model.optimize().objective_value\n",
    "    glc_uptake_flux = model.reactions.r_1714.flux\n",
    "    max_yield = lycopene_production / (-1*glc_uptake_flux)\n",
    "    print(\"At glucose concentration = {}:\".format(medium[medium_glc_ex.id]))\n",
    "    print('Maximum theoretical productivity of lycopene =', lycopene_production, 'mmol/(gDW*h*^-1)')\n",
    "    print('Maximum theoretical yield =', max_yield, 'mmol-lyco/mmol-glc\\n')"
   ]
  }
 ],
 "metadata": {
  "kernelspec": {
   "display_name": "Python 3",
   "language": "python",
   "name": "python3"
  },
  "language_info": {
   "codemirror_mode": {
    "name": "ipython",
    "version": 3
   },
   "file_extension": ".py",
   "mimetype": "text/x-python",
   "name": "python",
   "nbconvert_exporter": "python",
   "pygments_lexer": "ipython3",
   "version": "3.8.5"
  }
 },
 "nbformat": 4,
 "nbformat_minor": 4
}
