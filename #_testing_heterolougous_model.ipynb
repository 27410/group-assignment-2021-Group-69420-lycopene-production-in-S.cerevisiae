{
 "cells": [
  {
   "cell_type": "code",
   "execution_count": 1,
   "metadata": {},
   "outputs": [],
   "source": [
    "%run 01_loading_model.ipynb"
   ]
  },
  {
   "cell_type": "markdown",
   "metadata": {},
   "source": [
    "**Maximum specific growth rate based on minimal medium**"
   ]
  },
  {
   "cell_type": "code",
   "execution_count": 2,
   "metadata": {},
   "outputs": [
    {
     "data": {
      "text/html": [
       "<strong><em>Optimal</em> solution with objective value 0.084</strong><br><div>\n",
       "<style scoped>\n",
       "    .dataframe tbody tr th:only-of-type {\n",
       "        vertical-align: middle;\n",
       "    }\n",
       "\n",
       "    .dataframe tbody tr th {\n",
       "        vertical-align: top;\n",
       "    }\n",
       "\n",
       "    .dataframe thead th {\n",
       "        text-align: right;\n",
       "    }\n",
       "</style>\n",
       "<table border=\"1\" class=\"dataframe\">\n",
       "  <thead>\n",
       "    <tr style=\"text-align: right;\">\n",
       "      <th></th>\n",
       "      <th>fluxes</th>\n",
       "      <th>reduced_costs</th>\n",
       "    </tr>\n",
       "  </thead>\n",
       "  <tbody>\n",
       "    <tr>\n",
       "      <th>r_0001</th>\n",
       "      <td>0.000000</td>\n",
       "      <td>-1.667286e-02</td>\n",
       "    </tr>\n",
       "    <tr>\n",
       "      <th>r_0002</th>\n",
       "      <td>0.000000</td>\n",
       "      <td>-1.667286e-02</td>\n",
       "    </tr>\n",
       "    <tr>\n",
       "      <th>r_0003</th>\n",
       "      <td>0.000000</td>\n",
       "      <td>0.000000e+00</td>\n",
       "    </tr>\n",
       "    <tr>\n",
       "      <th>r_0004</th>\n",
       "      <td>0.000000</td>\n",
       "      <td>3.469447e-18</td>\n",
       "    </tr>\n",
       "    <tr>\n",
       "      <th>r_0005</th>\n",
       "      <td>0.062686</td>\n",
       "      <td>0.000000e+00</td>\n",
       "    </tr>\n",
       "    <tr>\n",
       "      <th>...</th>\n",
       "      <td>...</td>\n",
       "      <td>...</td>\n",
       "    </tr>\n",
       "    <tr>\n",
       "      <th>CrtI</th>\n",
       "      <td>0.000000</td>\n",
       "      <td>0.000000e+00</td>\n",
       "    </tr>\n",
       "    <tr>\n",
       "      <th>DM_dmapp</th>\n",
       "      <td>0.000000</td>\n",
       "      <td>-2.311192e-01</td>\n",
       "    </tr>\n",
       "    <tr>\n",
       "      <th>DM_ggpp</th>\n",
       "      <td>0.000000</td>\n",
       "      <td>-4.455656e-01</td>\n",
       "    </tr>\n",
       "    <tr>\n",
       "      <th>DM_phyto</th>\n",
       "      <td>0.000000</td>\n",
       "      <td>-8.800159e-01</td>\n",
       "    </tr>\n",
       "    <tr>\n",
       "      <th>DM_lyco</th>\n",
       "      <td>0.000000</td>\n",
       "      <td>-8.266850e-01</td>\n",
       "    </tr>\n",
       "  </tbody>\n",
       "</table>\n",
       "<p>4066 rows × 2 columns</p>\n",
       "</div>"
      ],
      "text/plain": [
       "<Solution 0.084 at 0x7f88237fcb20>"
      ]
     },
     "execution_count": 2,
     "metadata": {},
     "output_type": "execute_result"
    }
   ],
   "source": [
    "model.optimize()"
   ]
  },
  {
   "cell_type": "markdown",
   "metadata": {},
   "source": [
    "Using the `with model:` functionality, the model objective can be changed to maximize the production of our desired product i.e. <span style=\"color:red\">**Lycopene**</span>"
   ]
  },
  {
   "cell_type": "code",
   "execution_count": 55,
   "metadata": {},
   "outputs": [
    {
     "name": "stdout",
     "output_type": "stream",
     "text": [
      "Maximum productivity of lycopene = 0.17793200061522896 mmol/gDW*h\n",
      "Maximum theoretical yield = 0.17793200061522896 mmol-lyco/mmol-glc\n"
     ]
    }
   ],
   "source": [
    "with model:\n",
    "    model.objective = model.reactions.CrtI\n",
    "    lycopene_production = model.optimize().objective_value\n",
    "    print('Maximum productivity of lycopene =', lycopene_production, 'mmol/gDW*h')\n",
    "    \n",
    "    glc_uptake_flux = model.reactions.r_1714.flux\n",
    "    max_yield = lycopene_production / (-1*glc_uptake_flux)\n",
    "    print('Maximum theoretical yield =', max_yield, 'mmol-lyco/mmol-glc')"
   ]
  },
  {
   "cell_type": "markdown",
   "metadata": {},
   "source": [
    "We can then try to increase the glucose uptake as well as maximize lycopene production"
   ]
  },
  {
   "cell_type": "code",
   "execution_count": 83,
   "metadata": {},
   "outputs": [
    {
     "name": "stdout",
     "output_type": "stream",
     "text": [
      "r_1654 | ammonium exchange \t flux = \t 1000.0\n",
      "r_1714 | D-glucose exchange \t flux = \t 1.0\n",
      "r_1832 | H+ exchange \t flux = \t 1000.0\n",
      "r_1861 | iron(2+) exchange \t flux = \t 1000.0\n",
      "r_1992 | oxygen exchange \t flux = \t 1000.0\n",
      "r_2005 | phosphate exchange \t flux = \t 1000.0\n",
      "r_2020 | potassium exchange \t flux = \t 1000.0\n",
      "r_2049 | sodium exchange \t flux = \t 1000.0\n",
      "r_2060 | sulphate exchange \t flux = \t 1000.0\n",
      "r_2100 | water exchange \t flux = \t 1000.0\n",
      "r_4593 | chloride exchange \t flux = \t 1000.0\n",
      "r_4594 | Cu2(+) exchange \t flux = \t 1000.0\n",
      "r_4595 | Mn(2+) exchange \t flux = \t 1000.0\n",
      "r_4596 | Zn(2+) exchange \t flux = \t 1000.0\n",
      "r_4597 | Mg(2+) exchange \t flux = \t 1000.0\n",
      "r_4600 | Ca(2+) exchange \t flux = \t 1000.0\n"
     ]
    }
   ],
   "source": [
    "for i in model.medium.items():\n",
    "    print(i[0], '|', model.reactions.get_by_id(i[0]).name, '\\t flux = \\t', i[1])"
   ]
  },
  {
   "cell_type": "code",
   "execution_count": 91,
   "metadata": {},
   "outputs": [
    {
     "data": {
      "text/html": [
       "\n",
       "        <table>\n",
       "            <tr>\n",
       "                <td><strong>Reaction identifier</strong></td><td>CrtI</td>\n",
       "            </tr><tr>\n",
       "                <td><strong>Name</strong></td><td></td>\n",
       "            </tr><tr>\n",
       "                <td><strong>Memory address</strong></td>\n",
       "                <td>0x07f882153e910</td>\n",
       "            </tr><tr>\n",
       "                <td><strong>Stoichiometry</strong></td>\n",
       "                <td>\n",
       "                    <p style='text-align:right'>phyto + 4 s_1198[c] --> lyco + 4 s_1203[c]</p>\n",
       "                    <p style='text-align:right'>Phytoene + 4 NAD [cytoplasm] --> Lycopene + 4 NADH [cytoplasm]</p>\n",
       "                </td>\n",
       "            </tr><tr>\n",
       "                <td><strong>GPR</strong></td><td></td>\n",
       "            </tr><tr>\n",
       "                <td><strong>Lower bound</strong></td><td>0.0</td>\n",
       "            </tr><tr>\n",
       "                <td><strong>Upper bound</strong></td><td>1000.0</td>\n",
       "            </tr>\n",
       "        </table>\n",
       "        "
      ],
      "text/plain": [
       "<Reaction CrtI at 0x7f882153e910>"
      ]
     },
     "execution_count": 91,
     "metadata": {},
     "output_type": "execute_result"
    }
   ],
   "source": [
    "model.reactions.CrtI"
   ]
  },
  {
   "cell_type": "code",
   "execution_count": 90,
   "metadata": {},
   "outputs": [
    {
     "name": "stdout",
     "output_type": "stream",
     "text": [
      "Setting glucose uptake rate to: 10\n",
      "Maximum theoretical growth rate: 0.8637367930478762 h-1 \n",
      "\n",
      "Setting glucose uptake rate to: 20\n",
      "Maximum theoretical growth rate: 1.7303913341660815 h-1 \n",
      "\n",
      "Setting glucose uptake rate to: 30\n",
      "Maximum theoretical growth rate: 2.597045875284299 h-1 \n",
      "\n",
      "Setting glucose uptake rate to: 100\n",
      "Maximum theoretical growth rate: 8.663627663111763 h-1 \n",
      "\n",
      "Setting glucose uptake rate to: 1000\n",
      "Maximum theoretical growth rate: 19.816830259464354 h-1 \n",
      "\n",
      "Maximum theoretical productivity of lycopene = 0.17793200061522835 mmol/gDW*h\n"
     ]
    }
   ],
   "source": [
    "medium = model.medium\n",
    "for uptake_rate in (10, 20, 30, 100, 1000):\n",
    "    print('Setting glucose uptake rate to:', uptake_rate)\n",
    "    with model:\n",
    "        medium['r_1714'] = uptake_rate\n",
    "        model.medium = medium\n",
    "        max_growth = model.optimize().objective_value\n",
    "        print('Maximum theoretical growth rate:', max_growth, 'h-1 \\n')\n",
    "        \n",
    "with model:\n",
    "    medium['r_1714'] = 1000\n",
    "    model.objective = model.reactions.CrtI\n",
    "    lyco_prod = model.optimize().objective_value\n",
    "    print('Maximum theoretical productivity of lycopene =', lyco_prod, 'mmol/gDW*h')\n",
    "        "
   ]
  },
  {
   "cell_type": "markdown",
   "metadata": {},
   "source": [
    "<div class=\"alert alert-danger\" role=\"alert\">\n",
    "        NO change in production of lycopene when glucose uptake maximized!\n",
    "</div>\n"
   ]
  }
 ],
 "metadata": {
  "kernelspec": {
   "display_name": "Python 3",
   "language": "python",
   "name": "python3"
  },
  "language_info": {
   "codemirror_mode": {
    "name": "ipython",
    "version": 3
   },
   "file_extension": ".py",
   "mimetype": "text/x-python",
   "name": "python",
   "nbconvert_exporter": "python",
   "pygments_lexer": "ipython3",
   "version": "3.8.5"
  }
 },
 "nbformat": 4,
 "nbformat_minor": 4
}
