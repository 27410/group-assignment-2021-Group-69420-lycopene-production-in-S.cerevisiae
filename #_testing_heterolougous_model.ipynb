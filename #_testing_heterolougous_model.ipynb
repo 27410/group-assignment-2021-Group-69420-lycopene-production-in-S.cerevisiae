{
 "cells": [
  {
   "cell_type": "code",
   "execution_count": 1,
   "metadata": {},
   "outputs": [],
   "source": [
    "%run 01_loading_model.ipynb"
   ]
  },
  {
   "cell_type": "code",
   "execution_count": 196,
   "metadata": {},
   "outputs": [
    {
     "name": "stdout",
     "output_type": "stream",
     "text": [
      "s_0943[c] | isopentenyl diphosphate [cytoplasm] c\n",
      "s_0944[lp] | isopentenyl diphosphate [lipid particle] lp\n",
      "s_0945[m] | isopentenyl diphosphate [mitochondrion] m\n",
      "s_1376[c] | prenyl diphosphate(3-) [cytoplasm] c\n",
      "s_0190[c] | farnesyl diphosphate [cytoplasm] c\n",
      "s_0191[m] | farnesyl diphosphate [mitochondrion] m\n",
      "s_0692[lp] | farnesyl diphosphate [lipid particle] lp\n",
      "s_0189[c] | geranylgeranyl diphosphate [cytoplasm] c\n",
      "s_0745[c] | geranyl diphosphate [cytoplasm] c\n",
      "s_0746[lp] | geranylgeranyl diphosphate [lipid particle] lp\n"
     ]
    }
   ],
   "source": [
    "our = ['isopentenyl', 'prenyl diphosphate', 'farnesyl', 'geranyl']\n",
    "our_reactions = list()\n",
    "translate = dict()\n",
    "for name in our:\n",
    "    for m in model.metabolites.query(r'^' + name, 'name'):\n",
    "        print(m.id, \"|\", m.name, m.compartment)\n",
    "        if m.compartment == 'c':\n",
    "            our_reactions.append(m.reactions)\n",
    "            translate[m.id] = m.name"
   ]
  },
  {
   "cell_type": "code",
   "execution_count": 198,
   "metadata": {},
   "outputs": [
    {
     "name": "stdout",
     "output_type": "stream",
     "text": [
      "r_1182: s_0943[c] <=> s_0945[m] | NAME: isopentenyl diphosphate transport\n",
      "r_0355: s_0943[c] + s_1376[c] --> s_0633[c] + s_0745[c] | NAME: dimethylallyltranstransferase\n",
      "r_0461: s_0189[c] + s_0943[c] --> s_0633[c] + s_1311[c] | NAME: geranylgeranyltranstransferase\n",
      "r_0667: s_0943[c] <=> s_1376[c] | NAME: isopentenyl-diphosphate D-isomerase\n",
      "r_0462: s_0745[c] + s_0943[c] --> s_0190[c] + s_0633[c] | NAME: geranyltranstransferase\n",
      "r_0739: s_0018[c] + s_0434[c] --> s_0394[c] + s_0456[c] + s_0943[c] + s_1322[c] | NAME: mevalonate pyrophoshate decarboxylase\n",
      "IDI: s_0943[c] --> dmapp | NAME: \n",
      "r_0373: s_0190[c] + s_0943[c] --> s_0189[c] + s_0633[c] | NAME: farnesyltranstransferase\n",
      "GGPPS/CrtE: dmapp + s_0943[c] --> ggpp + 3 s_0633[c] | NAME: \n",
      "r_0667: s_0943[c] <=> s_1376[c] | NAME: isopentenyl-diphosphate D-isomerase\n",
      "r_0355: s_0943[c] + s_1376[c] --> s_0633[c] + s_0745[c] | NAME: dimethylallyltranstransferase\n",
      "r_0462: s_0745[c] + s_0943[c] --> s_0190[c] + s_0633[c] | NAME: geranyltranstransferase\n",
      "r_4604: s_0190[c] <=> s_0692[lp] | NAME: farnesyl diphosphate transport\n",
      "r_1766: s_0190[c] <=> s_0191[m] | NAME: farnesyl diphosphate transport\n",
      "r_1012: 2.0 s_0190[c] + s_0794[c] + s_1212[c] --> 2.0 s_0633[c] + s_1207[c] + s_1447[c] | NAME: squalene synthase\n",
      "r_0373: s_0190[c] + s_0943[c] --> s_0189[c] + s_0633[c] | NAME: farnesyltranstransferase\n",
      "r_0373: s_0190[c] + s_0943[c] --> s_0189[c] + s_0633[c] | NAME: farnesyltranstransferase\n",
      "r_0461: s_0189[c] + s_0943[c] --> s_0633[c] + s_1311[c] | NAME: geranylgeranyltranstransferase\n",
      "r_0462: s_0745[c] + s_0943[c] --> s_0190[c] + s_0633[c] | NAME: geranyltranstransferase\n",
      "r_0355: s_0943[c] + s_1376[c] --> s_0633[c] + s_0745[c] | NAME: dimethylallyltranstransferase\n"
     ]
    }
   ],
   "source": [
    "react_stoich = list()\n",
    "for elem in our_reactions:\n",
    "    for r in elem:\n",
    "        print(r, '| NAME:', r.name)\n",
    "        stoich = str(r).split(' ')"
   ]
  },
  {
   "cell_type": "code",
   "execution_count": 206,
   "metadata": {},
   "outputs": [
    {
     "data": {
      "text/html": [
       "\n",
       "        <table>\n",
       "            <tr>\n",
       "                <td><strong>Reaction identifier</strong></td><td>r_0355</td>\n",
       "            </tr><tr>\n",
       "                <td><strong>Name</strong></td><td>dimethylallyltranstransferase</td>\n",
       "            </tr><tr>\n",
       "                <td><strong>Memory address</strong></td>\n",
       "                <td>0x07f8811de9e50</td>\n",
       "            </tr><tr>\n",
       "                <td><strong>Stoichiometry</strong></td>\n",
       "                <td>\n",
       "                    <p style='text-align:right'>s_0943[c] + s_1376[c] --> s_0633[c] + s_0745[c]</p>\n",
       "                    <p style='text-align:right'>isopentenyl diphosphate [cytoplasm] + prenyl diphosphate(3-) [cytoplasm] --> diphosphate [cytoplasm] + geranyl diphosphate [cytoplasm]</p>\n",
       "                </td>\n",
       "            </tr><tr>\n",
       "                <td><strong>GPR</strong></td><td>YJL167W</td>\n",
       "            </tr><tr>\n",
       "                <td><strong>Lower bound</strong></td><td>0.0</td>\n",
       "            </tr><tr>\n",
       "                <td><strong>Upper bound</strong></td><td>1000.0</td>\n",
       "            </tr>\n",
       "        </table>\n",
       "        "
      ],
      "text/plain": [
       "<Reaction r_0355 at 0x7f8811de9e50>"
      ]
     },
     "execution_count": 206,
     "metadata": {},
     "output_type": "execute_result"
    }
   ],
   "source": [
    "model.reactions.get_by_id('r_0355')"
   ]
  },
  {
   "cell_type": "code",
   "execution_count": 205,
   "metadata": {
    "scrolled": true
   },
   "outputs": [
    {
     "data": {
      "text/html": [
       "\n",
       "        <table>\n",
       "            <tr>\n",
       "                <td><strong>Reaction identifier</strong></td><td>r_0462</td>\n",
       "            </tr><tr>\n",
       "                <td><strong>Name</strong></td><td>geranyltranstransferase</td>\n",
       "            </tr><tr>\n",
       "                <td><strong>Memory address</strong></td>\n",
       "                <td>0x07f8811dbd940</td>\n",
       "            </tr><tr>\n",
       "                <td><strong>Stoichiometry</strong></td>\n",
       "                <td>\n",
       "                    <p style='text-align:right'>s_0745[c] + s_0943[c] --> s_0190[c] + s_0633[c]</p>\n",
       "                    <p style='text-align:right'>geranyl diphosphate [cytoplasm] + isopentenyl diphosphate [cytoplasm] --> farnesyl diphosphate [cytoplasm] + diphosphate [cytoplasm]</p>\n",
       "                </td>\n",
       "            </tr><tr>\n",
       "                <td><strong>GPR</strong></td><td>YJL167W</td>\n",
       "            </tr><tr>\n",
       "                <td><strong>Lower bound</strong></td><td>0.0</td>\n",
       "            </tr><tr>\n",
       "                <td><strong>Upper bound</strong></td><td>1000.0</td>\n",
       "            </tr>\n",
       "        </table>\n",
       "        "
      ],
      "text/plain": [
       "<Reaction r_0462 at 0x7f8811dbd940>"
      ]
     },
     "execution_count": 205,
     "metadata": {},
     "output_type": "execute_result"
    }
   ],
   "source": [
    "model.reactions.get_by_id('r_0462')"
   ]
  },
  {
   "cell_type": "code",
   "execution_count": 209,
   "metadata": {},
   "outputs": [
    {
     "data": {
      "text/html": [
       "\n",
       "        <table>\n",
       "            <tr>\n",
       "                <td><strong>Metabolite identifier</strong></td><td>s_0803[c]</td>\n",
       "            </tr><tr>\n",
       "                <td><strong>Name</strong></td><td>H2O [cytoplasm]</td>\n",
       "            </tr><tr>\n",
       "                <td><strong>Memory address</strong></td>\n",
       "                <td>0x07f882140fd30</td>\n",
       "            </tr><tr>\n",
       "                <td><strong>Formula</strong></td><td>H2O</td>\n",
       "            </tr><tr>\n",
       "                <td><strong>Compartment</strong></td><td>c</td>\n",
       "            </tr><tr>\n",
       "                <td><strong>In 366 reaction(s)</strong></td><td>\n",
       "                    r_4412, r_1722, r_4567, r_0013, r_0240, r_4407, r_0465, r_4160, r_0238, r_0524, r_0788, r_4569, r_3153, r_0954, r_3154, r_0703, r_4413, r_1723, r_4678, r_0328, r_0502, r_4583, r_0657, r_4571,...</td>\n",
       "            </tr>\n",
       "        </table>"
      ],
      "text/plain": [
       "<Metabolite s_0803[c] at 0x7f882140fd30>"
      ]
     },
     "execution_count": 209,
     "metadata": {},
     "output_type": "execute_result"
    }
   ],
   "source": [
    "model.metabolites.get_by_id('s_0803[c]')"
   ]
  },
  {
   "cell_type": "markdown",
   "metadata": {},
   "source": [
    "\n",
    "\n",
    "\n",
    "\n",
    "\n",
    "\n",
    "\n",
    "\n",
    "\n",
    "\n",
    "\n",
    "\n",
    "\n"
   ]
  },
  {
   "cell_type": "code",
   "execution_count": 213,
   "metadata": {
    "scrolled": true
   },
   "outputs": [
    {
     "name": "stdout",
     "output_type": "stream",
     "text": [
      "s_0687[c] FAD [cytoplasm]\n",
      "s_0688[m] FAD [mitochondrion]\n",
      "s_0689[c] FADH2 [cytoplasm]\n",
      "s_0690[m] FADH2 [mitochondrion]\n"
     ]
    }
   ],
   "source": [
    "for m in model.metabolites.query('FAD', 'name'):\n",
    "    print(m.id, m.name)"
   ]
  },
  {
   "cell_type": "code",
   "execution_count": 234,
   "metadata": {},
   "outputs": [
    {
     "data": {
      "text/html": [
       "\n",
       "        <table>\n",
       "            <tr>\n",
       "                <td><strong>Metabolite identifier</strong></td><td>s_0688[m]</td>\n",
       "            </tr><tr>\n",
       "                <td><strong>Name</strong></td><td>FAD [mitochondrion]</td>\n",
       "            </tr><tr>\n",
       "                <td><strong>Memory address</strong></td>\n",
       "                <td>0x07f882146bca0</td>\n",
       "            </tr><tr>\n",
       "                <td><strong>Formula</strong></td><td>C27H30N9O15P2</td>\n",
       "            </tr><tr>\n",
       "                <td><strong>Compartment</strong></td><td>m</td>\n",
       "            </tr><tr>\n",
       "                <td><strong>In 4 reaction(s)</strong></td><td>\n",
       "                    r_1790, r_0454, r_0940, r_0490</td>\n",
       "            </tr>\n",
       "        </table>"
      ],
      "text/plain": [
       "<Metabolite s_0688[m] at 0x7f882146bca0>"
      ]
     },
     "execution_count": 234,
     "metadata": {},
     "output_type": "execute_result"
    }
   ],
   "source": [
    "\n",
    "model.metabolites.get_by_id('s_0688[m]')"
   ]
  },
  {
   "cell_type": "code",
   "execution_count": 238,
   "metadata": {},
   "outputs": [
    {
     "data": {
      "text/html": [
       "\n",
       "        <table>\n",
       "            <tr>\n",
       "                <td><strong>Reaction identifier</strong></td><td>r_0490</td>\n",
       "            </tr><tr>\n",
       "                <td><strong>Name</strong></td><td>glycerol-3-phosphate dehydrogenase (fad)</td>\n",
       "            </tr><tr>\n",
       "                <td><strong>Memory address</strong></td>\n",
       "                <td>0x07f8811d0edf0</td>\n",
       "            </tr><tr>\n",
       "                <td><strong>Stoichiometry</strong></td>\n",
       "                <td>\n",
       "                    <p style='text-align:right'>s_0688[m] + s_0770[m] + s_0799[m] --> s_0632[m] + s_0690[m]</p>\n",
       "                    <p style='text-align:right'>FAD [mitochondrion] + glycerol 3-phosphate [mitochondrion] + H+ [mitochondrion] --> dihydroxyacetone phosphate [mitochondrion] + FADH2 [mitochondrion]</p>\n",
       "                </td>\n",
       "            </tr><tr>\n",
       "                <td><strong>GPR</strong></td><td>YIL155C</td>\n",
       "            </tr><tr>\n",
       "                <td><strong>Lower bound</strong></td><td>0.0</td>\n",
       "            </tr><tr>\n",
       "                <td><strong>Upper bound</strong></td><td>1000.0</td>\n",
       "            </tr>\n",
       "        </table>\n",
       "        "
      ],
      "text/plain": [
       "<Reaction r_0490 at 0x7f8811d0edf0>"
      ]
     },
     "execution_count": 238,
     "metadata": {},
     "output_type": "execute_result"
    }
   ],
   "source": [
    "model.reactions.get_by_id('r_0490')"
   ]
  },
  {
   "cell_type": "code",
   "execution_count": 55,
   "metadata": {},
   "outputs": [
    {
     "name": "stdout",
     "output_type": "stream",
     "text": [
      "Maximum productivity of lycopene = 0.17793200061522896 mmol/gDW*h\n",
      "Maximum theoretical yield = 0.17793200061522896 mmol-lyco/mmol-glc\n"
     ]
    }
   ],
   "source": [
    "with model:\n",
    "    model.objective = model.reactions.CrtI\n",
    "    lycopene_production = model.optimize().objective_value\n",
    "    print('Maximum productivity of lycopene =', lycopene_production, 'mmol/gDW*h')\n",
    "    \n",
    "    glc_uptake_flux = model.reactions.r_1714.flux\n",
    "    max_yield = lycopene_production / (-1*glc_uptake_flux)\n",
    "    print('Maximum theoretical yield =', max_yield, 'mmol-lyco/mmol-glc')"
   ]
  },
  {
   "cell_type": "markdown",
   "metadata": {},
   "source": [
    "We can then try to increase the glucose uptake as well as maximize lycopene production"
   ]
  },
  {
   "cell_type": "code",
   "execution_count": 83,
   "metadata": {},
   "outputs": [
    {
     "name": "stdout",
     "output_type": "stream",
     "text": [
      "r_1654 | ammonium exchange \t flux = \t 1000.0\n",
      "r_1714 | D-glucose exchange \t flux = \t 1.0\n",
      "r_1832 | H+ exchange \t flux = \t 1000.0\n",
      "r_1861 | iron(2+) exchange \t flux = \t 1000.0\n",
      "r_1992 | oxygen exchange \t flux = \t 1000.0\n",
      "r_2005 | phosphate exchange \t flux = \t 1000.0\n",
      "r_2020 | potassium exchange \t flux = \t 1000.0\n",
      "r_2049 | sodium exchange \t flux = \t 1000.0\n",
      "r_2060 | sulphate exchange \t flux = \t 1000.0\n",
      "r_2100 | water exchange \t flux = \t 1000.0\n",
      "r_4593 | chloride exchange \t flux = \t 1000.0\n",
      "r_4594 | Cu2(+) exchange \t flux = \t 1000.0\n",
      "r_4595 | Mn(2+) exchange \t flux = \t 1000.0\n",
      "r_4596 | Zn(2+) exchange \t flux = \t 1000.0\n",
      "r_4597 | Mg(2+) exchange \t flux = \t 1000.0\n",
      "r_4600 | Ca(2+) exchange \t flux = \t 1000.0\n"
     ]
    }
   ],
   "source": [
    "for i in model.medium.items():\n",
    "    print(i[0], '|', model.reactions.get_by_id(i[0]).name, '\\t flux = \\t', i[1])"
   ]
  },
  {
   "cell_type": "code",
   "execution_count": 91,
   "metadata": {},
   "outputs": [
    {
     "data": {
      "text/html": [
       "\n",
       "        <table>\n",
       "            <tr>\n",
       "                <td><strong>Reaction identifier</strong></td><td>CrtI</td>\n",
       "            </tr><tr>\n",
       "                <td><strong>Name</strong></td><td></td>\n",
       "            </tr><tr>\n",
       "                <td><strong>Memory address</strong></td>\n",
       "                <td>0x07f882153e910</td>\n",
       "            </tr><tr>\n",
       "                <td><strong>Stoichiometry</strong></td>\n",
       "                <td>\n",
       "                    <p style='text-align:right'>phyto + 4 s_1198[c] --> lyco + 4 s_1203[c]</p>\n",
       "                    <p style='text-align:right'>Phytoene + 4 NAD [cytoplasm] --> Lycopene + 4 NADH [cytoplasm]</p>\n",
       "                </td>\n",
       "            </tr><tr>\n",
       "                <td><strong>GPR</strong></td><td></td>\n",
       "            </tr><tr>\n",
       "                <td><strong>Lower bound</strong></td><td>0.0</td>\n",
       "            </tr><tr>\n",
       "                <td><strong>Upper bound</strong></td><td>1000.0</td>\n",
       "            </tr>\n",
       "        </table>\n",
       "        "
      ],
      "text/plain": [
       "<Reaction CrtI at 0x7f882153e910>"
      ]
     },
     "execution_count": 91,
     "metadata": {},
     "output_type": "execute_result"
    }
   ],
   "source": [
    "model.reactions.CrtI"
   ]
  },
  {
   "cell_type": "code",
   "execution_count": 90,
   "metadata": {},
   "outputs": [
    {
     "name": "stdout",
     "output_type": "stream",
     "text": [
      "Setting glucose uptake rate to: 10\n",
      "Maximum theoretical growth rate: 0.8637367930478762 h-1 \n",
      "\n",
      "Setting glucose uptake rate to: 20\n",
      "Maximum theoretical growth rate: 1.7303913341660815 h-1 \n",
      "\n",
      "Setting glucose uptake rate to: 30\n",
      "Maximum theoretical growth rate: 2.597045875284299 h-1 \n",
      "\n",
      "Setting glucose uptake rate to: 100\n",
      "Maximum theoretical growth rate: 8.663627663111763 h-1 \n",
      "\n",
      "Setting glucose uptake rate to: 1000\n",
      "Maximum theoretical growth rate: 19.816830259464354 h-1 \n",
      "\n",
      "Maximum theoretical productivity of lycopene = 0.17793200061522835 mmol/gDW*h\n"
     ]
    }
   ],
   "source": [
    "medium = model.medium\n",
    "for uptake_rate in (10, 20, 30, 100, 1000):\n",
    "    print('Setting glucose uptake rate to:', uptake_rate)\n",
    "    with model:\n",
    "        medium['r_1714'] = uptake_rate\n",
    "        model.medium = medium\n",
    "        max_growth = model.optimize().objective_value\n",
    "        print('Maximum theoretical growth rate:', max_growth, 'h-1 \\n')\n",
    "        \n",
    "with model:\n",
    "    medium['r_1714'] = 1000\n",
    "    model.objective = model.reactions.CrtI\n",
    "    lyco_prod = model.optimize().objective_value\n",
    "    print('Maximum theoretical productivity of lycopene =', lyco_prod, 'mmol/gDW*h')\n",
    "        "
   ]
  },
  {
   "cell_type": "markdown",
   "metadata": {},
   "source": [
    "<div class=\"alert alert-danger\" role=\"alert\">\n",
    "        NO change in production of lycopene when glucose uptake maximized!\n",
    "</div>\n"
   ]
  },
  {
   "cell_type": "code",
   "execution_count": 114,
   "metadata": {},
   "outputs": [
    {
     "name": "stdout",
     "output_type": "stream",
     "text": [
      "r_0045 3-hydroxy-L-kynurenine hydrolase\n",
      "r_0069 4-hydroxy-L-threonine synthase\n",
      "r_0672 L-1-pyrroline-3-hydroxy-5-carboxylate dehydrogenase\n",
      "r_0673 L-4-hydroxyglutamate semialdehyde dehydrogenase\n",
      "r_0674 L-alanine transaminase\n",
      "r_0675 L-allo-threonine aldolase\n",
      "r_0676 L-allo-threonine dehydrogenase\n",
      "r_0678 L-aminoadipate-semialdehyde dehydrogenase (NADPH)\n",
      "r_0679 L-asparaginase\n",
      "r_0680 L-asparaginase\n",
      "r_0681 L-erythro-4-hydroxyglutamate:2-oxoglutarate aminotransferase\n",
      "r_0682 L-erythro-4-hydroxyglutamate:2-oxoglutarate aminotransferase\n",
      "r_0683 L-erythro-4-hydroxyglutamate:2-oxoglutarate aminotransferase\n",
      "r_0687 L-hydroxyproline reductase (NADP)\n",
      "r_0688 L-lactaldehyde:NADP+ 1-oxidoreductase\n",
      "r_0689 L-serine deaminase\n",
      "r_0690 L-serine dehydrogenase\n",
      "r_0691 L-sorbitol dehydrogenase (L-sorbose-producing)\n",
      "r_0692 L-threonine deaminase\n",
      "r_0693 L-threonine deaminase\n",
      "r_0694 L-tryptophan:oxygen 2,3-oxidoreductase (decyclizing)\n",
      "r_0695 L-tyrosine N-formyltransferase\n",
      "r_0762 N-formyl-L-kynurenine amidohydrolase\n",
      "r_0815 O-succinylhomoserine lyase (L-cysteine)\n",
      "r_0917 phosphoserine phosphatase (L-serine)\n",
      "r_0985 S-adenosyl-L-methionine:3-hexaprenyl-4,5-dihydroxylate O-methyltransferase\n",
      "r_0988 saccharopine dehydrogenase (NAD, L-lysine forming)\n",
      "r_0989 saccharopine dehydrogenase (NADP, L-glutamate forming)\n",
      "r_1031 tetrahydrofolate:L-glutamate gamma-ligase (ADP-forming)\n",
      "r_1183 L-alanine transport\n",
      "r_1184 L-arganine transport\n",
      "r_1185 L-arganine transport\n",
      "r_1186 L-asparagine transport\n",
      "r_1187 L-asparagine transport\n",
      "r_1188 L-aspartate transport\n",
      "r_1189 L-aspartate transport\n",
      "r_1190 L-aspartate transport\n",
      "r_1191 L-carnitine transport\n",
      "r_1192 L-cystine transport\n",
      "r_1193 L-cystine transport\n",
      "r_1194 L-glutamate transport\n",
      "r_1195 L-glutamate transport\n",
      "r_1196 L-glutamate transport\n",
      "r_1197 L-glutamine transport\n",
      "r_1198 L-glutamine transport\n",
      "r_1199 L-glutamine transport\n",
      "r_1200 L-histidine transport, vacuolar\n",
      "r_1201 L-histidine transport\n",
      "r_1202 L-isoleucine transport\n",
      "r_1203 L-isoleucine transport\n",
      "r_1204 L-isoleucine transport\n",
      "r_1205 L-isoleucine transport\n",
      "r_1206 L-lactate transport\n",
      "r_1207 L-lactate transport\n",
      "r_1208 L-leucine transport, vacuoluar\n",
      "r_1209 L-leucine transport, vacuoluar\n",
      "r_1210 L-leucine transport, vacuoluar\n",
      "r_1211 L-leucine transport\n",
      "r_1212 L-lysine transport\n",
      "r_1213 L-lysine transport\n",
      "r_1214 L-methionine transport\n",
      "r_1215 L-phenylalanine transport\n",
      "r_1216 L-proline transport\n",
      "r_1217 L-serine transport\n",
      "r_1218 L-threonine transport\n",
      "r_1219 L-tryptophan transport\n",
      "r_1220 L-tyrosine transport\n",
      "r_1221 L-tyrosine transport\n",
      "r_1222 L-tyrosine transport\n",
      "r_1223 L-tyrosine transport\n",
      "r_1224 L-valine transport\n",
      "r_1255 S-adenosyl-L-methionine transport\n",
      "r_1256 S-adenosyl-L-methionine transport\n",
      "r_3979 phosphatidyl-L-serine (1-16:0, 2-16:1) [endoplasmic reticulum membrane] SLIME rxn\n",
      "r_3980 phosphatidyl-L-serine (1-16:1, 2-16:1) [endoplasmic reticulum membrane] SLIME rxn\n",
      "r_3981 phosphatidyl-L-serine (1-18:0, 2-16:1) [endoplasmic reticulum membrane] SLIME rxn\n",
      "r_3982 phosphatidyl-L-serine (1-18:1, 2-16:1) [endoplasmic reticulum membrane] SLIME rxn\n",
      "r_3983 phosphatidyl-L-serine (1-16:0, 2-18:1) [endoplasmic reticulum membrane] SLIME rxn\n",
      "r_3984 phosphatidyl-L-serine (1-16:1, 2-18:1) [endoplasmic reticulum membrane] SLIME rxn\n",
      "r_3985 phosphatidyl-L-serine (1-18:0, 2-18:1) [endoplasmic reticulum membrane] SLIME rxn\n",
      "r_3986 phosphatidyl-L-serine (1-18:1, 2-18:1) [endoplasmic reticulum membrane] SLIME rxn\n",
      "r_1810 L-glycine exchange\n",
      "r_1837 L-histidine transport, mitochondrial\n",
      "r_1871 L-1-pyrroline-3-hydroxy-5-carboxylate spontaneous conversion to L-4-hydroxyglutamate semialdehyde\n",
      "r_1872 L-2-amino-3-oxobutanoate decarboxylation (spontaneous)\n",
      "r_1873 L-alanine exchange\n",
      "r_1874 L-alanine transport\n",
      "r_1875 L-arabinitol exchange\n",
      "r_1876 L-arabinitol transport\n",
      "r_1877 L-arabinoase transport\n",
      "r_1878 L-arabinose exchange\n",
      "r_1879 L-arginine exchange\n",
      "r_1880 L-asparagine exchange\n",
      "r_1881 L-aspartate exchange\n",
      "r_1882 L-carnitine transport\n",
      "r_1883 L-cysteine exchange\n",
      "r_1884 L-erythro-4-hydroxyglutamate transport\n",
      "r_1885 L-erythro-4-hydroxyglutamate transport\n",
      "r_1886 L-glucitol exchange\n",
      "r_1887 L-glutamate 5-semialdehyde dehydratase\n",
      "r_1889 L-glutamate exchange\n",
      "r_1890 L-glutamate transport\n",
      "r_1891 L-glutamine exchange\n",
      "r_1892 L-glutamine transport\n",
      "r_1893 L-histidine exchange\n",
      "r_1895 L-homoserine transport\n",
      "r_1896 L-homoserine exchange\n",
      "r_1897 L-isoleucine exchange\n",
      "r_1898 L-isoleucine transport\n",
      "r_1899 L-leucine exchange\n",
      "r_1900 L-lysine exchange\n",
      "r_1901 L-malate transport\n",
      "r_1902 L-methionine exchange\n",
      "r_1903 L-phenylalanine exchange\n",
      "r_1904 L-proline exchange\n",
      "r_1905 L-proline transport\n",
      "r_1906 L-serine exchange\n",
      "r_1907 L-serine transport\n",
      "r_1908 L-sorbitol transport\n",
      "r_1909 L-sorbose exchange\n",
      "r_1910 L-sorbose transport\n",
      "r_1911 L-threonine exchange\n",
      "r_1912 L-tryptophan exchange\n",
      "r_1913 L-tyrosine exchange\n",
      "r_1914 L-valine exchange\n",
      "r_2042 S-adenosyl-L-homocysteine transport\n",
      "r_2043 S-adenosyl-L-methionine exchange\n",
      "r_2044 S-methyl-L-methionine exchange\n",
      "r_3545 L-serine transport, cytoplasm-ER membrane\n",
      "r_3547 S-adenosyl-L-methionine transport, cytoplasm-ER membrane\n",
      "r_3548 S-adenosyl-L-homocysteine transport, cytoplasm-ER membrane\n",
      "r_3765 phosphatidyl-L-serine (1-16:0, 2-16:1) transport, ER membrane-mitochondrial membrane\n",
      "r_3766 phosphatidyl-L-serine (1-16:1, 2-16:1) transport, ER membrane-mitochondrial membrane\n",
      "r_3767 phosphatidyl-L-serine (1-18:0, 2-16:1) transport, ER membrane-mitochondrial membrane\n",
      "r_3768 phosphatidyl-L-serine (1-18:1, 2-16:1) transport, ER membrane-mitochondrial membrane\n",
      "r_3769 phosphatidyl-L-serine (1-16:0, 2-18:1) transport, ER membrane-mitochondrial membrane\n",
      "r_3770 phosphatidyl-L-serine (1-16:1, 2-18:1) transport, ER membrane-mitochondrial membrane\n",
      "r_3771 phosphatidyl-L-serine (1-18:0, 2-18:1) transport, ER membrane-mitochondrial membrane\n",
      "r_3772 phosphatidyl-L-serine (1-18:1, 2-18:1) transport, ER membrane-mitochondrial membrane\n",
      "r_3813 phosphatidyl-L-serine (1-16:0, 2-16:1) transport, ER membrane-Golgi membrane\n",
      "r_3814 phosphatidyl-L-serine (1-16:1, 2-16:1) transport, ER membrane-Golgi membrane\n",
      "r_3815 phosphatidyl-L-serine (1-18:0, 2-16:1) transport, ER membrane-Golgi membrane\n",
      "r_3816 phosphatidyl-L-serine (1-18:1, 2-16:1) transport, ER membrane-Golgi membrane\n",
      "r_3817 phosphatidyl-L-serine (1-16:0, 2-18:1) transport, ER membrane-Golgi membrane\n",
      "r_3818 phosphatidyl-L-serine (1-16:1, 2-18:1) transport, ER membrane-Golgi membrane\n",
      "r_3819 phosphatidyl-L-serine (1-18:0, 2-18:1) transport, ER membrane-Golgi membrane\n",
      "r_3820 phosphatidyl-L-serine (1-18:1, 2-18:1) transport, ER membrane-Golgi membrane\n",
      "r_3845 phosphatidyl-L-serine (1-16:0, 2-16:1) transport, ER membrane-vacuolar membrane\n",
      "r_3846 phosphatidyl-L-serine (1-16:1, 2-16:1) transport, ER membrane-vacuolar membrane\n",
      "r_3847 phosphatidyl-L-serine (1-18:0, 2-16:1) transport, ER membrane-vacuolar membrane\n",
      "r_3848 phosphatidyl-L-serine (1-18:1, 2-16:1) transport, ER membrane-vacuolar membrane\n",
      "r_3849 phosphatidyl-L-serine (1-16:0, 2-18:1) transport, ER membrane-vacuolar membrane\n",
      "r_3850 phosphatidyl-L-serine (1-16:1, 2-18:1) transport, ER membrane-vacuolar membrane\n",
      "r_3851 phosphatidyl-L-serine (1-18:0, 2-18:1) transport, ER membrane-vacuolar membrane\n",
      "r_3852 phosphatidyl-L-serine (1-18:1, 2-18:1) transport, ER membrane-vacuolar membrane\n",
      "r_3893 phosphatidyl-L-serine (1-16:0, 2-16:1) transport, ER membrane-cell envelope\n",
      "r_3894 phosphatidyl-L-serine (1-16:1, 2-16:1) transport, ER membrane-cell envelope\n",
      "r_3895 phosphatidyl-L-serine (1-18:0, 2-16:1) transport, ER membrane-cell envelope\n",
      "r_3896 phosphatidyl-L-serine (1-18:1, 2-16:1) transport, ER membrane-cell envelope\n",
      "r_3897 phosphatidyl-L-serine (1-16:0, 2-18:1) transport, ER membrane-cell envelope\n",
      "r_3898 phosphatidyl-L-serine (1-16:1, 2-18:1) transport, ER membrane-cell envelope\n",
      "r_3899 phosphatidyl-L-serine (1-18:0, 2-18:1) transport, ER membrane-cell envelope\n",
      "r_3900 phosphatidyl-L-serine (1-18:1, 2-18:1) transport, ER membrane-cell envelope\n",
      "r_3987 phosphatidyl-L-serine transport, ER membrane-cytoplasm\n",
      "r_4173 L-cysteine:sulfur-acceptor sulfurtransferase\n",
      "r_4186 L-methionine:thioredoxin-disulfide S-oxidoreductase\n",
      "r_4187 L-proline:tRNA(Pro) ligase (AMP-forming)\n",
      "r_4193 S-Adenosyl-L-methionine:histone-L-lysine N6-methyltransferase\n",
      "r_4202 L-methionine:oxidized-thioredoxin S-oxidoreductase\n",
      "r_4205 5-oxo-L-proline amidohydrolase (ATP-hydrolysing)\n",
      "r_4206 threo-3-hydroxy-L-aspartate ammonia-lyase\n",
      "r_4214 L-cysteinylglycine dipeptidase\n",
      "r_4226 L-Alanine:2-oxoglutarate aminotransferase\n",
      "r_4233 S-Adenosyl-L-methionine:protein-C-terminal-S-farnesyl-L-cysteine O-methyltransferase\n",
      "r_4239 L-arginyl-tRNA(Arg):protein arginyltransferase\n",
      "r_4247 ATP:L-threonyl,bicarbonate adenylyltransferase\n",
      "r_4249 O3-acetyl-L-serine:hydrogen-sulfide 2-amino-2-carboxyethyltransferase; O3-acetyl-L-serine acetate-lyase (adding hydrogen sulfide)\n",
      "r_4258 [lipoyl-carrier protein]-L-lysine:lipoate ligase (AMP-forming)\n",
      "r_4274 O-Succinyl-L-homoserine succinate-lyase (deaminating; 2-oxobutanoate-forming)\n",
      "r_4312 S-adenosyl-L-methionine:carnosine N-methyltransferase\n",
      "r_4343 L-Threonine phosphate transport in via proton symport\n",
      "r_4366 ATP:L-arginine Nomega-phosphotransferase\n",
      "r_4367 L-arginine phosphate transport in/out via proton symport\n",
      "r_4374 3-Sulfino-L-alanine 4-carboxy-lyase\n",
      "r_4375 3-Sulfino-L-alanine transport via proton antiport\n",
      "r_4387 ala-L-asp-L transport via proton symport\n",
      "r_4397 N-Acyl-Aliphatic-L-Amino Acid Amidohydrolase\n",
      "r_4399 L-alanyl-L-glutamate transport in via proton symport\n",
      "r_4408 L-alanyl-L-glutamate transport in via proton symport\n",
      "r_4409 L-alanyl-gamma-L-glutamate peptidase\n",
      "r_4411 L-cysteate bisulfite-lyase (deaminating)\n",
      "r_4419 L-Cysteate transport via proton symport\n",
      "r_4431 ala-L-asp-L transport via proton symport\n",
      "r_4440 L-methionine transport, vacuoluar\n",
      "r_4441 L-threonine transport, vacuoluar\n",
      "r_4450 O-Phospho-L-serine transport in via proton symport\n",
      "r_4469 L-Citrulline transport in via proton symport\n",
      "r_4473 L-alanylglycine transport via proton antiport\n",
      "r_4474 L-alanylglycine transport via proton antiport\n",
      "r_4475 N-acetyl-L-glutamate transport\n",
      "r_4476 N-acetyl-L-glutamate transport\n",
      "r_4478 L-methionine S-oxide transport via diffusion (extracellular)\n",
      "r_4482 L-alanine transport in via proton symport\n",
      "r_4484 O4-succinyl-L-homoserine:hydrogen sulfide S-(3-amino-3-carboxypropyl)transferase; O-succinyl-L-homoserine succinate-lyase (adding hydrogen sulfide)\n",
      "r_4489 L-arabinitol:NAD+ 4-oxidoreductase (L-xylulose-forming)\n",
      "r_4490 Xylitol:NADP+ 4-oxidoreductase (L-xylulose-forming)\n",
      "r_4519 L-citrulline exchange\n",
      "r_4530 N(omega)-phospho-L-arginine exchange\n",
      "r_4541 O(4)-phospho-L-tyrosine exchange\n",
      "r_4542 O-phospho-L-threonine exchange\n",
      "r_4549 N(alpha)-acetyl-L-methionine exchange\n",
      "r_4550 L-Methionine S-oxide exchange\n",
      "r_4551 3-sulfino-L-alanine exchange\n",
      "r_4552 N-acetyl-L-cysteine exchange\n",
      "r_4553 L-cysteate exchange\n",
      "r_4556 N-acetyl-L-glutamate exchange\n",
      "r_4615 L-glutamine transport\n",
      "r_4617 S-adenosyl-L-methionine transport\n",
      "r_4621 O-acetyl-L-serine transport\n",
      "r_4623 L-cysteinylglycine transport\n"
     ]
    }
   ],
   "source": [
    "for r in model.reactions.query('L-', 'name'):\n",
    "    print(r.id, r.name)"
   ]
  },
  {
   "cell_type": "code",
   "execution_count": 115,
   "metadata": {},
   "outputs": [
    {
     "data": {
      "text/html": [
       "\n",
       "        <table>\n",
       "            <tr>\n",
       "                <td><strong>Reaction identifier</strong></td><td>r_0002</td>\n",
       "            </tr><tr>\n",
       "                <td><strong>Name</strong></td><td>(R)-lactate:ferricytochrome-c 2-oxidoreductase</td>\n",
       "            </tr><tr>\n",
       "                <td><strong>Memory address</strong></td>\n",
       "                <td>0x07f881200fa90</td>\n",
       "            </tr><tr>\n",
       "                <td><strong>Stoichiometry</strong></td>\n",
       "                <td>\n",
       "                    <p style='text-align:right'>s_0027[m] + 2.0 s_0709[m] --> 2.0 s_0710[m] + s_1401[m]</p>\n",
       "                    <p style='text-align:right'>(R)-lactate [mitochondrion] + 2.0 ferricytochrome c [mitochondrion] --> 2.0 ferrocytochrome c [mitochondrion] + pyruvate [mitochondrion]</p>\n",
       "                </td>\n",
       "            </tr><tr>\n",
       "                <td><strong>GPR</strong></td><td>( YDL178W and YEL039C ) or ( YDL178W and YJR048W )</td>\n",
       "            </tr><tr>\n",
       "                <td><strong>Lower bound</strong></td><td>0.0</td>\n",
       "            </tr><tr>\n",
       "                <td><strong>Upper bound</strong></td><td>1000.0</td>\n",
       "            </tr>\n",
       "        </table>\n",
       "        "
      ],
      "text/plain": [
       "<Reaction r_0002 at 0x7f881200fa90>"
      ]
     },
     "execution_count": 115,
     "metadata": {},
     "output_type": "execute_result"
    }
   ],
   "source": [
    "model.reactions[1]"
   ]
  }
 ],
 "metadata": {
  "kernelspec": {
   "display_name": "Python 3",
   "language": "python",
   "name": "python3"
  },
  "language_info": {
   "codemirror_mode": {
    "name": "ipython",
    "version": 3
   },
   "file_extension": ".py",
   "mimetype": "text/x-python",
   "name": "python",
   "nbconvert_exporter": "python",
   "pygments_lexer": "ipython3",
   "version": "3.8.5"
  }
 },
 "nbformat": 4,
 "nbformat_minor": 4
}
