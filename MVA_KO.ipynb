{
 "cells": [
  {
   "cell_type": "markdown",
   "metadata": {},
   "source": [
    "# Knocking out the MVA pathway"
   ]
  },
  {
   "cell_type": "markdown",
   "metadata": {},
   "source": [
    "The MVA pathway is endogenous to the yeast model. In order to knock out this pathway completely to prevent any possible formation of lycopene, we knocked out reactions specific to lycopene synthesis and not involved with any metabolic processes. (R)-5-diphosphomevalonic acid is a key intermediate within lycopene production that is converted into IPP. We knocked out reactions r_0739 and r_0904 which involve converting (R)-5-diphosphomevalonic acid into IPP, which shuts down lycopene synthesis. IPP is specific to secondary metabolite synthesis and plays no role in metabolism.  "
   ]
  },
  {
   "cell_type": "markdown",
   "metadata": {},
   "source": [
    "###  Turning off (R)-5-diphosphomevalonic acid conversion to IPP is key to turn off lycopene production\n",
    "All reactions in the lycopene synthesis path were investigated to determine reactions that would turn off lycopene production but have no effect on metabolism. The prevention of reactions involving (R)-5-diphosphomevalonic acid seemed most promising. This intermediate in lycopene synthesis is only involved in two reactions r_0739 and r_0904 (unlike other intermediates in lycopene synthesis which are involved in many reactions). Reaction r_0739 involves converting (R)-5-diphosphomevalonic acid into IPP and CO2 using ATP. Reaction r_0904 apparently only involves burning ATP (look at the stoichiometry in the last cell of this section below)."
   ]
  },
  {
   "cell_type": "markdown",
   "metadata": {},
   "source": [
    "for m in model.metabolites.query(\"C6H10O10P2\", 'formula'):\n",
    "       print(m, m.name)\n",
    "<br />s_0018[c] (R)-5-diphosphomevalonic acid [cytoplasm]"
   ]
  },
  {
   "cell_type": "markdown",
   "metadata": {},
   "source": [
    "**model.metabolites.get_by_id('s_0018[c]')**\n",
    "<br />Name\t(R)-5-diphosphomevalonic acid [cytoplasm]\n",
    "<br />In 2 reaction(s)\tr_0904, r_0739"
   ]
  },
  {
   "cell_type": "markdown",
   "metadata": {},
   "source": [
    "**model.reactions.get_by_id('r_0739')**\n",
    "<br />mevalonate pyrophoshate decarboxylase\n",
    "<br />s_0018[c] + s_0434[c] --> IPP + s_0394[c] + s_0456[c] + s_1322[c]\n",
    "<br />(R)-5-diphosphomevalonic acid [cytoplasm] + ATP [cytoplasm] --> isopentenyl diphosphate [cytoplasm] + ADP [cytoplasm] + carbon dioxide [cytoplasm] + phosphate [cytoplasm]"
   ]
  },
  {
   "cell_type": "markdown",
   "metadata": {},
   "source": [
    "**model.reactions.get_by_id('r_0904')**\n",
    "<br /> s_0019[c] + s_0434[c] --> s_0018[c] + s_0394[c]\n",
    "<br /> (R)-5-phosphomevalonic acid [cytoplasm] + ATP [cytoplasm] --> (R)-5-diphosphomevalonic acid [cytoplasm] + ADP [cytoplasm]"
   ]
  },
  {
   "cell_type": "markdown",
   "metadata": {},
   "source": [
    "### Prevention of IPP formation should shut down only lycopene production and not metabolism\n",
    "Listed below are all reactions that IPP is involved with in the model. IPP synthesis occurs only when (R)-5-diphosphomevalonic acid [cytoplasm] + ATP [cytoplasm] are used as substrates. All reactions in the model that use IPP as a substrate result in the synthesis of intermediates of secondary metabolite terpenes, not with metabolism. Thus, blocking the formation of IPP should not affect cellular metabolism but only prevent the formation of lycopene and secondary metabolites. We should see no lycopene production and no change in biomass formation when IPP formation is prevented by blocking the two reactions in the model that result in the synthesis of (R)-5-diphosphomevalonic acid."
   ]
  },
  {
   "cell_type": "markdown",
   "metadata": {},
   "source": [
    "model.metabolites.get_by_id('IPP')\n",
    "r_0667, r_0462, r_0373, r_0739, r_0461, r_1182, r_0355"
   ]
  },
  {
   "cell_type": "markdown",
   "metadata": {},
   "source": [
    "model.reactions.get_by_id('r_0667')\n",
    "isopentenyl diphosphate [cytoplasm] <=> prenyl diphosphate(3-) [cytoplasm]"
   ]
  },
  {
   "cell_type": "markdown",
   "metadata": {},
   "source": [
    "model.reactions.get_by_id('r_0462')\n",
    "isopentenyl diphosphate [cytoplasm] + geranyl diphosphate [cytoplasm] --> farnesyl diphosphate [cytoplasm] + diphosphate [cytoplasm]"
   ]
  },
  {
   "cell_type": "markdown",
   "metadata": {},
   "source": [
    "model.reactions.get_by_id('r_0739')\n",
    "(R)-5-diphosphomevalonic acid [cytoplasm] + ATP [cytoplasm] --> isopentenyl diphosphate [cytoplasm] + ADP [cytoplasm] + carbon dioxide [cytoplasm] + phosphate [cytoplasm]"
   ]
  },
  {
   "cell_type": "markdown",
   "metadata": {},
   "source": [
    "model.reactions.get_by_id('r_0373')\n",
    "isopentenyl diphosphate [cytoplasm] + farnesyl diphosphate [cytoplasm] --> geranylgeranyl diphosphate [cytoplasm] + diphosphate [cytoplasm]"
   ]
  },
  {
   "cell_type": "markdown",
   "metadata": {},
   "source": [
    "model.reactions.get_by_id('r_1182')\n",
    "isopentenyl diphosphate [cytoplasm] <=> isopentenyl diphosphate [mitochondrion]"
   ]
  },
  {
   "cell_type": "markdown",
   "metadata": {},
   "source": [
    "model.reactions.get_by_id('r_0461')\n",
    "isopentenyl diphosphate [cytoplasm] + geranylgeranyl diphosphate [cytoplasm] --> diphosphate [cytoplasm] + pentaprenyl diphosphate [cytoplasm]"
   ]
  },
  {
   "cell_type": "markdown",
   "metadata": {},
   "source": [
    "model.reactions.get_by_id('r_0355')\n",
    "isopentenyl diphosphate [cytoplasm] + prenyl diphosphate(3-) [cytoplasm] --> diphosphate [cytoplasm] + geranyl diphosphate [cytoplasm]"
   ]
  },
  {
   "cell_type": "markdown",
   "metadata": {},
   "source": [
    "# The Coding"
   ]
  },
  {
   "cell_type": "markdown",
   "metadata": {},
   "source": [
    "**Loading the GSM with no modifications**"
   ]
  },
  {
   "cell_type": "code",
   "execution_count": 1,
   "metadata": {},
   "outputs": [],
   "source": [
    "from cobra.io import read_sbml_model\n",
    "from cobra import Reaction, Metabolite, Model\n",
    "\n",
    "model = read_sbml_model('GSM_no_additions.xml')"
   ]
  },
  {
   "cell_type": "markdown",
   "metadata": {},
   "source": [
    "**Defining metabolites to be incorporated in lycopene pathway**\n",
    "\n",
    "As well as renaming metabolite IDs for convenience"
   ]
  },
  {
   "cell_type": "code",
   "execution_count": 2,
   "metadata": {},
   "outputs": [],
   "source": [
    "ipp = model.metabolites.get_by_id('s_0943[c]') # IPP already in model\n",
    "ipp.id = \"IPP\""
   ]
  },
  {
   "cell_type": "code",
   "execution_count": 3,
   "metadata": {},
   "outputs": [],
   "source": [
    "dmapp = model.metabolites.get_by_id('s_1376[c]') # DMAPP is denoted as \"prenyl diphosphate (3-)\" in the model\n",
    "dmapp.id = \"DMAPP\""
   ]
  },
  {
   "cell_type": "code",
   "execution_count": 4,
   "metadata": {},
   "outputs": [],
   "source": [
    "gpp = model.metabolites.get_by_id('s_0745[c]') # Geranyl-PP already in model\n",
    "gpp.id = \"GPP\""
   ]
  },
  {
   "cell_type": "code",
   "execution_count": 5,
   "metadata": {},
   "outputs": [],
   "source": [
    "farnpp = model.metabolites.get_by_id('s_0190[c]') # Farnesyl-PP already in model\n",
    "farnpp.id = \"FPP\""
   ]
  },
  {
   "cell_type": "code",
   "execution_count": 6,
   "metadata": {},
   "outputs": [],
   "source": [
    "ggpp = model.metabolites.get_by_id('s_0189[c]') # GGPP is already found naturally in model as metabolite s_0189[c]\n",
    "ggpp.id = \"GGPP\""
   ]
  },
  {
   "cell_type": "code",
   "execution_count": 7,
   "metadata": {},
   "outputs": [],
   "source": [
    "phytoene = Metabolite(id='phytoene', compartment = 'c', name='Phytoene', formula = 'C40H64')"
   ]
  },
  {
   "cell_type": "code",
   "execution_count": 8,
   "metadata": {},
   "outputs": [],
   "source": [
    "lycopene = Metabolite(id='lycopene', compartment = 'c', name='Lycopene', formula='C40H56')"
   ]
  },
  {
   "cell_type": "code",
   "execution_count": 9,
   "metadata": {},
   "outputs": [],
   "source": [
    "# Readily available variables for our reactions\n",
    "\n",
    "NAD = model.metabolites.get_by_id('s_1198[c]')\n",
    "NAD.id = \"NAD_c\"\n",
    "\n",
    "NADH = model.metabolites.get_by_id('s_1203[c]')\n",
    "NADH.id = \"NADH_c\"\n",
    "\n",
    "FAD = model.metabolites.get_by_id('s_0687[c]') \n",
    "FAD.id = \"FAD_c\"\n",
    "\n",
    "FADH2 = model.metabolites.get_by_id('s_0689[c]') \n",
    "FADH2.id = \"FADH2_c\"\n",
    "\n",
    "O2 = model.metabolites.get_by_id('s_1275[c]')\n",
    "O2.id = \"O2_c\"\n",
    "\n",
    "H2O = model.metabolites.get_by_id('s_0803[c]')\n",
    "H2O.id = \"H2O_c\"\n",
    "\n",
    "diphosphate = model.metabolites.get_by_id('s_0633[c]')\n",
    "diphosphate.id = \"PPi_c\""
   ]
  },
  {
   "cell_type": "code",
   "execution_count": 10,
   "metadata": {},
   "outputs": [],
   "source": [
    "# To fix potential problems with indexes the following command is used from the cobra.py package documentation\n",
    "model.repair()"
   ]
  },
  {
   "cell_type": "markdown",
   "metadata": {},
   "source": [
    "**Defining reactions of lycopene pathway**\n",
    "\n",
    "Again, renaming reactions for our convience"
   ]
  },
  {
   "cell_type": "code",
   "execution_count": 11,
   "metadata": {},
   "outputs": [],
   "source": [
    "isopentenyl_diphosphate_delta_isomerase = model.reactions.get_by_id('r_0667')\n",
    "isopentenyl_diphosphate_delta_isomerase.id = \"IDI\""
   ]
  },
  {
   "cell_type": "code",
   "execution_count": 12,
   "metadata": {},
   "outputs": [],
   "source": [
    "gp_synthase = model.reactions.get_by_id('r_0355')\n",
    "gp_synthase.id = \"GP_synth\""
   ]
  },
  {
   "cell_type": "code",
   "execution_count": 13,
   "metadata": {},
   "outputs": [],
   "source": [
    "farnpp_synthase = model.reactions.get_by_id('r_0462')\n",
    "farnpp_synthase.id = \"FPP_synth\""
   ]
  },
  {
   "cell_type": "code",
   "execution_count": 14,
   "metadata": {},
   "outputs": [],
   "source": [
    "ggpp_synthase = model.reactions.get_by_id('r_0373')\n",
    "ggpp_synthase.id = \"CrtE\""
   ]
  },
  {
   "cell_type": "code",
   "execution_count": 15,
   "metadata": {},
   "outputs": [],
   "source": [
    "phytoene_synthase = Reaction('CrtB')"
   ]
  },
  {
   "cell_type": "code",
   "execution_count": 16,
   "metadata": {},
   "outputs": [],
   "source": [
    "phytoene_desaturase = Reaction('CrtI')"
   ]
  },
  {
   "cell_type": "markdown",
   "metadata": {},
   "source": [
    "**Adding metabolites to heterologous reactions**"
   ]
  },
  {
   "cell_type": "code",
   "execution_count": 17,
   "metadata": {},
   "outputs": [],
   "source": [
    "phytoene_synthase.add_metabolites(({ggpp: -2,\n",
    "                                    diphosphate:2,\n",
    "                                    phytoene: 1}))"
   ]
  },
  {
   "cell_type": "code",
   "execution_count": 18,
   "metadata": {},
   "outputs": [],
   "source": [
    "phytoene_desaturase.add_metabolites(({phytoene: -1,\n",
    "                                      FAD:-4,\n",
    "                                      FADH2:4,\n",
    "                                      lycopene: 1}))"
   ]
  },
  {
   "cell_type": "markdown",
   "metadata": {},
   "source": [
    "**Updating model with boundaries for introduced reactions**"
   ]
  },
  {
   "cell_type": "code",
   "execution_count": 19,
   "metadata": {},
   "outputs": [],
   "source": [
    "model.add_reactions([phytoene_synthase])\n",
    "model.add_reactions([phytoene_desaturase])"
   ]
  },
  {
   "cell_type": "code",
   "execution_count": 20,
   "metadata": {},
   "outputs": [],
   "source": [
    "#model.add_boundary(model.metabolites.phytoene, type = 'demand')\n",
    "model.add_boundary(model.metabolites.lycopene, type = 'demand');"
   ]
  },
  {
   "cell_type": "code",
   "execution_count": 21,
   "metadata": {
    "scrolled": true
   },
   "outputs": [
    {
     "name": "stdout",
     "output_type": "stream",
     "text": [
      "At glucose concentration = 1.0:\n",
      "Maximum theoretical productivity of lycopene = 0.0871195699738864 mmol/(gDW*h^-1)\n",
      "Maximum theoretical yield = 0.0871195699738864 mmol-lyco/mmol-glc\n",
      "\n",
      "At glucose concentration = 1000:\n",
      "Maximum theoretical productivity of lycopene = 25.825440917107603 mmol/(gDW*h*^-1)\n",
      "Maximum theoretical yield = 0.040149082999580754 mmol-lyco/mmol-glc\n",
      "\n"
     ]
    }
   ],
   "source": [
    "medium_glc_ex = model.reactions.get_by_id('r_1714')\n",
    "medium = model.medium\n",
    "with model:\n",
    "    model.objective = model.reactions.CrtI\n",
    "    lycopene_production = model.optimize().objective_value\n",
    "    print(\"At glucose concentration = {}:\".format(medium[medium_glc_ex.id]))\n",
    "    print('Maximum theoretical productivity of lycopene =', lycopene_production, 'mmol/(gDW*h^-1)')\n",
    "    \n",
    "    glc_uptake_flux = model.reactions.r_1714.flux\n",
    "    max_yield = lycopene_production / (-1*glc_uptake_flux)\n",
    "    print('Maximum theoretical yield =', max_yield, 'mmol-lyco/mmol-glc\\n')\n",
    "    \n",
    "    medium[medium_glc_ex.id] = 1000\n",
    "    model.medium = medium\n",
    "\n",
    "    lycopene_production = model.optimize().objective_value\n",
    "    glc_uptake_flux = model.reactions.r_1714.flux\n",
    "    max_yield = lycopene_production / (-1*glc_uptake_flux)\n",
    "    print(\"At glucose concentration = {}:\".format(medium[medium_glc_ex.id]))\n",
    "    print('Maximum theoretical productivity of lycopene =', lycopene_production, 'mmol/(gDW*h*^-1)')\n",
    "    print('Maximum theoretical yield =', max_yield, 'mmol-lyco/mmol-glc\\n')"
   ]
  },
  {
   "cell_type": "code",
   "execution_count": 22,
   "metadata": {},
   "outputs": [],
   "source": [
    "from cobra.flux_analysis.phenotype_phase_plane import production_envelope"
   ]
  },
  {
   "cell_type": "code",
   "execution_count": 23,
   "metadata": {},
   "outputs": [],
   "source": [
    "# Renaming IDs for exchange reactions needed\n",
    "glc_exchange = model.reactions.r_1714\n",
    "o2_exchange = model.reactions.r_1992\n",
    "growth = model.reactions.r_2111"
   ]
  },
  {
   "cell_type": "code",
   "execution_count": 24,
   "metadata": {},
   "outputs": [],
   "source": [
    "medium = model.medium\n",
    "\n",
    "#Amping glucose levels to 1000.0\n",
    "medium['r_1714'] = 1000\n",
    "model.reactions.r_1714.bounds = -1000.0, 1000"
   ]
  },
  {
   "cell_type": "code",
   "execution_count": 25,
   "metadata": {},
   "outputs": [
    {
     "data": {
      "text/html": [
       "<div>\n",
       "<style scoped>\n",
       "    .dataframe tbody tr th:only-of-type {\n",
       "        vertical-align: middle;\n",
       "    }\n",
       "\n",
       "    .dataframe tbody tr th {\n",
       "        vertical-align: top;\n",
       "    }\n",
       "\n",
       "    .dataframe thead th {\n",
       "        text-align: right;\n",
       "    }\n",
       "</style>\n",
       "<table border=\"1\" class=\"dataframe\">\n",
       "  <thead>\n",
       "    <tr style=\"text-align: right;\">\n",
       "      <th></th>\n",
       "      <th>carbon_source</th>\n",
       "      <th>flux_minimum</th>\n",
       "      <th>carbon_yield_minimum</th>\n",
       "      <th>mass_yield_minimum</th>\n",
       "      <th>flux_maximum</th>\n",
       "      <th>carbon_yield_maximum</th>\n",
       "      <th>mass_yield_maximum</th>\n",
       "      <th>r_1714</th>\n",
       "    </tr>\n",
       "  </thead>\n",
       "  <tbody>\n",
       "    <tr>\n",
       "      <th>0</th>\n",
       "      <td>r_1714</td>\n",
       "      <td>0.0</td>\n",
       "      <td>0.0</td>\n",
       "      <td>0.0</td>\n",
       "      <td>14.679623</td>\n",
       "      <td>0.0</td>\n",
       "      <td>0.0</td>\n",
       "      <td>-1000.000000</td>\n",
       "    </tr>\n",
       "    <tr>\n",
       "      <th>1</th>\n",
       "      <td>r_1714</td>\n",
       "      <td>0.0</td>\n",
       "      <td>0.0</td>\n",
       "      <td>0.0</td>\n",
       "      <td>15.323794</td>\n",
       "      <td>0.0</td>\n",
       "      <td>0.0</td>\n",
       "      <td>-947.370216</td>\n",
       "    </tr>\n",
       "    <tr>\n",
       "      <th>2</th>\n",
       "      <td>r_1714</td>\n",
       "      <td>0.0</td>\n",
       "      <td>0.0</td>\n",
       "      <td>0.0</td>\n",
       "      <td>15.964078</td>\n",
       "      <td>0.0</td>\n",
       "      <td>0.0</td>\n",
       "      <td>-894.740432</td>\n",
       "    </tr>\n",
       "    <tr>\n",
       "      <th>3</th>\n",
       "      <td>r_1714</td>\n",
       "      <td>0.0</td>\n",
       "      <td>0.0</td>\n",
       "      <td>0.0</td>\n",
       "      <td>16.604362</td>\n",
       "      <td>0.0</td>\n",
       "      <td>0.0</td>\n",
       "      <td>-842.110648</td>\n",
       "    </tr>\n",
       "    <tr>\n",
       "      <th>4</th>\n",
       "      <td>r_1714</td>\n",
       "      <td>0.0</td>\n",
       "      <td>0.0</td>\n",
       "      <td>0.0</td>\n",
       "      <td>17.244646</td>\n",
       "      <td>0.0</td>\n",
       "      <td>0.0</td>\n",
       "      <td>-789.480864</td>\n",
       "    </tr>\n",
       "    <tr>\n",
       "      <th>5</th>\n",
       "      <td>r_1714</td>\n",
       "      <td>0.0</td>\n",
       "      <td>0.0</td>\n",
       "      <td>0.0</td>\n",
       "      <td>17.883518</td>\n",
       "      <td>0.0</td>\n",
       "      <td>0.0</td>\n",
       "      <td>-736.851080</td>\n",
       "    </tr>\n",
       "    <tr>\n",
       "      <th>6</th>\n",
       "      <td>r_1714</td>\n",
       "      <td>0.0</td>\n",
       "      <td>0.0</td>\n",
       "      <td>0.0</td>\n",
       "      <td>18.522355</td>\n",
       "      <td>0.0</td>\n",
       "      <td>0.0</td>\n",
       "      <td>-684.221296</td>\n",
       "    </tr>\n",
       "    <tr>\n",
       "      <th>7</th>\n",
       "      <td>r_1714</td>\n",
       "      <td>0.0</td>\n",
       "      <td>0.0</td>\n",
       "      <td>0.0</td>\n",
       "      <td>19.158407</td>\n",
       "      <td>0.0</td>\n",
       "      <td>0.0</td>\n",
       "      <td>-631.591512</td>\n",
       "    </tr>\n",
       "    <tr>\n",
       "      <th>8</th>\n",
       "      <td>r_1714</td>\n",
       "      <td>0.0</td>\n",
       "      <td>0.0</td>\n",
       "      <td>0.0</td>\n",
       "      <td>19.789829</td>\n",
       "      <td>0.0</td>\n",
       "      <td>0.0</td>\n",
       "      <td>-578.961728</td>\n",
       "    </tr>\n",
       "    <tr>\n",
       "      <th>9</th>\n",
       "      <td>r_1714</td>\n",
       "      <td>0.0</td>\n",
       "      <td>0.0</td>\n",
       "      <td>0.0</td>\n",
       "      <td>18.933901</td>\n",
       "      <td>0.0</td>\n",
       "      <td>0.0</td>\n",
       "      <td>-526.331944</td>\n",
       "    </tr>\n",
       "    <tr>\n",
       "      <th>10</th>\n",
       "      <td>r_1714</td>\n",
       "      <td>0.0</td>\n",
       "      <td>0.0</td>\n",
       "      <td>0.0</td>\n",
       "      <td>17.847790</td>\n",
       "      <td>0.0</td>\n",
       "      <td>0.0</td>\n",
       "      <td>-473.702160</td>\n",
       "    </tr>\n",
       "    <tr>\n",
       "      <th>11</th>\n",
       "      <td>r_1714</td>\n",
       "      <td>0.0</td>\n",
       "      <td>0.0</td>\n",
       "      <td>0.0</td>\n",
       "      <td>16.761679</td>\n",
       "      <td>0.0</td>\n",
       "      <td>0.0</td>\n",
       "      <td>-421.072376</td>\n",
       "    </tr>\n",
       "    <tr>\n",
       "      <th>12</th>\n",
       "      <td>r_1714</td>\n",
       "      <td>0.0</td>\n",
       "      <td>0.0</td>\n",
       "      <td>0.0</td>\n",
       "      <td>15.675568</td>\n",
       "      <td>0.0</td>\n",
       "      <td>0.0</td>\n",
       "      <td>-368.442592</td>\n",
       "    </tr>\n",
       "    <tr>\n",
       "      <th>13</th>\n",
       "      <td>r_1714</td>\n",
       "      <td>0.0</td>\n",
       "      <td>0.0</td>\n",
       "      <td>0.0</td>\n",
       "      <td>14.589458</td>\n",
       "      <td>0.0</td>\n",
       "      <td>0.0</td>\n",
       "      <td>-315.812808</td>\n",
       "    </tr>\n",
       "    <tr>\n",
       "      <th>14</th>\n",
       "      <td>r_1714</td>\n",
       "      <td>0.0</td>\n",
       "      <td>0.0</td>\n",
       "      <td>0.0</td>\n",
       "      <td>13.494002</td>\n",
       "      <td>0.0</td>\n",
       "      <td>0.0</td>\n",
       "      <td>-263.183024</td>\n",
       "    </tr>\n",
       "    <tr>\n",
       "      <th>15</th>\n",
       "      <td>r_1714</td>\n",
       "      <td>0.0</td>\n",
       "      <td>0.0</td>\n",
       "      <td>0.0</td>\n",
       "      <td>12.386182</td>\n",
       "      <td>0.0</td>\n",
       "      <td>0.0</td>\n",
       "      <td>-210.553240</td>\n",
       "    </tr>\n",
       "    <tr>\n",
       "      <th>16</th>\n",
       "      <td>r_1714</td>\n",
       "      <td>0.0</td>\n",
       "      <td>0.0</td>\n",
       "      <td>0.0</td>\n",
       "      <td>11.278361</td>\n",
       "      <td>0.0</td>\n",
       "      <td>0.0</td>\n",
       "      <td>-157.923456</td>\n",
       "    </tr>\n",
       "    <tr>\n",
       "      <th>17</th>\n",
       "      <td>r_1714</td>\n",
       "      <td>0.0</td>\n",
       "      <td>0.0</td>\n",
       "      <td>0.0</td>\n",
       "      <td>9.122406</td>\n",
       "      <td>0.0</td>\n",
       "      <td>0.0</td>\n",
       "      <td>-105.293672</td>\n",
       "    </tr>\n",
       "    <tr>\n",
       "      <th>18</th>\n",
       "      <td>r_1714</td>\n",
       "      <td>0.0</td>\n",
       "      <td>0.0</td>\n",
       "      <td>0.0</td>\n",
       "      <td>4.561222</td>\n",
       "      <td>0.0</td>\n",
       "      <td>0.0</td>\n",
       "      <td>-52.663888</td>\n",
       "    </tr>\n",
       "    <tr>\n",
       "      <th>19</th>\n",
       "      <td>r_1714</td>\n",
       "      <td>0.0</td>\n",
       "      <td>0.0</td>\n",
       "      <td>0.0</td>\n",
       "      <td>0.000000</td>\n",
       "      <td>0.0</td>\n",
       "      <td>0.0</td>\n",
       "      <td>-0.034104</td>\n",
       "    </tr>\n",
       "  </tbody>\n",
       "</table>\n",
       "</div>"
      ],
      "text/plain": [
       "   carbon_source  flux_minimum  carbon_yield_minimum  mass_yield_minimum  \\\n",
       "0         r_1714           0.0                   0.0                 0.0   \n",
       "1         r_1714           0.0                   0.0                 0.0   \n",
       "2         r_1714           0.0                   0.0                 0.0   \n",
       "3         r_1714           0.0                   0.0                 0.0   \n",
       "4         r_1714           0.0                   0.0                 0.0   \n",
       "5         r_1714           0.0                   0.0                 0.0   \n",
       "6         r_1714           0.0                   0.0                 0.0   \n",
       "7         r_1714           0.0                   0.0                 0.0   \n",
       "8         r_1714           0.0                   0.0                 0.0   \n",
       "9         r_1714           0.0                   0.0                 0.0   \n",
       "10        r_1714           0.0                   0.0                 0.0   \n",
       "11        r_1714           0.0                   0.0                 0.0   \n",
       "12        r_1714           0.0                   0.0                 0.0   \n",
       "13        r_1714           0.0                   0.0                 0.0   \n",
       "14        r_1714           0.0                   0.0                 0.0   \n",
       "15        r_1714           0.0                   0.0                 0.0   \n",
       "16        r_1714           0.0                   0.0                 0.0   \n",
       "17        r_1714           0.0                   0.0                 0.0   \n",
       "18        r_1714           0.0                   0.0                 0.0   \n",
       "19        r_1714           0.0                   0.0                 0.0   \n",
       "\n",
       "    flux_maximum  carbon_yield_maximum  mass_yield_maximum       r_1714  \n",
       "0      14.679623                   0.0                 0.0 -1000.000000  \n",
       "1      15.323794                   0.0                 0.0  -947.370216  \n",
       "2      15.964078                   0.0                 0.0  -894.740432  \n",
       "3      16.604362                   0.0                 0.0  -842.110648  \n",
       "4      17.244646                   0.0                 0.0  -789.480864  \n",
       "5      17.883518                   0.0                 0.0  -736.851080  \n",
       "6      18.522355                   0.0                 0.0  -684.221296  \n",
       "7      19.158407                   0.0                 0.0  -631.591512  \n",
       "8      19.789829                   0.0                 0.0  -578.961728  \n",
       "9      18.933901                   0.0                 0.0  -526.331944  \n",
       "10     17.847790                   0.0                 0.0  -473.702160  \n",
       "11     16.761679                   0.0                 0.0  -421.072376  \n",
       "12     15.675568                   0.0                 0.0  -368.442592  \n",
       "13     14.589458                   0.0                 0.0  -315.812808  \n",
       "14     13.494002                   0.0                 0.0  -263.183024  \n",
       "15     12.386182                   0.0                 0.0  -210.553240  \n",
       "16     11.278361                   0.0                 0.0  -157.923456  \n",
       "17      9.122406                   0.0                 0.0  -105.293672  \n",
       "18      4.561222                   0.0                 0.0   -52.663888  \n",
       "19      0.000000                   0.0                 0.0    -0.034104  "
      ]
     },
     "execution_count": 25,
     "metadata": {},
     "output_type": "execute_result"
    }
   ],
   "source": [
    "ppp_biomass = production_envelope(model,\n",
    "                    reactions=[glc_exchange],\n",
    "                    objective=growth)\n",
    "ppp_biomass"
   ]
  },
  {
   "cell_type": "code",
   "execution_count": 26,
   "metadata": {},
   "outputs": [
    {
     "data": {
      "text/plain": [
       "<AxesSubplot:xlabel='Glucose uptake [-mmol/gDW/h]', ylabel='Biomass objective'>"
      ]
     },
     "execution_count": 26,
     "metadata": {},
     "output_type": "execute_result"
    },
    {
     "data": {
      "image/png": "[encoded data removed]",
      "text/plain": [
       "<Figure size 432x288 with 1 Axes>"
      ]
     },
     "metadata": {
      "needs_background": "light"
     },
     "output_type": "display_data"
    }
   ],
   "source": [
    "ppp_biomass.plot(x='r_1714', y='flux_maximum', xlabel=\"Glucose uptake [-mmol/gDW/h]\", ylabel=\"Biomass objective\", grid = True)"
   ]
  },
  {
   "cell_type": "code",
   "execution_count": 27,
   "metadata": {},
   "outputs": [
    {
     "data": {
      "text/html": [
       "<div>\n",
       "<style scoped>\n",
       "    .dataframe tbody tr th:only-of-type {\n",
       "        vertical-align: middle;\n",
       "    }\n",
       "\n",
       "    .dataframe tbody tr th {\n",
       "        vertical-align: top;\n",
       "    }\n",
       "\n",
       "    .dataframe thead th {\n",
       "        text-align: right;\n",
       "    }\n",
       "</style>\n",
       "<table border=\"1\" class=\"dataframe\">\n",
       "  <thead>\n",
       "    <tr style=\"text-align: right;\">\n",
       "      <th></th>\n",
       "      <th>carbon_source</th>\n",
       "      <th>flux_minimum</th>\n",
       "      <th>carbon_yield_minimum</th>\n",
       "      <th>mass_yield_minimum</th>\n",
       "      <th>flux_maximum</th>\n",
       "      <th>carbon_yield_maximum</th>\n",
       "      <th>mass_yield_maximum</th>\n",
       "      <th>r_1714</th>\n",
       "    </tr>\n",
       "  </thead>\n",
       "  <tbody>\n",
       "    <tr>\n",
       "      <th>0</th>\n",
       "      <td>r_1714</td>\n",
       "      <td>0.0</td>\n",
       "      <td>5.027443e-16</td>\n",
       "      <td>NaN</td>\n",
       "      <td>24.981325</td>\n",
       "      <td>6.162060e-01</td>\n",
       "      <td>NaN</td>\n",
       "      <td>-1000.000000</td>\n",
       "    </tr>\n",
       "    <tr>\n",
       "      <th>1</th>\n",
       "      <td>r_1714</td>\n",
       "      <td>0.0</td>\n",
       "      <td>5.398013e-16</td>\n",
       "      <td>NaN</td>\n",
       "      <td>25.779807</td>\n",
       "      <td>6.712285e-01</td>\n",
       "      <td>NaN</td>\n",
       "      <td>-947.370216</td>\n",
       "    </tr>\n",
       "    <tr>\n",
       "      <th>2</th>\n",
       "      <td>r_1714</td>\n",
       "      <td>0.0</td>\n",
       "      <td>5.812179e-16</td>\n",
       "      <td>NaN</td>\n",
       "      <td>25.825441</td>\n",
       "      <td>7.119691e-01</td>\n",
       "      <td>NaN</td>\n",
       "      <td>-894.740432</td>\n",
       "    </tr>\n",
       "    <tr>\n",
       "      <th>3</th>\n",
       "      <td>r_1714</td>\n",
       "      <td>0.0</td>\n",
       "      <td>6.278112e-16</td>\n",
       "      <td>NaN</td>\n",
       "      <td>25.825441</td>\n",
       "      <td>7.564654e-01</td>\n",
       "      <td>NaN</td>\n",
       "      <td>-842.110648</td>\n",
       "    </tr>\n",
       "    <tr>\n",
       "      <th>4</th>\n",
       "      <td>r_1714</td>\n",
       "      <td>0.0</td>\n",
       "      <td>6.806168e-16</td>\n",
       "      <td>NaN</td>\n",
       "      <td>25.825441</td>\n",
       "      <td>8.068942e-01</td>\n",
       "      <td>NaN</td>\n",
       "      <td>-789.480864</td>\n",
       "    </tr>\n",
       "    <tr>\n",
       "      <th>5</th>\n",
       "      <td>r_1714</td>\n",
       "      <td>0.0</td>\n",
       "      <td>7.409657e-16</td>\n",
       "      <td>NaN</td>\n",
       "      <td>25.825441</td>\n",
       "      <td>8.645268e-01</td>\n",
       "      <td>NaN</td>\n",
       "      <td>-736.851080</td>\n",
       "    </tr>\n",
       "    <tr>\n",
       "      <th>6</th>\n",
       "      <td>r_1714</td>\n",
       "      <td>0.0</td>\n",
       "      <td>8.105985e-16</td>\n",
       "      <td>NaN</td>\n",
       "      <td>25.825441</td>\n",
       "      <td>9.310256e-01</td>\n",
       "      <td>NaN</td>\n",
       "      <td>-684.221296</td>\n",
       "    </tr>\n",
       "    <tr>\n",
       "      <th>7</th>\n",
       "      <td>r_1714</td>\n",
       "      <td>0.0</td>\n",
       "      <td>8.918362e-16</td>\n",
       "      <td>NaN</td>\n",
       "      <td>25.810275</td>\n",
       "      <td>1.008015e+00</td>\n",
       "      <td>NaN</td>\n",
       "      <td>-631.591512</td>\n",
       "    </tr>\n",
       "    <tr>\n",
       "      <th>8</th>\n",
       "      <td>r_1714</td>\n",
       "      <td>0.0</td>\n",
       "      <td>9.878436e-16</td>\n",
       "      <td>NaN</td>\n",
       "      <td>25.523052</td>\n",
       "      <td>1.087410e+00</td>\n",
       "      <td>NaN</td>\n",
       "      <td>-578.961728</td>\n",
       "    </tr>\n",
       "    <tr>\n",
       "      <th>9</th>\n",
       "      <td>r_1714</td>\n",
       "      <td>0.0</td>\n",
       "      <td>1.103051e-15</td>\n",
       "      <td>NaN</td>\n",
       "      <td>25.167446</td>\n",
       "      <td>1.179478e+00</td>\n",
       "      <td>NaN</td>\n",
       "      <td>-526.331944</td>\n",
       "    </tr>\n",
       "    <tr>\n",
       "      <th>10</th>\n",
       "      <td>r_1714</td>\n",
       "      <td>0.0</td>\n",
       "      <td>1.243858e-15</td>\n",
       "      <td>NaN</td>\n",
       "      <td>24.677704</td>\n",
       "      <td>1.285020e+00</td>\n",
       "      <td>NaN</td>\n",
       "      <td>-473.702160</td>\n",
       "    </tr>\n",
       "    <tr>\n",
       "      <th>11</th>\n",
       "      <td>r_1714</td>\n",
       "      <td>0.0</td>\n",
       "      <td>1.419865e-15</td>\n",
       "      <td>NaN</td>\n",
       "      <td>23.987458</td>\n",
       "      <td>1.405199e+00</td>\n",
       "      <td>NaN</td>\n",
       "      <td>-421.072376</td>\n",
       "    </tr>\n",
       "    <tr>\n",
       "      <th>12</th>\n",
       "      <td>r_1714</td>\n",
       "      <td>0.0</td>\n",
       "      <td>1.646154e-15</td>\n",
       "      <td>NaN</td>\n",
       "      <td>23.138590</td>\n",
       "      <td>1.549093e+00</td>\n",
       "      <td>NaN</td>\n",
       "      <td>-368.442592</td>\n",
       "    </tr>\n",
       "    <tr>\n",
       "      <th>13</th>\n",
       "      <td>r_1714</td>\n",
       "      <td>0.0</td>\n",
       "      <td>1.947865e-15</td>\n",
       "      <td>NaN</td>\n",
       "      <td>22.231027</td>\n",
       "      <td>1.736362e+00</td>\n",
       "      <td>NaN</td>\n",
       "      <td>-315.812808</td>\n",
       "    </tr>\n",
       "    <tr>\n",
       "      <th>14</th>\n",
       "      <td>r_1714</td>\n",
       "      <td>0.0</td>\n",
       "      <td>2.370245e-15</td>\n",
       "      <td>NaN</td>\n",
       "      <td>21.268287</td>\n",
       "      <td>1.993357e+00</td>\n",
       "      <td>NaN</td>\n",
       "      <td>-263.183024</td>\n",
       "    </tr>\n",
       "    <tr>\n",
       "      <th>15</th>\n",
       "      <td>r_1714</td>\n",
       "      <td>0.0</td>\n",
       "      <td>2.417599e-15</td>\n",
       "      <td>NaN</td>\n",
       "      <td>18.569582</td>\n",
       "      <td>2.175458e+00</td>\n",
       "      <td>NaN</td>\n",
       "      <td>-210.553240</td>\n",
       "    </tr>\n",
       "    <tr>\n",
       "      <th>16</th>\n",
       "      <td>r_1714</td>\n",
       "      <td>0.0</td>\n",
       "      <td>2.241875e-15</td>\n",
       "      <td>NaN</td>\n",
       "      <td>14.009745</td>\n",
       "      <td>2.188235e+00</td>\n",
       "      <td>NaN</td>\n",
       "      <td>-157.923456</td>\n",
       "    </tr>\n",
       "    <tr>\n",
       "      <th>17</th>\n",
       "      <td>r_1714</td>\n",
       "      <td>0.0</td>\n",
       "      <td>1.890485e-15</td>\n",
       "      <td>NaN</td>\n",
       "      <td>9.340304</td>\n",
       "      <td>2.188110e+00</td>\n",
       "      <td>NaN</td>\n",
       "      <td>-105.293672</td>\n",
       "    </tr>\n",
       "    <tr>\n",
       "      <th>18</th>\n",
       "      <td>r_1714</td>\n",
       "      <td>0.0</td>\n",
       "      <td>8.367684e-16</td>\n",
       "      <td>NaN</td>\n",
       "      <td>4.670864</td>\n",
       "      <td>2.187735e+00</td>\n",
       "      <td>NaN</td>\n",
       "      <td>-52.663888</td>\n",
       "    </tr>\n",
       "    <tr>\n",
       "      <th>19</th>\n",
       "      <td>r_1714</td>\n",
       "      <td>0.0</td>\n",
       "      <td>0.000000e+00</td>\n",
       "      <td>NaN</td>\n",
       "      <td>0.000000</td>\n",
       "      <td>1.168886e-15</td>\n",
       "      <td>NaN</td>\n",
       "      <td>-0.034104</td>\n",
       "    </tr>\n",
       "  </tbody>\n",
       "</table>\n",
       "</div>"
      ],
      "text/plain": [
       "   carbon_source  flux_minimum  carbon_yield_minimum  mass_yield_minimum  \\\n",
       "0         r_1714           0.0          5.027443e-16                 NaN   \n",
       "1         r_1714           0.0          5.398013e-16                 NaN   \n",
       "2         r_1714           0.0          5.812179e-16                 NaN   \n",
       "3         r_1714           0.0          6.278112e-16                 NaN   \n",
       "4         r_1714           0.0          6.806168e-16                 NaN   \n",
       "5         r_1714           0.0          7.409657e-16                 NaN   \n",
       "6         r_1714           0.0          8.105985e-16                 NaN   \n",
       "7         r_1714           0.0          8.918362e-16                 NaN   \n",
       "8         r_1714           0.0          9.878436e-16                 NaN   \n",
       "9         r_1714           0.0          1.103051e-15                 NaN   \n",
       "10        r_1714           0.0          1.243858e-15                 NaN   \n",
       "11        r_1714           0.0          1.419865e-15                 NaN   \n",
       "12        r_1714           0.0          1.646154e-15                 NaN   \n",
       "13        r_1714           0.0          1.947865e-15                 NaN   \n",
       "14        r_1714           0.0          2.370245e-15                 NaN   \n",
       "15        r_1714           0.0          2.417599e-15                 NaN   \n",
       "16        r_1714           0.0          2.241875e-15                 NaN   \n",
       "17        r_1714           0.0          1.890485e-15                 NaN   \n",
       "18        r_1714           0.0          8.367684e-16                 NaN   \n",
       "19        r_1714           0.0          0.000000e+00                 NaN   \n",
       "\n",
       "    flux_maximum  carbon_yield_maximum  mass_yield_maximum       r_1714  \n",
       "0      24.981325          6.162060e-01                 NaN -1000.000000  \n",
       "1      25.779807          6.712285e-01                 NaN  -947.370216  \n",
       "2      25.825441          7.119691e-01                 NaN  -894.740432  \n",
       "3      25.825441          7.564654e-01                 NaN  -842.110648  \n",
       "4      25.825441          8.068942e-01                 NaN  -789.480864  \n",
       "5      25.825441          8.645268e-01                 NaN  -736.851080  \n",
       "6      25.825441          9.310256e-01                 NaN  -684.221296  \n",
       "7      25.810275          1.008015e+00                 NaN  -631.591512  \n",
       "8      25.523052          1.087410e+00                 NaN  -578.961728  \n",
       "9      25.167446          1.179478e+00                 NaN  -526.331944  \n",
       "10     24.677704          1.285020e+00                 NaN  -473.702160  \n",
       "11     23.987458          1.405199e+00                 NaN  -421.072376  \n",
       "12     23.138590          1.549093e+00                 NaN  -368.442592  \n",
       "13     22.231027          1.736362e+00                 NaN  -315.812808  \n",
       "14     21.268287          1.993357e+00                 NaN  -263.183024  \n",
       "15     18.569582          2.175458e+00                 NaN  -210.553240  \n",
       "16     14.009745          2.188235e+00                 NaN  -157.923456  \n",
       "17      9.340304          2.188110e+00                 NaN  -105.293672  \n",
       "18      4.670864          2.187735e+00                 NaN   -52.663888  \n",
       "19      0.000000          1.168886e-15                 NaN    -0.034104  "
      ]
     },
     "execution_count": 27,
     "metadata": {},
     "output_type": "execute_result"
    }
   ],
   "source": [
    "ppp_lycopene = production_envelope(model,\n",
    "                    reactions=[glc_exchange],\n",
    "                    objective=model.reactions.CrtI)\n",
    "ppp_lycopene"
   ]
  },
  {
   "cell_type": "code",
   "execution_count": 28,
   "metadata": {},
   "outputs": [
    {
     "data": {
      "text/plain": [
       "<AxesSubplot:xlabel='Glucose uptake [-mmol/gDW/h]', ylabel='Lycopene objective'>"
      ]
     },
     "execution_count": 28,
     "metadata": {},
     "output_type": "execute_result"
    },
    {
     "data": {
      "image/png": "[encoded data removed]",
      "text/plain": [
       "<Figure size 432x288 with 1 Axes>"
      ]
     },
     "metadata": {
      "needs_background": "light"
     },
     "output_type": "display_data"
    }
   ],
   "source": [
    "ppp_lycopene.plot(x='r_1714', y='flux_maximum', xlabel=\"Glucose uptake [-mmol/gDW/h]\", ylabel=\"Lycopene objective\", grid=True)"
   ]
  },
  {
   "cell_type": "code",
   "execution_count": 29,
   "metadata": {},
   "outputs": [],
   "source": [
    "from cobra.io import write_sbml_model\n",
    "write_sbml_model(model,\"yeast_lyco_MVA.xml\")"
   ]
  },
  {
   "cell_type": "code",
   "execution_count": 30,
   "metadata": {},
   "outputs": [],
   "source": [
    "model = read_sbml_model('yeast_lyco_MVA.xml')"
   ]
  },
  {
   "cell_type": "code",
   "execution_count": 31,
   "metadata": {},
   "outputs": [],
   "source": [
    "from cobra.io import read_sbml_model\n",
    "from cobra import Reaction, Metabolite, Model\n",
    "\n",
    "model = read_sbml_model('yeast_lyco_MVA.xml')"
   ]
  },
  {
   "cell_type": "markdown",
   "metadata": {},
   "source": [
    "**Turning off the conversion of (R)-5-diphosphomevalonic acid into IPP**"
   ]
  },
  {
   "cell_type": "code",
   "execution_count": 32,
   "metadata": {},
   "outputs": [],
   "source": [
    "model.reactions.r_0739.lower_bound = 0\n",
    "model.reactions.r_0739.upper_bound = 0"
   ]
  },
  {
   "cell_type": "code",
   "execution_count": 33,
   "metadata": {},
   "outputs": [],
   "source": [
    "model.reactions.r_0163.lower_bound = -500;\n",
    "model.reactions.r_0163.upper_bound = 1000"
   ]
  },
  {
   "cell_type": "code",
   "execution_count": 34,
   "metadata": {},
   "outputs": [],
   "source": [
    "model.reactions.r_2116.lower_bound = -500;\n",
    "model.reactions.r_2116.upper_bound = 1000"
   ]
  },
  {
   "cell_type": "code",
   "execution_count": 35,
   "metadata": {},
   "outputs": [
    {
     "name": "stdout",
     "output_type": "stream",
     "text": [
      "At glucose concentration = 1:\n",
      "Maximum theoretical productivity of lycopene = 5.91157367879208e-34 mmol/(gDW*h^-1)\n",
      "Maximum theoretical yield = 3.827321701755104e-33 mmol-lyco/mmol-glc\n",
      "\n",
      "At glucose concentration = 1000:\n",
      "Maximum theoretical productivity of lycopene = 5.91157367879208e-34 mmol/(gDW*h*^-1)\n",
      "Maximum theoretical yield = 3.827321701755104e-33 mmol-lyco/mmol-glc\n",
      "\n"
     ]
    }
   ],
   "source": [
    "medium_glc_ex = model.reactions.get_by_id('r_1714')\n",
    "medium = model.medium\n",
    "medium['r_1714'] = 1\n",
    "model.reactions.r_1714.bounds = -1000.0, 1000\n",
    "with model:\n",
    "    model.objective = model.reactions.CrtI\n",
    "    lycopene_production = model.optimize().objective_value\n",
    "    print(\"At glucose concentration = {}:\".format(medium[medium_glc_ex.id]))\n",
    "    print('Maximum theoretical productivity of lycopene =', lycopene_production, 'mmol/(gDW*h^-1)')\n",
    "    \n",
    "    glc_uptake_flux = model.reactions.r_1714.flux\n",
    "    max_yield = lycopene_production / (-1*glc_uptake_flux)\n",
    "    print('Maximum theoretical yield =', max_yield, 'mmol-lyco/mmol-glc\\n')\n",
    "    \n",
    "    medium[medium_glc_ex.id] = 1000\n",
    "    model.medium = medium\n",
    "\n",
    "    lycopene_production = model.optimize().objective_value\n",
    "    glc_uptake_flux = model.reactions.r_1714.flux\n",
    "    max_yield = lycopene_production / (-1*glc_uptake_flux)\n",
    "    print(\"At glucose concentration = {}:\".format(medium[medium_glc_ex.id]))\n",
    "    print('Maximum theoretical productivity of lycopene =', lycopene_production, 'mmol/(gDW*h*^-1)')\n",
    "    print('Maximum theoretical yield =', max_yield, 'mmol-lyco/mmol-glc\\n')"
   ]
  },
  {
   "cell_type": "code",
   "execution_count": 36,
   "metadata": {},
   "outputs": [
    {
     "data": {
      "text/plain": [
       "<AxesSubplot:xlabel='Glucose uptake [-mmol/gDW/h]', ylabel='Biomass objective'>"
      ]
     },
     "execution_count": 36,
     "metadata": {},
     "output_type": "execute_result"
    },
    {
     "data": {
      "image/png": "[encoded data removed]",
      "text/plain": [
       "<Figure size 432x288 with 1 Axes>"
      ]
     },
     "metadata": {
      "needs_background": "light"
     },
     "output_type": "display_data"
    }
   ],
   "source": [
    "ppp_biomass.plot(x='r_1714', y='flux_maximum', xlabel=\"Glucose uptake [-mmol/gDW/h]\", ylabel=\"Biomass objective\", grid = True)"
   ]
  },
  {
   "cell_type": "code",
   "execution_count": 37,
   "metadata": {},
   "outputs": [
    {
     "data": {
      "text/html": [
       "<div>\n",
       "<style scoped>\n",
       "    .dataframe tbody tr th:only-of-type {\n",
       "        vertical-align: middle;\n",
       "    }\n",
       "\n",
       "    .dataframe tbody tr th {\n",
       "        vertical-align: top;\n",
       "    }\n",
       "\n",
       "    .dataframe thead th {\n",
       "        text-align: right;\n",
       "    }\n",
       "</style>\n",
       "<table border=\"1\" class=\"dataframe\">\n",
       "  <thead>\n",
       "    <tr style=\"text-align: right;\">\n",
       "      <th></th>\n",
       "      <th>carbon_source</th>\n",
       "      <th>flux_minimum</th>\n",
       "      <th>carbon_yield_minimum</th>\n",
       "      <th>mass_yield_minimum</th>\n",
       "      <th>flux_maximum</th>\n",
       "      <th>carbon_yield_maximum</th>\n",
       "      <th>mass_yield_maximum</th>\n",
       "      <th>r_1714</th>\n",
       "    </tr>\n",
       "  </thead>\n",
       "  <tbody>\n",
       "    <tr>\n",
       "      <th>0</th>\n",
       "      <td>r_1714</td>\n",
       "      <td>0.0</td>\n",
       "      <td>34.372542</td>\n",
       "      <td>NaN</td>\n",
       "      <td>0.0</td>\n",
       "      <td>NaN</td>\n",
       "      <td>NaN</td>\n",
       "      <td>-1000.000000</td>\n",
       "    </tr>\n",
       "    <tr>\n",
       "      <th>1</th>\n",
       "      <td>r_1714</td>\n",
       "      <td>0.0</td>\n",
       "      <td>34.372542</td>\n",
       "      <td>NaN</td>\n",
       "      <td>0.0</td>\n",
       "      <td>NaN</td>\n",
       "      <td>NaN</td>\n",
       "      <td>-947.368421</td>\n",
       "    </tr>\n",
       "    <tr>\n",
       "      <th>2</th>\n",
       "      <td>r_1714</td>\n",
       "      <td>0.0</td>\n",
       "      <td>34.372542</td>\n",
       "      <td>NaN</td>\n",
       "      <td>0.0</td>\n",
       "      <td>NaN</td>\n",
       "      <td>NaN</td>\n",
       "      <td>-894.736842</td>\n",
       "    </tr>\n",
       "    <tr>\n",
       "      <th>3</th>\n",
       "      <td>r_1714</td>\n",
       "      <td>0.0</td>\n",
       "      <td>34.372542</td>\n",
       "      <td>NaN</td>\n",
       "      <td>0.0</td>\n",
       "      <td>NaN</td>\n",
       "      <td>NaN</td>\n",
       "      <td>-842.105263</td>\n",
       "    </tr>\n",
       "    <tr>\n",
       "      <th>4</th>\n",
       "      <td>r_1714</td>\n",
       "      <td>0.0</td>\n",
       "      <td>34.372542</td>\n",
       "      <td>NaN</td>\n",
       "      <td>0.0</td>\n",
       "      <td>NaN</td>\n",
       "      <td>NaN</td>\n",
       "      <td>-789.473684</td>\n",
       "    </tr>\n",
       "    <tr>\n",
       "      <th>5</th>\n",
       "      <td>r_1714</td>\n",
       "      <td>0.0</td>\n",
       "      <td>34.372542</td>\n",
       "      <td>NaN</td>\n",
       "      <td>0.0</td>\n",
       "      <td>NaN</td>\n",
       "      <td>NaN</td>\n",
       "      <td>-736.842105</td>\n",
       "    </tr>\n",
       "    <tr>\n",
       "      <th>6</th>\n",
       "      <td>r_1714</td>\n",
       "      <td>0.0</td>\n",
       "      <td>34.372542</td>\n",
       "      <td>NaN</td>\n",
       "      <td>0.0</td>\n",
       "      <td>NaN</td>\n",
       "      <td>NaN</td>\n",
       "      <td>-684.210526</td>\n",
       "    </tr>\n",
       "    <tr>\n",
       "      <th>7</th>\n",
       "      <td>r_1714</td>\n",
       "      <td>0.0</td>\n",
       "      <td>34.372542</td>\n",
       "      <td>NaN</td>\n",
       "      <td>0.0</td>\n",
       "      <td>NaN</td>\n",
       "      <td>NaN</td>\n",
       "      <td>-631.578947</td>\n",
       "    </tr>\n",
       "    <tr>\n",
       "      <th>8</th>\n",
       "      <td>r_1714</td>\n",
       "      <td>0.0</td>\n",
       "      <td>34.372542</td>\n",
       "      <td>NaN</td>\n",
       "      <td>0.0</td>\n",
       "      <td>NaN</td>\n",
       "      <td>NaN</td>\n",
       "      <td>-578.947368</td>\n",
       "    </tr>\n",
       "    <tr>\n",
       "      <th>9</th>\n",
       "      <td>r_1714</td>\n",
       "      <td>0.0</td>\n",
       "      <td>34.372542</td>\n",
       "      <td>NaN</td>\n",
       "      <td>0.0</td>\n",
       "      <td>NaN</td>\n",
       "      <td>NaN</td>\n",
       "      <td>-526.315789</td>\n",
       "    </tr>\n",
       "    <tr>\n",
       "      <th>10</th>\n",
       "      <td>r_1714</td>\n",
       "      <td>0.0</td>\n",
       "      <td>34.372542</td>\n",
       "      <td>NaN</td>\n",
       "      <td>0.0</td>\n",
       "      <td>NaN</td>\n",
       "      <td>NaN</td>\n",
       "      <td>-473.684211</td>\n",
       "    </tr>\n",
       "    <tr>\n",
       "      <th>11</th>\n",
       "      <td>r_1714</td>\n",
       "      <td>0.0</td>\n",
       "      <td>34.372542</td>\n",
       "      <td>NaN</td>\n",
       "      <td>0.0</td>\n",
       "      <td>NaN</td>\n",
       "      <td>NaN</td>\n",
       "      <td>-421.052632</td>\n",
       "    </tr>\n",
       "    <tr>\n",
       "      <th>12</th>\n",
       "      <td>r_1714</td>\n",
       "      <td>0.0</td>\n",
       "      <td>34.372542</td>\n",
       "      <td>NaN</td>\n",
       "      <td>0.0</td>\n",
       "      <td>NaN</td>\n",
       "      <td>NaN</td>\n",
       "      <td>-368.421053</td>\n",
       "    </tr>\n",
       "    <tr>\n",
       "      <th>13</th>\n",
       "      <td>r_1714</td>\n",
       "      <td>0.0</td>\n",
       "      <td>34.372542</td>\n",
       "      <td>NaN</td>\n",
       "      <td>0.0</td>\n",
       "      <td>NaN</td>\n",
       "      <td>NaN</td>\n",
       "      <td>-315.789474</td>\n",
       "    </tr>\n",
       "    <tr>\n",
       "      <th>14</th>\n",
       "      <td>r_1714</td>\n",
       "      <td>0.0</td>\n",
       "      <td>34.372542</td>\n",
       "      <td>NaN</td>\n",
       "      <td>0.0</td>\n",
       "      <td>NaN</td>\n",
       "      <td>NaN</td>\n",
       "      <td>-263.157895</td>\n",
       "    </tr>\n",
       "    <tr>\n",
       "      <th>15</th>\n",
       "      <td>r_1714</td>\n",
       "      <td>0.0</td>\n",
       "      <td>34.372542</td>\n",
       "      <td>NaN</td>\n",
       "      <td>0.0</td>\n",
       "      <td>NaN</td>\n",
       "      <td>NaN</td>\n",
       "      <td>-210.526316</td>\n",
       "    </tr>\n",
       "    <tr>\n",
       "      <th>16</th>\n",
       "      <td>r_1714</td>\n",
       "      <td>0.0</td>\n",
       "      <td>34.372542</td>\n",
       "      <td>NaN</td>\n",
       "      <td>0.0</td>\n",
       "      <td>NaN</td>\n",
       "      <td>NaN</td>\n",
       "      <td>-157.894737</td>\n",
       "    </tr>\n",
       "    <tr>\n",
       "      <th>17</th>\n",
       "      <td>r_1714</td>\n",
       "      <td>0.0</td>\n",
       "      <td>34.372542</td>\n",
       "      <td>NaN</td>\n",
       "      <td>0.0</td>\n",
       "      <td>NaN</td>\n",
       "      <td>NaN</td>\n",
       "      <td>-105.263158</td>\n",
       "    </tr>\n",
       "    <tr>\n",
       "      <th>18</th>\n",
       "      <td>r_1714</td>\n",
       "      <td>0.0</td>\n",
       "      <td>34.372542</td>\n",
       "      <td>NaN</td>\n",
       "      <td>0.0</td>\n",
       "      <td>NaN</td>\n",
       "      <td>NaN</td>\n",
       "      <td>-52.631579</td>\n",
       "    </tr>\n",
       "    <tr>\n",
       "      <th>19</th>\n",
       "      <td>r_1714</td>\n",
       "      <td>0.0</td>\n",
       "      <td>34.372542</td>\n",
       "      <td>NaN</td>\n",
       "      <td>0.0</td>\n",
       "      <td>NaN</td>\n",
       "      <td>NaN</td>\n",
       "      <td>0.000000</td>\n",
       "    </tr>\n",
       "  </tbody>\n",
       "</table>\n",
       "</div>"
      ],
      "text/plain": [
       "   carbon_source  flux_minimum  carbon_yield_minimum  mass_yield_minimum  \\\n",
       "0         r_1714           0.0             34.372542                 NaN   \n",
       "1         r_1714           0.0             34.372542                 NaN   \n",
       "2         r_1714           0.0             34.372542                 NaN   \n",
       "3         r_1714           0.0             34.372542                 NaN   \n",
       "4         r_1714           0.0             34.372542                 NaN   \n",
       "5         r_1714           0.0             34.372542                 NaN   \n",
       "6         r_1714           0.0             34.372542                 NaN   \n",
       "7         r_1714           0.0             34.372542                 NaN   \n",
       "8         r_1714           0.0             34.372542                 NaN   \n",
       "9         r_1714           0.0             34.372542                 NaN   \n",
       "10        r_1714           0.0             34.372542                 NaN   \n",
       "11        r_1714           0.0             34.372542                 NaN   \n",
       "12        r_1714           0.0             34.372542                 NaN   \n",
       "13        r_1714           0.0             34.372542                 NaN   \n",
       "14        r_1714           0.0             34.372542                 NaN   \n",
       "15        r_1714           0.0             34.372542                 NaN   \n",
       "16        r_1714           0.0             34.372542                 NaN   \n",
       "17        r_1714           0.0             34.372542                 NaN   \n",
       "18        r_1714           0.0             34.372542                 NaN   \n",
       "19        r_1714           0.0             34.372542                 NaN   \n",
       "\n",
       "    flux_maximum  carbon_yield_maximum  mass_yield_maximum       r_1714  \n",
       "0            0.0                   NaN                 NaN -1000.000000  \n",
       "1            0.0                   NaN                 NaN  -947.368421  \n",
       "2            0.0                   NaN                 NaN  -894.736842  \n",
       "3            0.0                   NaN                 NaN  -842.105263  \n",
       "4            0.0                   NaN                 NaN  -789.473684  \n",
       "5            0.0                   NaN                 NaN  -736.842105  \n",
       "6            0.0                   NaN                 NaN  -684.210526  \n",
       "7            0.0                   NaN                 NaN  -631.578947  \n",
       "8            0.0                   NaN                 NaN  -578.947368  \n",
       "9            0.0                   NaN                 NaN  -526.315789  \n",
       "10           0.0                   NaN                 NaN  -473.684211  \n",
       "11           0.0                   NaN                 NaN  -421.052632  \n",
       "12           0.0                   NaN                 NaN  -368.421053  \n",
       "13           0.0                   NaN                 NaN  -315.789474  \n",
       "14           0.0                   NaN                 NaN  -263.157895  \n",
       "15           0.0                   NaN                 NaN  -210.526316  \n",
       "16           0.0                   NaN                 NaN  -157.894737  \n",
       "17           0.0                   NaN                 NaN  -105.263158  \n",
       "18           0.0                   NaN                 NaN   -52.631579  \n",
       "19           0.0                   NaN                 NaN     0.000000  "
      ]
     },
     "execution_count": 37,
     "metadata": {},
     "output_type": "execute_result"
    }
   ],
   "source": [
    "ppp_lycopene = production_envelope(model,\n",
    "                    reactions=[glc_exchange],\n",
    "                    objective=model.reactions.CrtI)\n",
    "ppp_lycopene"
   ]
  },
  {
   "cell_type": "code",
   "execution_count": 38,
   "metadata": {},
   "outputs": [
    {
     "data": {
      "text/plain": [
       "<AxesSubplot:xlabel='Glucose uptake [-mmol/gDW/h]', ylabel='Lycopene objective'>"
      ]
     },
     "execution_count": 38,
     "metadata": {},
     "output_type": "execute_result"
    },
    {
     "data": {
      "image/png": "[encoded data removed]",
      "text/plain": [
       "<Figure size 432x288 with 1 Axes>"
      ]
     },
     "metadata": {
      "needs_background": "light"
     },
     "output_type": "display_data"
    }
   ],
   "source": [
    "ppp_lycopene.plot(x='r_1714', y='flux_maximum', xlabel=\"Glucose uptake [-mmol/gDW/h]\", ylabel=\"Lycopene objective\", grid=True)"
   ]
  },
  {
   "cell_type": "code",
   "execution_count": 39,
   "metadata": {},
   "outputs": [],
   "source": [
    "from cobra.io import write_sbml_model\n",
    "write_sbml_model(model,\"yeast_lyco_NO_MVA.xml\")"
   ]
  }
 ],
 "metadata": {
  "kernelspec": {
   "display_name": "Python 3",
   "language": "python",
   "name": "python3"
  },
  "language_info": {
   "codemirror_mode": {
    "name": "ipython",
    "version": 3
   },
   "file_extension": ".py",
   "mimetype": "text/x-python",
   "name": "python",
   "nbconvert_exporter": "python",
   "pygments_lexer": "ipython3",
   "version": "3.8.5"
  }
 },
 "nbformat": 4,
 "nbformat_minor": 4
}
