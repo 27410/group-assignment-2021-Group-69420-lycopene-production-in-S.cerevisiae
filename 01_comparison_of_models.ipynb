{
 "cells": [
  {
   "cell_type": "markdown",
   "metadata": {},
   "source": [
    "# Assesing model parameters of old yeast iMM904 model with `memote` package"
   ]
  },
  {
   "cell_type": "markdown",
   "metadata": {},
   "source": [
    "Testing the yeast model iMM904 via MEMOTE"
   ]
  },
  {
   "cell_type": "code",
   "execution_count": 2,
   "metadata": {
    "scrolled": true
   },
   "outputs": [
    {
     "name": "stdout",
     "output_type": "stream",
     "text": [
      "Scaling...\n",
      " A: min|aij| =  1.000e+00  max|aij| =  1.000e+00  ratio =  1.000e+00\n",
      "Problem data seem to be well scaled\n",
      "The current solver interface glpk doesn't support setting the optimality tolerance.\n",
      "\u001b[1m============================= test session starts ==============================\u001b[0m\n",
      "platform linux -- Python 3.8.5, pytest-4.6.11, py-1.10.0, pluggy-0.13.1\n",
      "rootdir: /opt/conda/lib/python3.8/site-packages/memote/suite/tests\n",
      "plugins: anyio-3.3.4\n",
      "collected 146 items / 1 skipped / 145 selected                                 \u001b[0m\n",
      "\n",
      "../../../opt/conda/lib/python3.8/site-packages/memote/suite/tests/test_annotation.py \u001b[32m.\u001b[0m\u001b[36m [  0%]\n",
      "\u001b[0m\u001b[32m.\u001b[0m\u001b[32m.\u001b[0m\u001b[31mF\u001b[0m\u001b[31mF\u001b[0m\u001b[31mF\u001b[0m\u001b[31mF\u001b[0m\u001b[31mF\u001b[0m\u001b[31mF\u001b[0m\u001b[31mF\u001b[0m\u001b[31mF\u001b[0m\u001b[32m.\u001b[0m\u001b[32m.\u001b[0m\u001b[31mF\u001b[0m\u001b[31mF\u001b[0m\u001b[31mF\u001b[0m\u001b[31mF\u001b[0m\u001b[31mF\u001b[0m\u001b[32m.\u001b[0m\u001b[31mF\u001b[0m\u001b[31mF\u001b[0m\u001b[31mF\u001b[0m\u001b[31mF\u001b[0m\u001b[31mF\u001b[0m\u001b[31mF\u001b[0m\u001b[31mF\u001b[0m\u001b[31mF\u001b[0m\u001b[31mF\u001b[0m\u001b[31mF\u001b[0m\u001b[31mF\u001b[0m\u001b[31mF\u001b[0m\u001b[31mF\u001b[0m\u001b[31mF\u001b[0m\u001b[31mF\u001b[0m\u001b[32m.\u001b[0m\u001b[32m.\u001b[0m\u001b[31mF\u001b[0m\u001b[31mF\u001b[0m\u001b[32m.\u001b[0m\u001b[32m.\u001b[0m\u001b[31mF\u001b[0m\u001b[32m.\u001b[0m\u001b[32m.\u001b[0m\u001b[32m.\u001b[0m\u001b[31mF\u001b[0m\u001b[32m.\u001b[0m\u001b[32m.\u001b[0m\u001b[32m.\u001b[0m\u001b[32m.\u001b[0m\u001b[31mF\u001b[0m\u001b[31mF\u001b[0m\u001b[31mF\u001b[0m\u001b[32m.\u001b[0m\u001b[31mF\u001b[0m\u001b[31mF\u001b[0m\u001b[31mF\u001b[0m\u001b[31mF\u001b[0m\u001b[31mF\u001b[0m\u001b[32m.\u001b[0m\u001b[31mF\u001b[0m\u001b[31mF\u001b[0m\u001b[31mF\u001b[0m\u001b[31mF\u001b[0m\u001b[32m.\u001b[0m\u001b[32m.\u001b[0m\u001b[36m         [ 44%]\u001b[0m\n",
      "../../../opt/conda/lib/python3.8/site-packages/memote/suite/tests/test_basic.py \u001b[32m.\u001b[0m\u001b[36m [ 45%]\n",
      "\u001b[0m\u001b[32m.\u001b[0m\u001b[32m.\u001b[0m\u001b[32m.\u001b[0m\u001b[32m.\u001b[0m\u001b[32m.\u001b[0m\u001b[31mF\u001b[0m\u001b[31mF\u001b[0m\u001b[32m.\u001b[0m\u001b[32m.\u001b[0m\u001b[32m.\u001b[0m\u001b[32m.\u001b[0m\u001b[32m.\u001b[0m\u001b[32m.\u001b[0m\u001b[32m.\u001b[0m\u001b[31mF\u001b[0m\u001b[32m.\u001b[0m\u001b[32m.\u001b[0m\u001b[32m.\u001b[0m\u001b[31mF\u001b[0m\u001b[32m.\u001b[0m\u001b[31mF\u001b[0m\u001b[31mF\u001b[0m\u001b[36m                                                   [ 60%]\u001b[0m\n",
      "../../../opt/conda/lib/python3.8/site-packages/memote/suite/tests/test_biomass.py \u001b[32m.\u001b[0m\u001b[36m [ 60%]\n",
      "\u001b[0m\u001b[31mF\u001b[0m\u001b[32m.\u001b[0m\u001b[32m.\u001b[0m\u001b[32m.\u001b[0m\u001b[32m.\u001b[0m\u001b[31mF\u001b[0m\u001b[31mF\u001b[0m\u001b[32m.\u001b[0m\u001b[31mF\u001b[0m\u001b[36m                                                                [ 67%]\u001b[0m\n",
      "../../../opt/conda/lib/python3.8/site-packages/memote/suite/tests/test_consistency.py \u001b[33ms\u001b[0m\u001b[36m [ 67%]\n",
      "\u001b[0m\u001b[32m.\u001b[0m\u001b[32m.\u001b[0m\u001b[33ms\u001b[0m\u001b[33ms\u001b[0m\u001b[33ms\u001b[0m\u001b[33ms\u001b[0m\u001b[33ms\u001b[0m\u001b[33ms\u001b[0m\u001b[33ms\u001b[0m\u001b[33ms\u001b[0m\u001b[33ms\u001b[0m\u001b[33ms\u001b[0m\u001b[33ms\u001b[0m\u001b[33ms\u001b[0m\u001b[33ms\u001b[0m\u001b[33ms\u001b[0m\u001b[33ms\u001b[0m\u001b[33ms\u001b[0m\u001b[31mF\u001b[0m\u001b[31mF\u001b[0m\u001b[31mF\u001b[0m\u001b[31mF\u001b[0m\u001b[31mF\u001b[0m\u001b[31mF\u001b[0m\u001b[32m.\u001b[0m\u001b[33ms\u001b[0m\u001b[33ms\u001b[0m\u001b[31mF\u001b[0m\u001b[36m                                             [ 86%]\u001b[0m\n",
      "../../../opt/conda/lib/python3.8/site-packages/memote/suite/tests/test_essentiality.py \u001b[33ms\u001b[0m\u001b[36m [ 87%]\n",
      "\u001b[0m\u001b[36m                                                                         [ 87%]\u001b[0m\n",
      "../../../opt/conda/lib/python3.8/site-packages/memote/suite/tests/test_growth.py \u001b[33ms\u001b[0m\u001b[36m [ 88%]\n",
      "\u001b[0m\u001b[36m                                                                         [ 88%]\u001b[0m\n",
      "../../../opt/conda/lib/python3.8/site-packages/memote/suite/tests/test_matrix.py \u001b[32m.\u001b[0m\u001b[36m [ 89%]\n",
      "\u001b[0m\u001b[32m.\u001b[0m\u001b[32m.\u001b[0m\u001b[32m.\u001b[0m\u001b[36m                                                                      [ 91%]\u001b[0m\n",
      "../../../opt/conda/lib/python3.8/site-packages/memote/suite/tests/test_sbml.py \u001b[32m.\u001b[0m\u001b[36m [ 91%]\n",
      "\u001b[0m\u001b[32m.\u001b[0m\u001b[36m                                                                        [ 92%]\u001b[0m\n",
      "../../../opt/conda/lib/python3.8/site-packages/memote/suite/tests/test_sbo.py \u001b[31mF\u001b[0m\u001b[36m [ 93%]\n",
      "\u001b[0m\u001b[31mF\u001b[0m\u001b[31mF\u001b[0m\u001b[31mF\u001b[0m\u001b[31mF\u001b[0m\u001b[31mF\u001b[0m\u001b[31mF\u001b[0m\u001b[31mF\u001b[0m\u001b[33ms\u001b[0m\u001b[33ms\u001b[0m\u001b[32m.\u001b[0m\u001b[36m                                                               [100%]\u001b[0m\n",
      "\n",
      "\u001b[31m\u001b[1m============== 69 failed, 54 passed, 24 skipped in 34.17 seconds ===============\u001b[0m\n",
      "Writing snapshot report to 'iMM904.html'.\n",
      "CPU times: user 1.99 s, sys: 447 ms, total: 2.43 s\n",
      "Wall time: 1min\n"
     ]
    }
   ],
   "source": [
    "%%time\n",
    "#%%capture\n",
    "!memote report snapshot --skip test_stoichiometric_consistency \\\n",
    "    --skip test_find_metabolites_not_produced_with_open_bounds \\\n",
    "    --skip test_find_metabolites_not_consumed_with_open_bounds models/iMM904.xml --filename iMM904.html"
   ]
  },
  {
   "cell_type": "markdown",
   "metadata": {},
   "source": [
    "Now we are testing the new yeast model, Yeast8"
   ]
  },
  {
   "cell_type": "code",
   "execution_count": 3,
   "metadata": {},
   "outputs": [
    {
     "name": "stdout",
     "output_type": "stream",
     "text": [
      "Scaling...\n",
      " A: min|aij| =  1.000e+00  max|aij| =  1.000e+00  ratio =  1.000e+00\n",
      "Problem data seem to be well scaled\n",
      "The current solver interface glpk doesn't support setting the optimality tolerance.\n",
      "\u001b[1m============================= test session starts ==============================\u001b[0m\n",
      "platform linux -- Python 3.8.5, pytest-4.6.11, py-1.10.0, pluggy-0.13.1\n",
      "rootdir: /opt/conda/lib/python3.8/site-packages/memote/suite/tests\n",
      "plugins: anyio-3.3.4\n",
      "collected 146 items / 1 skipped / 145 selected                                 \u001b[0m\n",
      "\n",
      "../../../opt/conda/lib/python3.8/site-packages/memote/suite/tests/test_annotation.py \u001b[32m.\u001b[0m\u001b[36m [  0%]\n",
      "\u001b[0m\u001b[32m.\u001b[0m\u001b[32m.\u001b[0m\u001b[31mF\u001b[0m\u001b[31mF\u001b[0m\u001b[31mF\u001b[0m\u001b[31mF\u001b[0m\u001b[31mF\u001b[0m\u001b[31mF\u001b[0m\u001b[31mF\u001b[0m\u001b[31mF\u001b[0m\u001b[31mF\u001b[0m\u001b[31mF\u001b[0m\u001b[31mF\u001b[0m\u001b[31mF\u001b[0m\u001b[31mF\u001b[0m\u001b[31mF\u001b[0m\u001b[31mF\u001b[0m\u001b[31mF\u001b[0m\u001b[31mF\u001b[0m\u001b[31mF\u001b[0m\u001b[31mF\u001b[0m\u001b[31mF\u001b[0m\u001b[31mF\u001b[0m\u001b[31mF\u001b[0m\u001b[31mF\u001b[0m\u001b[31mF\u001b[0m\u001b[31mF\u001b[0m\u001b[31mF\u001b[0m\u001b[31mF\u001b[0m\u001b[31mF\u001b[0m\u001b[31mF\u001b[0m\u001b[31mF\u001b[0m\u001b[31mF\u001b[0m\u001b[32m.\u001b[0m\u001b[31mF\u001b[0m\u001b[31mF\u001b[0m\u001b[31mF\u001b[0m\u001b[32m.\u001b[0m\u001b[31mF\u001b[0m\u001b[31mF\u001b[0m\u001b[32m.\u001b[0m\u001b[32m.\u001b[0m\u001b[31mF\u001b[0m\u001b[31mF\u001b[0m\u001b[32m.\u001b[0m\u001b[31mF\u001b[0m\u001b[32m.\u001b[0m\u001b[32m.\u001b[0m\u001b[31mF\u001b[0m\u001b[32m.\u001b[0m\u001b[31mF\u001b[0m\u001b[31mF\u001b[0m\u001b[31mF\u001b[0m\u001b[31mF\u001b[0m\u001b[31mF\u001b[0m\u001b[31mF\u001b[0m\u001b[31mF\u001b[0m\u001b[31mF\u001b[0m\u001b[31mF\u001b[0m\u001b[31mF\u001b[0m\u001b[31mF\u001b[0m\u001b[31mF\u001b[0m\u001b[31mF\u001b[0m\u001b[32m.\u001b[0m\u001b[36m         [ 44%]\u001b[0m\n",
      "../../../opt/conda/lib/python3.8/site-packages/memote/suite/tests/test_basic.py \u001b[32m.\u001b[0m\u001b[36m [ 45%]\n",
      "\u001b[0m\u001b[32m.\u001b[0m\u001b[32m.\u001b[0m\u001b[32m.\u001b[0m\u001b[32m.\u001b[0m\u001b[32m.\u001b[0m\u001b[31mF\u001b[0m\u001b[32m.\u001b[0m\u001b[32m.\u001b[0m\u001b[32m.\u001b[0m\u001b[32m.\u001b[0m\u001b[32m.\u001b[0m\u001b[32m.\u001b[0m\u001b[32m.\u001b[0m\u001b[32m.\u001b[0m\u001b[31mF\u001b[0m\u001b[32m.\u001b[0m\u001b[31mF\u001b[0m\u001b[32m.\u001b[0m\u001b[31mF\u001b[0m\u001b[32m.\u001b[0m\u001b[31mF\u001b[0m\u001b[31mF\u001b[0m\u001b[36m                                                   [ 60%]\u001b[0m\n",
      "../../../opt/conda/lib/python3.8/site-packages/memote/suite/tests/test_biomass.py \u001b[32m.\u001b[0m\u001b[36m [ 60%]\n",
      "\u001b[0m\u001b[31mF\u001b[0m\u001b[32m.\u001b[0m\u001b[32m.\u001b[0m\u001b[32m.\u001b[0m\u001b[32m.\u001b[0m\u001b[32m.\u001b[0m\u001b[31mF\u001b[0m\u001b[32m.\u001b[0m\u001b[31mF\u001b[0m\u001b[36m                                                                [ 67%]\u001b[0m\n",
      "../../../opt/conda/lib/python3.8/site-packages/memote/suite/tests/test_consistency.py \u001b[33ms\u001b[0m\u001b[36m [ 67%]\n",
      "\u001b[0m\u001b[31mF\u001b[0m\u001b[31mF\u001b[0m\u001b[33ms\u001b[0m\u001b[33ms\u001b[0m\u001b[33ms\u001b[0m\u001b[33ms\u001b[0m\u001b[33ms\u001b[0m\u001b[33ms\u001b[0m\u001b[33ms\u001b[0m\u001b[33ms\u001b[0m\u001b[33ms\u001b[0m\u001b[33ms\u001b[0m\u001b[33ms\u001b[0m\u001b[33ms\u001b[0m\u001b[33ms\u001b[0m\u001b[33ms\u001b[0m\u001b[33ms\u001b[0m\u001b[33ms\u001b[0m\u001b[31mF\u001b[0m\u001b[31mF\u001b[0m\u001b[31mF\u001b[0m\u001b[31mF\u001b[0m\u001b[31mF\u001b[0m\u001b[31mF\u001b[0m\u001b[32m.\u001b[0m\u001b[33ms\u001b[0m\u001b[33ms\u001b[0m\u001b[31mF\u001b[0m\u001b[36m                                             [ 86%]\u001b[0m\n",
      "../../../opt/conda/lib/python3.8/site-packages/memote/suite/tests/test_essentiality.py \u001b[33ms\u001b[0m\u001b[36m [ 87%]\n",
      "\u001b[0m\u001b[36m                                                                         [ 87%]\u001b[0m\n",
      "../../../opt/conda/lib/python3.8/site-packages/memote/suite/tests/test_growth.py \u001b[33ms\u001b[0m\u001b[36m [ 88%]\n",
      "\u001b[0m\u001b[36m                                                                         [ 88%]\u001b[0m\n",
      "../../../opt/conda/lib/python3.8/site-packages/memote/suite/tests/test_matrix.py \u001b[32m.\u001b[0m\u001b[36m [ 89%]\n",
      "\u001b[0m\u001b[32m.\u001b[0m\u001b[32m.\u001b[0m\u001b[32m.\u001b[0m\u001b[36m                                                                      [ 91%]\u001b[0m\n",
      "../../../opt/conda/lib/python3.8/site-packages/memote/suite/tests/test_sbml.py \u001b[32m.\u001b[0m\u001b[36m [ 91%]\n",
      "\u001b[0m\u001b[32m.\u001b[0m\u001b[36m                                                                        [ 92%]\u001b[0m\n",
      "../../../opt/conda/lib/python3.8/site-packages/memote/suite/tests/test_sbo.py \u001b[31mF\u001b[0m\u001b[36m [ 93%]\n",
      "\u001b[0m\u001b[31mF\u001b[0m\u001b[31mF\u001b[0m\u001b[31mF\u001b[0m\u001b[31mF\u001b[0m\u001b[31mF\u001b[0m\u001b[31mF\u001b[0m\u001b[31mF\u001b[0m\u001b[33ms\u001b[0m\u001b[31mF\u001b[0m\u001b[32m.\u001b[0m\u001b[36m                                                               [100%]\u001b[0m\n",
      "\n",
      "\u001b[31m\u001b[1m============= 80 failed, 44 passed, 23 skipped in 1041.48 seconds ==============\u001b[0m\n",
      "Writing snapshot report to 'yeast-GEM.html'.\n",
      "CPU times: user 31.5 s, sys: 8.28 s, total: 39.8 s\n",
      "Wall time: 17min 46s\n"
     ]
    }
   ],
   "source": [
    "%%time\n",
    "#%%capture\n",
    "!memote report snapshot --skip test_stoichiometric_consistency \\\n",
    "    --skip test_find_metabolites_not_produced_with_open_bounds \\\n",
    "    --skip test_find_metabolites_not_consumed_with_open_bounds models/yeast-GEM.xml --filename yeast-GEM.html"
   ]
  },
  {
   "cell_type": "markdown",
   "metadata": {},
   "source": [
    "Now, we want to compare the two yeast models"
   ]
  },
  {
   "cell_type": "code",
   "execution_count": 5,
   "metadata": {},
   "outputs": [
    {
     "name": "stdout",
     "output_type": "stream",
     "text": [
      "Scaling...\n",
      " A: min|aij| =  1.000e+00  max|aij| =  1.000e+00  ratio =  1.000e+00\n",
      "Problem data seem to be well scaled\n",
      "The current solver interface glpk doesn't support setting the optimality tolerance.\n",
      "The current solver interface glpk doesn't support setting the optimality tolerance.\n",
      "\u001b[1m============================= test session starts ==============================\u001b[0m\n",
      "platform linux -- Python 3.8.5, pytest-4.6.11, py-1.10.0, pluggy-0.13.1\n",
      "rootdir: /opt/conda/lib/python3.8/site-packages/memote/suite/tests\n",
      "plugins: anyio-3.3.4\n",
      "\u001b[1mcollecting ... \u001b[0m\u001b[1m============================= test session starts ==============================\u001b[0m\n",
      "platform linux -- Python 3.8.5, pytest-4.6.11, py-1.10.0, pluggy-0.13.1\n",
      "rootdir: /opt/conda/lib/python3.8/site-packages/memote/suite/tests\n",
      "plugins: anyio-3.3.4\n",
      "collected 146 items / 1 skipped / 145 selected                                 \u001b[0m\n",
      "\n",
      "../../../opt/conda/lib/python3.8/site-packages/memote/suite/tests/test_annotation.py \u001b[32m.\u001b[0m\u001b[36m [  0%]\n",
      "collected 146 items / 1 skipped / 145 selected                                 \u001b[0m\n",
      "\n",
      "../../../opt/conda/lib/python3.8/site-packages/memote/suite/tests/test_annotation.py \u001b[31mF\u001b[0m\u001b[32m.\u001b[0m\u001b[36m [  0%]\n",
      "\u001b[0m\u001b[32m.\u001b[0m\u001b[32m.\u001b[0m\u001b[31mF\u001b[0m\u001b[31mF\u001b[0m\u001b[31mF\u001b[0m\u001b[31mF\u001b[0m\u001b[31mF\u001b[0m\u001b[31mF\u001b[0m\u001b[31mF\u001b[0m\u001b[31mF\u001b[0m\u001b[31mF\u001b[0m\u001b[31mF\u001b[0m\u001b[31mF\u001b[0m\u001b[32m.\u001b[0m\u001b[32m.\u001b[0m\u001b[31mF\u001b[0m\u001b[31mF\u001b[0m\u001b[31mF\u001b[0m\u001b[31mF\u001b[0m\u001b[31mF\u001b[0m\u001b[31mF\u001b[0m\u001b[31mF\u001b[0m\u001b[31mF\u001b[0m\u001b[31mF\u001b[0m\u001b[32m.\u001b[0m\u001b[31mF\u001b[0m\u001b[31mF\u001b[0m\u001b[31mF\u001b[0m\u001b[31mF\u001b[0m\u001b[31mF\u001b[0m\u001b[31mF\u001b[0m\u001b[31mF\u001b[0m\u001b[31mF\u001b[0m\u001b[31mF\u001b[0m\u001b[31mF\u001b[0m\u001b[31mF\u001b[0m\u001b[31mF\u001b[0m\u001b[31mF\u001b[0m\u001b[31mF\u001b[0m\u001b[31mF\u001b[0m\u001b[31mF\u001b[0m\u001b[31mF\u001b[0m\u001b[31mF\u001b[0m\u001b[31mF\u001b[0m\u001b[31mF\u001b[0m\u001b[31mF\u001b[0m\u001b[31mF\u001b[0m\u001b[31mF\u001b[0m\u001b[31mF\u001b[0m\u001b[31mF\u001b[0m\u001b[31mF\u001b[0m\u001b[31mF\u001b[0m\u001b[31mF\u001b[0m\u001b[31mF\u001b[0m\u001b[32m.\u001b[0m\u001b[31mF\u001b[0m\u001b[32m.\u001b[0m\u001b[31mF\u001b[0m\u001b[31mF\u001b[0m\u001b[31mF\u001b[0m\u001b[31mF\u001b[0m\u001b[31mF\u001b[0m\u001b[32m.\u001b[0m\u001b[31mF\u001b[0m\u001b[32m.\u001b[0m\u001b[31mF\u001b[0m\u001b[31mF\u001b[0m\u001b[32m.\u001b[0m\u001b[31mF\u001b[0m\u001b[32m.\u001b[0m\u001b[32m.\u001b[0m\u001b[31mF\u001b[0m\u001b[31mF\u001b[0m\u001b[31mF\u001b[0m\u001b[32m.\u001b[0m\u001b[32m.\u001b[0m\u001b[32m.\u001b[0m\u001b[32m.\u001b[0m\u001b[31mF\u001b[0m\u001b[32m.\u001b[0m\u001b[31mF\u001b[0m\u001b[31mF\u001b[0m\u001b[31mF\u001b[0m\u001b[31mF\u001b[0m\u001b[32m.\u001b[0m\u001b[31mF\u001b[0m\u001b[31mF\u001b[0m\u001b[32m.\u001b[0m\u001b[31mF\u001b[0m\u001b[31mF\u001b[0m\u001b[32m.\u001b[0m\u001b[31mF\u001b[0m\u001b[32m.\u001b[0m\u001b[31mF\u001b[0m\u001b[31mF\u001b[0m\u001b[31mF\u001b[0m\u001b[31mF\u001b[0m\u001b[31mF\u001b[0m\u001b[32m.\u001b[0m\u001b[32m.\u001b[0m\u001b[31mF\u001b[0m\u001b[31mF\u001b[0m\u001b[32m.\u001b[0m\u001b[31mF\u001b[0m\u001b[32m.\u001b[0m\u001b[31mF\u001b[0m\u001b[31mF\u001b[0m\u001b[31mF\u001b[0m\u001b[32m.\u001b[0m\u001b[31mF\u001b[0m\u001b[32m.\u001b[0m\u001b[31mF\u001b[0m\u001b[31mF\u001b[0m\u001b[32m.\u001b[0m\u001b[36m         [ 44%]\u001b[0m\n",
      "../../../opt/conda/lib/python3.8/site-packages/memote/suite/tests/test_basic.py \u001b[32m.\u001b[0m\u001b[36m [ 45%]\n",
      "\u001b[0m\u001b[32m.\u001b[0m\u001b[32m.\u001b[0m\u001b[32m.\u001b[0m\u001b[31mF\u001b[0m\u001b[32m.\u001b[0m\u001b[32m.\u001b[0m\u001b[31mF\u001b[0m\u001b[31mF\u001b[0m\u001b[31mF\u001b[0m\u001b[31mF\u001b[0m\u001b[31mF\u001b[0m\u001b[31mF\u001b[0m\u001b[31mF\u001b[0m\u001b[31mF\u001b[0m\u001b[31mF\u001b[0m\u001b[31mF\u001b[0m\u001b[32m.\u001b[0m\u001b[36m         [ 44%]\u001b[0m\n",
      "../../../opt/conda/lib/python3.8/site-packages/memote/suite/tests/test_basic.py \u001b[32m.\u001b[0m\u001b[36m [ 45%]\n",
      "\u001b[0m\u001b[32m.\u001b[0m\u001b[32m.\u001b[0m\u001b[32m.\u001b[0m\u001b[32m.\u001b[0m\u001b[32m.\u001b[0m\u001b[31mF\u001b[0m\u001b[31mF\u001b[0m\u001b[32m.\u001b[0m\u001b[32m.\u001b[0m\u001b[32m.\u001b[0m\u001b[32m.\u001b[0m\u001b[32m.\u001b[0m\u001b[32m.\u001b[0m\u001b[32m.\u001b[0m\u001b[31mF\u001b[0m\u001b[32m.\u001b[0m\u001b[32m.\u001b[0m\u001b[32m.\u001b[0m\u001b[32m.\u001b[0m\u001b[32m.\u001b[0m\u001b[32m.\u001b[0m\u001b[32m.\u001b[0m\u001b[32m.\u001b[0m\u001b[32m.\u001b[0m\u001b[32m.\u001b[0m\u001b[31mF\u001b[0m\u001b[32m.\u001b[0m\u001b[32m.\u001b[0m\u001b[31mF\u001b[0m\u001b[32m.\u001b[0m\u001b[31mF\u001b[0m\u001b[31mF\u001b[0m\u001b[36m                                                   [ 60%]\u001b[0m\n",
      "../../../opt/conda/lib/python3.8/site-packages/memote/suite/tests/test_biomass.py \u001b[32m.\u001b[0m\u001b[36m [ 60%]\n",
      "\u001b[0m\u001b[31mF\u001b[0m\u001b[32m.\u001b[0m\u001b[32m.\u001b[0m\u001b[31mF\u001b[0m\u001b[32m.\u001b[0m\u001b[32m.\u001b[0m\u001b[32m.\u001b[0m\u001b[31mF\u001b[0m\u001b[31mF\u001b[0m\u001b[32m.\u001b[0m\u001b[31mF\u001b[0m\u001b[32m.\u001b[0m\u001b[31mF\u001b[0m\u001b[36m                                                                [ 67%]\u001b[0m\n",
      "../../../opt/conda/lib/python3.8/site-packages/memote/suite/tests/test_consistency.py \u001b[32m.\u001b[0m\u001b[36m [ 67%]\n",
      "\u001b[0m\u001b[31mF\u001b[0m\u001b[31mF\u001b[0m\u001b[36m                                                   [ 60%]\u001b[0m\n",
      "../../../opt/conda/lib/python3.8/site-packages/memote/suite/tests/test_biomass.py \u001b[32m.\u001b[0m\u001b[36m [ 60%]\n",
      "\u001b[0m\u001b[31mF\u001b[0m\u001b[32m.\u001b[0m\u001b[32m.\u001b[0m\u001b[32m.\u001b[0m\u001b[32m.\u001b[0m\u001b[33ms\u001b[0m\u001b[33ms\u001b[0m\u001b[33ms\u001b[0m\u001b[33ms\u001b[0m\u001b[33ms\u001b[0m\u001b[33ms\u001b[0m\u001b[33ms\u001b[0m\u001b[33ms\u001b[0m\u001b[33ms\u001b[0m\u001b[33ms\u001b[0m\u001b[33ms\u001b[0m\u001b[33ms\u001b[0m\u001b[33ms\u001b[0m\u001b[33ms\u001b[0m\u001b[33ms\u001b[0m\u001b[33ms\u001b[0m\u001b[31mF\u001b[0m\u001b[31mF\u001b[0m\u001b[31mF\u001b[0m\u001b[31mF\u001b[0m\u001b[31mF\u001b[0m\u001b[31mF\u001b[0m\u001b[32m.\u001b[0m\u001b[31mF\u001b[0m\u001b[31mF\u001b[0m\u001b[31mF\u001b[0m\u001b[36m                                             [ 86%]\u001b[0m\n",
      "../../../opt/conda/lib/python3.8/site-packages/memote/suite/tests/test_essentiality.py \u001b[33ms\u001b[0m\u001b[36m [ 87%]\n",
      "\u001b[0m\u001b[36m                                                                         [ 87%]\u001b[0m\n",
      "../../../opt/conda/lib/python3.8/site-packages/memote/suite/tests/test_growth.py \u001b[33ms\u001b[0m\u001b[36m [ 88%]\n",
      "\u001b[0m\u001b[36m                                                                         [ 88%]\u001b[0m\n",
      "../../../opt/conda/lib/python3.8/site-packages/memote/suite/tests/test_matrix.py \u001b[32m.\u001b[0m\u001b[36m [ 89%]\n",
      "\u001b[0m\u001b[32m.\u001b[0m\u001b[32m.\u001b[0m\u001b[32m.\u001b[0m\u001b[31mF\u001b[0m\u001b[32m.\u001b[0m\u001b[32m.\u001b[0m\u001b[32m.\u001b[0m\u001b[32m.\u001b[0m\u001b[36m                                                                      [ 91%]\u001b[0m\n",
      "../../../opt/conda/lib/python3.8/site-packages/memote/suite/tests/test_sbml.py \u001b[32m.\u001b[0m\u001b[36m [ 91%]\n",
      "\u001b[0m\u001b[32m.\u001b[0m\u001b[36m                                                                        [ 92%]\u001b[0m\n",
      "../../../opt/conda/lib/python3.8/site-packages/memote/suite/tests/test_sbo.py \u001b[31mF\u001b[0m\u001b[36m [ 93%]\n",
      "\u001b[0m\u001b[31mF\u001b[0m\u001b[36m                                                                [ 67%]\u001b[0m\n",
      "../../../opt/conda/lib/python3.8/site-packages/memote/suite/tests/test_consistency.py \u001b[31mF\u001b[0m\u001b[31mF\u001b[0m\u001b[31mF\u001b[0m\u001b[31mF\u001b[0m\u001b[31mF\u001b[0m\u001b[31mF\u001b[0m\u001b[31mF\u001b[0m\u001b[33ms\u001b[0m\u001b[33ms\u001b[0m\u001b[32m.\u001b[0m\u001b[36m                                                               [100%]\u001b[0m\n",
      "\n",
      "\u001b[31m\u001b[1m============== 71 failed, 55 passed, 21 skipped in 39.08 seconds ===============\u001b[0m\n",
      "\u001b[31mF\u001b[0m\u001b[36m [ 67%]\n",
      "\u001b[0m\u001b[31mF\u001b[0m\u001b[31mF\u001b[0m\u001b[33ms\u001b[0m\u001b[33ms\u001b[0m\u001b[33ms\u001b[0m\u001b[33ms\u001b[0m\u001b[33ms\u001b[0m\u001b[33ms\u001b[0m\u001b[33ms\u001b[0m\u001b[33ms\u001b[0m\u001b[33ms\u001b[0m\u001b[33ms\u001b[0m\u001b[33ms\u001b[0m\u001b[33ms\u001b[0m\u001b[33ms\u001b[0m\u001b[33ms\u001b[0m\u001b[33ms\u001b[0m\u001b[33ms\u001b[0m\u001b[31mF\u001b[0m\u001b[31mF\u001b[0m\u001b[31mF\u001b[0m\u001b[31mF\u001b[0m\u001b[31mF\u001b[0m\u001b[31mF\u001b[0m\u001b[32m.\u001b[0m\u001b[31mF\u001b[0m\u001b[31mF\u001b[0m\u001b[31mF\u001b[0m\u001b[36m                                             [ 86%]\u001b[0m\n",
      "../../../opt/conda/lib/python3.8/site-packages/memote/suite/tests/test_essentiality.py \u001b[33ms\u001b[0m\u001b[36m [ 87%]\n",
      "\u001b[0m\u001b[36m                                                                         [ 87%]\u001b[0m\n",
      "../../../opt/conda/lib/python3.8/site-packages/memote/suite/tests/test_growth.py \u001b[33ms\u001b[0m\u001b[36m [ 88%]\n",
      "\u001b[0m\u001b[36m                                                                         [ 88%]\u001b[0m\n",
      "../../../opt/conda/lib/python3.8/site-packages/memote/suite/tests/test_matrix.py \u001b[32m.\u001b[0m\u001b[36m [ 89%]\n",
      "\u001b[0m\u001b[32m.\u001b[0m\u001b[32m.\u001b[0m\u001b[32m.\u001b[0m\u001b[36m                                                                      [ 91%]\u001b[0m\n",
      "../../../opt/conda/lib/python3.8/site-packages/memote/suite/tests/test_sbml.py \u001b[32m.\u001b[0m\u001b[36m [ 91%]\n",
      "\u001b[0m\u001b[32m.\u001b[0m\u001b[36m                                                                        [ 92%]\u001b[0m\n",
      "../../../opt/conda/lib/python3.8/site-packages/memote/suite/tests/test_sbo.py \u001b[31mF\u001b[0m\u001b[36m [ 93%]\n",
      "\u001b[0m\u001b[31mF\u001b[0m\u001b[31mF\u001b[0m\u001b[31mF\u001b[0m\u001b[31mF\u001b[0m\u001b[31mF\u001b[0m\u001b[31mF\u001b[0m\u001b[31mF\u001b[0m\u001b[33ms\u001b[0m\u001b[31mF\u001b[0m\u001b[32m.\u001b[0m\u001b[36m                                                               [100%]\u001b[0m\n",
      "\n",
      "\u001b[31m\u001b[1m============= 83 failed, 44 passed, 20 skipped in 1109.34 seconds ==============\u001b[0m\n",
      "Writing diff report to 'model.comparison.html'.\n"
     ]
    }
   ],
   "source": [
    "!memote report diff models/yeast-GEM.xml models/iMM904.xml --filename model.comparison.html"
   ]
  },
  {
   "cell_type": "markdown",
   "metadata": {},
   "source": [
    "A summary of the results is shown below"
   ]
  },
  {
   "cell_type": "markdown",
   "metadata": {},
   "source": [
    "__Model__ | __Total score (%)__ | __Total reactions__ | __Total metabolites__ | __Total genes__ | __Metabolic coverage__ | __Consistency score (%)__ | __Annotation-metabolites score (%)__ | __Annotation-reactions score (%)__\n",
    "------------ | ------------- | ------------- | ------------- | ------------- | ------------- | ------------- | ------------- | -------------\n",
    "iMM904 | 68 | 1,577 | 1,226 | 905 | 1.74 | 53 | 80 | 82\n",
    "Yeast8 | 65 | 4,058 | 2,742 | 1,150 | 3.53 | 50 | 41 | 65"
   ]
  }
 ],
 "metadata": {
  "kernelspec": {
   "display_name": "Python 3",
   "language": "python",
   "name": "python3"
  },
  "language_info": {
   "codemirror_mode": {
    "name": "ipython",
    "version": 3
   },
   "file_extension": ".py",
   "mimetype": "text/x-python",
   "name": "python",
   "nbconvert_exporter": "python",
   "pygments_lexer": "ipython3",
   "version": "3.8.8"
  }
 },
 "nbformat": 4,
 "nbformat_minor": 4
}
