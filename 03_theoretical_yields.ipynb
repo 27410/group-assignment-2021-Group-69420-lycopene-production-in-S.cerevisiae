{
 "cells": [
  {
   "cell_type": "code",
   "execution_count": 5,
   "metadata": {},
   "outputs": [],
   "source": [
    "from cobra.io import read_sbml_model"
   ]
  },
  {
   "cell_type": "code",
   "execution_count": 7,
   "metadata": {},
   "outputs": [],
   "source": [
    "model=read_sbml_model('models/yeast_lyco.xml')"
   ]
  },
  {
   "cell_type": "markdown",
   "metadata": {},
   "source": [
    "# Maximum theoretical yield of lycopene using default medium"
   ]
  },
  {
   "cell_type": "markdown",
   "metadata": {},
   "source": [
    "**Calculating the maximum productivity and maximum theoretical yield in mmol/mmol:**"
   ]
  },
  {
   "cell_type": "code",
   "execution_count": 9,
   "metadata": {},
   "outputs": [
    {
     "name": "stdout",
     "output_type": "stream",
     "text": [
      "Maximum productivity of lycopene = 0.0871195699738864 mmol/gDW*h\n",
      "Maximum theoretical yield = 0.0871195699738864 mmol-lyco/mmol-glc\n"
     ]
    }
   ],
   "source": [
    "with model:\n",
    "    model.objective = model.reactions.CrtI #Setting the objective to the reaction, which is producing Lycopene\n",
    "    lycopene_production = model.optimize().objective_value\n",
    "    print('Maximum productivity of lycopene =', lycopene_production, 'mmol/gDW*h')\n",
    "\n",
    "    glc_uptake_flux = model.reactions.r_1714.flux \n",
    "    max_yield = lycopene_production / (-1*glc_uptake_flux)\n",
    "    print('Maximum theoretical yield =', max_yield, 'mmol-lyco/mmol-glc')"
   ]
  },
  {
   "cell_type": "markdown",
   "metadata": {},
   "source": [
    "**Calculating the maximum productivity and maximum theoretical yield in C-mol/C-mol:**"
   ]
  },
  {
   "cell_type": "code",
   "execution_count": 3,
   "metadata": {},
   "outputs": [
    {
     "name": "stdout",
     "output_type": "stream",
     "text": [
      "Maximum productivity of lycopene = 0.00217798924934716 cmol-lyco/gDW*h\n",
      "Maximum theoretical yield = 0.5807971331592426 cmol-lyco/cmol-glc\n"
     ]
    }
   ],
   "source": [
    "# Factors for conversion from mol to C-mol\n",
    "cv_glc = 6   # Glucose\n",
    "cv_lyco = 40 # Lycopene\n",
    "\n",
    "lyco_prod_cmol = (lycopene_production)/(cv_lyco)\n",
    "lyco_yield_cmol = (max_yield*cv_lyco)/(cv_glc)\n",
    "print('Maximum productivity of lycopene =', lyco_prod_cmol, 'cmol-lyco/gDW*h')\n",
    "print('Maximum theoretical yield =', lyco_yield_cmol, 'cmol-lyco/cmol-glc')"
   ]
  },
  {
   "cell_type": "markdown",
   "metadata": {},
   "source": [
    "The theoretical production and yield of lycopene on glucose is fairly low.\\\n",
    "Summarized in mmol units:\n",
    "\n",
    "- Maximum productivity = $0.087 \\frac{mmol-lyco}{g DW \\cdot h}$\n",
    "\n",
    "- Maximum yield = $0.087 \\frac{mmol-lyco}{mmol-glc}$\n",
    "\n",
    "And in C-mol units:\n",
    "\n",
    "- Maximum productivity = $0.002 \\frac{cmol-lyco}{g DW \\cdot h}$\n",
    "\n",
    "- Maximum yield = $0.581 \\frac{cmol-lyco}{cmol-glc}$"
   ]
  },
  {
   "cell_type": "markdown",
   "metadata": {},
   "source": [
    "#### Increasing the glucose concentration in order to increase lycopene production:\n",
    "\n",
    "Firstly, we check the medium composition:"
   ]
  },
  {
   "cell_type": "code",
   "execution_count": 4,
   "metadata": {},
   "outputs": [
    {
     "name": "stdout",
     "output_type": "stream",
     "text": [
      "r_1654: s_0420[e] <=>  | ammonium exchange | conc. = 1000.0\n",
      "r_1714: s_0565[e] <=>  | D-glucose exchange | conc. = 1.0\n",
      "r_1832: s_0796[e] <=>  | H+ exchange | conc. = 1000.0\n",
      "r_1861: s_0925[e] <=>  | iron(2+) exchange | conc. = 1000.0\n",
      "r_1992: s_1277[e] <=>  | oxygen exchange | conc. = 1000.0\n",
      "r_2005: s_1324[e] <=>  | phosphate exchange | conc. = 1000.0\n",
      "r_2020: s_1374[e] <=>  | potassium exchange | conc. = 1000.0\n",
      "r_2049: s_1438[e] <=>  | sodium exchange | conc. = 1000.0\n",
      "r_2060: s_1468[e] <=>  | sulphate exchange | conc. = 1000.0\n",
      "r_2100: s_0805[e] <=>  | water exchange | conc. = 1000.0\n",
      "r_4593: s_4200[e] <=>  | chloride exchange | conc. = 1000.0\n",
      "r_4594: s_4201[e] <=>  | Cu2(+) exchange | conc. = 1000.0\n",
      "r_4595: s_4202[e] <=>  | Mn(2+) exchange | conc. = 1000.0\n",
      "r_4596: s_4203[e] <=>  | Zn(2+) exchange | conc. = 1000.0\n",
      "r_4597: s_4204[e] <=>  | Mg(2+) exchange | conc. = 1000.0\n",
      "r_4600: s_4199[e] <=>  | Ca(2+) exchange | conc. = 1000.0\n"
     ]
    }
   ],
   "source": [
    "# Checking medium composition via the extracellular exchange reactions\n",
    "for m in model.medium.items():\n",
    "    print(model.reactions.get_by_id(m[0]), \"|\", model.reactions.get_by_id(m[0]).name, \"| conc. =\", m[1])"
   ]
  },
  {
   "cell_type": "markdown",
   "metadata": {},
   "source": [
    "#### Increasing glucose concentration and investigating the effects on growth rate:"
   ]
  },
  {
   "cell_type": "code",
   "execution_count": 11,
   "metadata": {},
   "outputs": [],
   "source": [
    "medium_glc_ex = model.reactions.get_by_id('r_1714')"
   ]
  },
  {
   "cell_type": "code",
   "execution_count": 12,
   "metadata": {},
   "outputs": [
    {
     "name": "stdout",
     "output_type": "stream",
     "text": [
      "At glucose concentration = 1.0: Maximum theoretical growth rate = 0.08374775763992785 h^-1\n",
      "At glucose concentration = 1000: Maximum theoretical growth rate = 19.81683025946431 h^-1\n"
     ]
    }
   ],
   "source": [
    "medium = model.medium\n",
    "with model: #modification are donw locally within the indent\n",
    "    growth_rate = model.optimize().objective_value\n",
    "    print(\"At glucose concentration = {}:\".format(medium[medium_glc_ex.id]), \"Maximum theoretical growth rate =\", growth_rate, \"h^-1\")\n",
    "    \n",
    "    medium[medium_glc_ex.id] = 1000 #glucose level is changed \n",
    "    model.medium = medium\n",
    "    \n",
    "    growth_rate = model.optimize().objective_value\n",
    "    print(\"At glucose concentration = {}:\".format(medium[medium_glc_ex.id]), \"Maximum theoretical growth rate =\", growth_rate, \"h^-1\")    "
   ]
  },
  {
   "cell_type": "markdown",
   "metadata": {},
   "source": [
    "#### Increasing the effects of glucose on lycopene production:"
   ]
  },
  {
   "cell_type": "code",
   "execution_count": 23,
   "metadata": {},
   "outputs": [
    {
     "name": "stdout",
     "output_type": "stream",
     "text": [
      "At glucose concentration = 1.0:\n",
      "Maximum theoretical productivity of lycopene = 0.08711956997388663 mmol/(gDW*h^-1)\n",
      "Maximum theoretical yield = 0.08711956997388663 mmol-lyco/mmol-glc\n",
      "\n",
      "At glucose concentration = 1000:\n",
      "Maximum theoretical productivity of lycopene = 25.825440917107475 mmol/(gDW*h*^-1)\n",
      "Maximum theoretical yield = 0.04014908299958047 mmol-lyco/mmol-glc\n",
      "\n"
     ]
    }
   ],
   "source": [
    "medium = model.medium\n",
    "with model:\n",
    "    model.objective = model.reactions.CrtI #Setting the objective to the reaction, which is producing Lycopene\n",
    "    lycopene_production = model.optimize().objective_value\n",
    "    print(\"At glucose concentration = {}:\".format(medium[medium_glc_ex.id]))\n",
    "    print('Maximum theoretical productivity of lycopene =', lycopene_production, 'mmol/(gDW*h^-1)')\n",
    "    \n",
    "    glc_uptake_flux = model.reactions.r_1714.flux \n",
    "    max_yield = lycopene_production / (-1*glc_uptake_flux)\n",
    "    print('Maximum theoretical yield =', max_yield, 'mmol-lyco/mmol-glc\\n')\n",
    "    \n",
    "    medium[medium_glc_ex.id] = 1000\n",
    "    model.medium = medium\n",
    "\n",
    "    lycopene_production = model.optimize().objective_value\n",
    "    glc_uptake_flux = model.reactions.r_1714.flux\n",
    "    max_yield = lycopene_production / (-1*glc_uptake_flux)\n",
    "    print(\"At glucose concentration = {}:\".format(medium[medium_glc_ex.id]))\n",
    "    print('Maximum theoretical productivity of lycopene =', lycopene_production, 'mmol/(gDW*h*^-1)')\n",
    "    print('Maximum theoretical yield =', max_yield, 'mmol-lyco/mmol-glc\\n')"
   ]
  },
  {
   "cell_type": "markdown",
   "metadata": {},
   "source": [
    "Increasing the external glucose concentration 1000-fold can theoreticlaly increase the lycopene productivity from $0.087 \\frac{mmol}{gDW \\cdot h}$ to approximately $25.825 \\frac{mmol}{gDW \\cdot h}$.\\\n",
    "This is a 296-fold increase!\n",
    "\n",
    "However, this observation is not the complete picture, as increasing glucose concentration decreases the potential yield of lycopene from $0.087 \\frac{mmol-lyco}{mmol-glc}$ to $0.040 \\frac{mmol-lyco}{mmol-glc}$."
   ]
  }
 ],
 "metadata": {
  "kernelspec": {
   "display_name": "Python 3",
   "language": "python",
   "name": "python3"
  },
  "language_info": {
   "codemirror_mode": {
    "name": "ipython",
    "version": 3
   },
   "file_extension": ".py",
   "mimetype": "text/x-python",
   "name": "python",
   "nbconvert_exporter": "python",
   "pygments_lexer": "ipython3",
   "version": "3.8.8"
  }
 },
 "nbformat": 4,
 "nbformat_minor": 4
}
