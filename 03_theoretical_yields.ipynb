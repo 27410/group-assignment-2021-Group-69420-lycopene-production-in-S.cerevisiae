{
 "cells": [
  {
   "cell_type": "code",
   "execution_count": 2,
   "metadata": {},
   "outputs": [],
   "source": [
    "from cobra.io import read_sbml_model"
   ]
  },
  {
   "cell_type": "code",
   "execution_count": 3,
   "metadata": {},
   "outputs": [],
   "source": [
    "model=read_sbml_model('models/yeast_lyco.xml')"
   ]
  },
  {
   "cell_type": "markdown",
   "metadata": {},
   "source": [
    "# Maximum theoretical yield of lycopene using default medium"
   ]
  },
  {
   "cell_type": "markdown",
   "metadata": {},
   "source": [
    "#### Calculating the maximum productivity and maximum threoretical yields in mmol/mmol:"
   ]
  },
  {
   "cell_type": "code",
   "execution_count": 4,
   "metadata": {},
   "outputs": [
    {
     "name": "stdout",
     "output_type": "stream",
     "text": [
      "Maximum productivity of lycopene = 0.0871195699738864 mmol/gDW*h\n",
      "Maximum theoretical yield = 0.0871195699738864 mmol-lyco/mmol-glc\n"
     ]
    }
   ],
   "source": [
    "with model:\n",
    "    model.objective = model.reactions.CrtI #Setting the objective to the reaction, which is producing Lycopene\n",
    "    lycopene_production = model.optimize().objective_value\n",
    "    print('Maximum productivity of lycopene =', lycopene_production, 'mmol/gDW*h')\n",
    "\n",
    "    glc_uptake_flux = model.reactions.r_1714.flux \n",
    "    max_yield = lycopene_production / (-1*glc_uptake_flux)\n",
    "    print('Maximum theoretical yield =', max_yield, 'mmol-lyco/mmol-glc')"
   ]
  },
  {
   "cell_type": "markdown",
   "metadata": {},
   "source": [
    "#### Calculating the maximum productivity and maximum threoretical yields in C-mol/C-mol:"
   ]
  },
  {
   "cell_type": "code",
   "execution_count": 5,
   "metadata": {},
   "outputs": [
    {
     "name": "stdout",
     "output_type": "stream",
     "text": [
      "Maximum productivity of lycopene = 0.00217798924934716 cmol-lyco/gDW*h\n",
      "Maximum theoretical yield = 0.5807971331592426 cmol-lyco/cmol-glc\n"
     ]
    }
   ],
   "source": [
    "# Factors for conversion from mol to C-mol\n",
    "cv_glc = 6   # Glucose\n",
    "cv_lyco = 40 # Lycopene\n",
    "\n",
    "lyco_prod_cmol = (lycopene_production)/(cv_lyco)\n",
    "lyco_yield_cmol = (max_yield*cv_lyco)/(cv_glc)\n",
    "print('Maximum productivity of lycopene =', lyco_prod_cmol, 'cmol-lyco/gDW*h')\n",
    "print('Maximum theoretical yield =', lyco_yield_cmol, 'cmol-lyco/cmol-glc')"
   ]
  },
  {
   "cell_type": "markdown",
   "metadata": {},
   "source": [
    "The theoretical production and yield of lycopene on glucose is fairly low.\\\n",
    "Summarized in mmol units:\n",
    "\n",
    "- Maximum productivity = $0.087 \\frac{mmol-lyco}{g DW \\cdot h}$\n",
    "\n",
    "- Maximum yield = $0.087 \\frac{mmol-lyco}{mmol-glc}$\n",
    "\n",
    "And in cmol units:\n",
    "\n",
    "- Maximum productivity = $0.002 \\frac{cmol-lyco}{g DW \\cdot h}$\n",
    "\n",
    "- Maximum yield = $0.581 \\frac{cmol-lyco}{cmol-glc}$"
   ]
  },
  {
   "cell_type": "markdown",
   "metadata": {},
   "source": [
    "#### Now trying to increase the glucose concentration to increase lycopene production\n",
    "\n",
    "Firstly, checking medium composition:"
   ]
  },
  {
   "cell_type": "code",
   "execution_count": 6,
   "metadata": {},
   "outputs": [
    {
     "name": "stdout",
     "output_type": "stream",
     "text": [
      "r_1654: s_0420[e] <=>  | ammonium exchange | conc. = 1000.0\n",
      "r_1714: s_0565[e] <=>  | D-glucose exchange | conc. = 1.0\n",
      "r_1832: s_0796[e] <=>  | H+ exchange | conc. = 1000.0\n",
      "r_1861: s_0925[e] <=>  | iron(2+) exchange | conc. = 1000.0\n",
      "r_1992: s_1277[e] <=>  | oxygen exchange | conc. = 1000.0\n",
      "r_2005: s_1324[e] <=>  | phosphate exchange | conc. = 1000.0\n",
      "r_2020: s_1374[e] <=>  | potassium exchange | conc. = 1000.0\n",
      "r_2049: s_1438[e] <=>  | sodium exchange | conc. = 1000.0\n",
      "r_2060: s_1468[e] <=>  | sulphate exchange | conc. = 1000.0\n",
      "r_2100: s_0805[e] <=>  | water exchange | conc. = 1000.0\n",
      "r_4593: s_4200[e] <=>  | chloride exchange | conc. = 1000.0\n",
      "r_4594: s_4201[e] <=>  | Cu2(+) exchange | conc. = 1000.0\n",
      "r_4595: s_4202[e] <=>  | Mn(2+) exchange | conc. = 1000.0\n",
      "r_4596: s_4203[e] <=>  | Zn(2+) exchange | conc. = 1000.0\n",
      "r_4597: s_4204[e] <=>  | Mg(2+) exchange | conc. = 1000.0\n",
      "r_4600: s_4199[e] <=>  | Ca(2+) exchange | conc. = 1000.0\n"
     ]
    }
   ],
   "source": [
    "# Checking medium composition via the extracellular exchange reactions\n",
    "for m in model.medium.items():\n",
    "    print(model.reactions.get_by_id(m[0]), \"|\", model.reactions.get_by_id(m[0]).name, \"| conc. =\", m[1])"
   ]
  },
  {
   "cell_type": "markdown",
   "metadata": {},
   "source": [
    "#### Increasing glucose concentration and investigating effects on growth rate:"
   ]
  },
  {
   "cell_type": "markdown",
   "metadata": {},
   "source": [
    "Firstly, we check the medim composition: "
   ]
  },
  {
   "cell_type": "code",
   "execution_count": 7,
   "metadata": {},
   "outputs": [],
   "source": [
    "medium_glc_ex = model.reactions.get_by_id('r_1714')"
   ]
  },
  {
   "cell_type": "code",
   "execution_count": 8,
   "metadata": {},
   "outputs": [
    {
     "name": "stdout",
     "output_type": "stream",
     "text": [
      "At glucose concentration = 1.0: Maximum theoretical growth rate = 0.08374775763992785 h^-1\n",
      "At glucose concentration = 1000: Maximum theoretical growth rate = 19.81683025946431 h^-1\n"
     ]
    }
   ],
   "source": [
    "medium = model.medium\n",
    "with model: #modification are done locally within the indent\n",
    "    growth_rate = model.optimize().objective_value\n",
    "    print(\"At glucose concentration = {}:\".format(medium[medium_glc_ex.id]), \"Maximum theoretical growth rate =\", growth_rate, \"h^-1\")\n",
    "    \n",
    "    medium[medium_glc_ex.id] = 1000 #glucose level is changed \n",
    "    model.medium = medium\n",
    "    \n",
    "    growth_rate = model.optimize().objective_value\n",
    "    print(\"At glucose concentration = {}:\".format(medium[medium_glc_ex.id]), \"Maximum theoretical growth rate =\", growth_rate, \"h^-1\")    "
   ]
  },
  {
   "cell_type": "markdown",
   "metadata": {},
   "source": [
    "#### Increased glucose effects on lycopene production:"
   ]
  },
  {
   "cell_type": "code",
   "execution_count": 9,
   "metadata": {},
   "outputs": [
    {
     "name": "stdout",
     "output_type": "stream",
     "text": [
      "At glucose concentration = 1.0:\n",
      "Maximum theoretical productivity of lycopene = 0.08711956997388677 mmol/(gDW*h^-1)\n",
      "Maximum theoretical yield = 0.08711956997388677 mmol-lyco/mmol-glc\n",
      "\n",
      "At glucose concentration = 700:\n",
      "Maximum theoretical productivity of lycopene = 25.82544091710761 mmol/(gDW*h*^-1)\n",
      "Maximum theoretical yield = 0.04014908299958078 mmol-lyco/mmol-glc\n",
      "\n"
     ]
    }
   ],
   "source": [
    "medium = model.medium\n",
    "with model:\n",
    "    model.objective = model.reactions.CrtI #Setting the objective to the reaction, which is producing Lycopene\n",
    "    lycopene_production = model.optimize().objective_value\n",
    "    print(\"At glucose concentration = {}:\".format(medium[medium_glc_ex.id]))\n",
    "    print('Maximum theoretical productivity of lycopene =', lycopene_production, 'mmol/(gDW*h^-1)')\n",
    "    \n",
    "    glc_uptake_flux = model.reactions.r_1714.flux \n",
    "    max_yield = lycopene_production / (-1*glc_uptake_flux)\n",
    "    print('Maximum theoretical yield =', max_yield, 'mmol-lyco/mmol-glc\\n')\n",
    "    \n",
    "    medium[medium_glc_ex.id] = 700\n",
    "    model.medium = medium\n",
    "\n",
    "    lycopene_production = model.optimize().objective_value\n",
    "    glc_uptake_flux = model.reactions.r_1714.flux\n",
    "    max_yield = lycopene_production / (-1*glc_uptake_flux)\n",
    "    print(\"At glucose concentration = {}:\".format(medium[medium_glc_ex.id]))\n",
    "    print('Maximum theoretical productivity of lycopene =', lycopene_production, 'mmol/(gDW*h*^-1)')\n",
    "    print('Maximum theoretical yield =', max_yield, 'mmol-lyco/mmol-glc\\n')"
   ]
  },
  {
   "cell_type": "markdown",
   "metadata": {},
   "source": [
    "Increasing the external glucose concentration 1000-fold can theoreticlaly increase the lycopene productivity from $0.087 \\frac{mmol}{gDW \\cdot h}$ to approximately $25.825 \\frac{mmol}{gDW \\cdot h}$.\\\n",
    "This is a 296-fold increase!\n",
    "\n",
    "Although this observation does not give the complete picture. Increasing glucose concentration decreases the potential yield of lycopene from $0.087 \\frac{mmol-lyco}{mmol-glc}$ to $0.040 \\frac{mmol-lyco}{mmol-glc}$."
   ]
  },
  {
   "cell_type": "markdown",
   "metadata": {},
   "source": [
    "## Comparing to literature \n",
    "### Chen et al. 2016"
   ]
  },
  {
   "cell_type": "markdown",
   "metadata": {},
   "source": [
    "Using the same glucose flux as found in literature to be able to compare the productivity. They had 55.56 mg lycopene/gCDW and a final titer of 1.65 g/L in 5 L bioreactors with 2% glucose concentration. It is the possible to find the productivity of lycopene they got\n",
    "\n",
    "$$55.56\\frac{mg}{gDW}\\cdot \\frac{48h}{536.9}\\frac{mol}{g}=0.00216\\frac{mmol}{h\\cdot gDW}$$\n",
    "\n",
    "We can also calculate the average glucose flux they had\n",
    "\n",
    "$$\\frac{1.65\\frac{g}{L}\\cdot 5 L}{0.05556\\frac{g}{gCW}}=148.48gCDW$$\n",
    "and the moles glucose\n",
    "$$\\frac{5L\\cdot20\\frac{g\\ glucose}{L}}{180\\frac{g}{mol}}=556mmol$$\n",
    "so the average glucose flux\n",
    "$$\\frac{555mmol}{48h*148.48gDW}=0.078\\frac{mmol}{h\\cdot gCDW}$$\n",
    "\n",
    "Below we introduce this flux to see what productivity our model obtains."
   ]
  },
  {
   "cell_type": "code",
   "execution_count": 10,
   "metadata": {},
   "outputs": [],
   "source": [
    "medium=model.medium"
   ]
  },
  {
   "cell_type": "code",
   "execution_count": 11,
   "metadata": {},
   "outputs": [
    {
     "name": "stdout",
     "output_type": "stream",
     "text": [
      "Maximum theoretical biomass productivity: 0.08374770604149266 \\h\n",
      "Maximum theoretical productivity of lycopene: 0.004313572261291413 mmol/gDW*h\n",
      "Theoretical max. yield of lycopene: 0.05544437353845004 mmol-lyco / mmol-glc\n"
     ]
    }
   ],
   "source": [
    "with model:\n",
    "    solution = model.optimize()\n",
    "    print('Maximum theoretical biomass productivity:',solution.fluxes[\"r_2111\"], \"\\h\") \n",
    "        \n",
    "    medium['r_1714'] = 0.0778 #Glucose flux calculated from Chen et al. 2016\n",
    "    model.medium=medium\n",
    "    model.objective = model.reactions.CrtI\n",
    "    lyco_production = model.optimize().objective_value\n",
    "    print('Maximum theoretical productivity of lycopene:', lyco_production, 'mmol/gDW*h')\n",
    "    print(\"Theoretical max. yield of lycopene:\", lyco_production / (-1*model.reactions.r_1714.flux), \"mmol-lyco / mmol-glc\")"
   ]
  },
  {
   "cell_type": "markdown",
   "metadata": {},
   "source": [
    "So our model has about 2 times higher productivy at this concentration of glucose, but it is within the same order of magnitude. This shows that the researchers are getting close to the maximal lycopene flux."
   ]
  },
  {
   "cell_type": "markdown",
   "metadata": {},
   "source": [
    "### Ma et al 2019"
   ]
  },
  {
   "cell_type": "code",
   "execution_count": 13,
   "metadata": {},
   "outputs": [
    {
     "name": "stdout",
     "output_type": "stream",
     "text": [
      "Maximum theoretical biomass productivity: 0.08374770604149098 \\h\n",
      "Maximum theoretical productivity of lycopene: 0.00038555796998959545 mmol/gDW*h\n",
      "Theoretical max. yield of lycopene: 0.010146262368147248 mmol-lyco / mmol-glc\n"
     ]
    }
   ],
   "source": [
    "with model:\n",
    "    solution = model.optimize()\n",
    "    print('Maximum theoretical biomass productivity:',solution.fluxes[\"r_2111\"], \"\\h\") \n",
    "        \n",
    "    medium['r_1714'] = 0.038 #Glucose flux calculated from Chen et al. 2016\n",
    "    model.medium=medium\n",
    "    model.objective = model.reactions.CrtI\n",
    "    lyco_production = model.optimize().objective_value\n",
    "    print('Maximum theoretical productivity of lycopene:', lyco_production, 'mmol/gDW*h')\n",
    "    print(\"Theoretical max. yield of lycopene:\", lyco_production / (-1*model.reactions.r_1714.flux), \"mmol-lyco / mmol-glc\")"
   ]
  },
  {
   "cell_type": "markdown",
   "metadata": {},
   "source": [
    "Calculations are similar to the one shown. They had a final titer of 2.37 g/L and 73.3 mg /gDW, fermented for 90 hours and had the same glucose concentration and same volume. They obtain a productivity of 0.0015 mmol/gDW*h which is an order of magnitude higher then what we obtain with no modifications to the model. In conclusion our model is fairly realistic when compairing to literature."
   ]
  }
 ],
 "metadata": {
  "kernelspec": {
   "display_name": "Python 3",
   "language": "python",
   "name": "python3"
  },
  "language_info": {
   "codemirror_mode": {
    "name": "ipython",
    "version": 3
   },
   "file_extension": ".py",
   "mimetype": "text/x-python",
   "name": "python",
   "nbconvert_exporter": "python",
   "pygments_lexer": "ipython3",
   "version": "3.8.8"
  }
 },
 "nbformat": 4,
 "nbformat_minor": 4
}
