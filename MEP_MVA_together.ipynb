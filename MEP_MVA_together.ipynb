{
 "cells": [
  {
   "cell_type": "code",
   "execution_count": 1,
   "metadata": {},
   "outputs": [],
   "source": [
    "#%run 01_loading_model.ipynb\n",
    "from cobra.io import read_sbml_model\n",
    "from cobra import Reaction, Metabolite, Model\n",
    "\n",
    "model = read_sbml_model('yeast_lyco_MVA.xml')"
   ]
  },
  {
   "cell_type": "markdown",
   "metadata": {},
   "source": [
    "Renaming used metabolites"
   ]
  },
  {
   "cell_type": "code",
   "execution_count": 2,
   "metadata": {
    "scrolled": true
   },
   "outputs": [],
   "source": [
    "#for m in model.metabolites.query(\"diphosphate\", 'name'):\n",
    "  #  print(m, m.name)"
   ]
  },
  {
   "cell_type": "code",
   "execution_count": 3,
   "metadata": {},
   "outputs": [],
   "source": [
    "#model.reactions.r_0739.lower_bound = 0\n",
    "#model.reactions.r_0739.upper_bound = 0"
   ]
  },
  {
   "cell_type": "code",
   "execution_count": 4,
   "metadata": {},
   "outputs": [],
   "source": [
    "#model.metabolites.get_by_id('ipp')"
   ]
  },
  {
   "cell_type": "code",
   "execution_count": 5,
   "metadata": {},
   "outputs": [],
   "source": [
    "#for m in model.metabolites.query(\"diphosphate\", 'name'):\n",
    " #   print(m, m.name)"
   ]
  },
  {
   "cell_type": "code",
   "execution_count": 6,
   "metadata": {},
   "outputs": [],
   "source": [
    "#model.metabolites.get_by_id('DMAPP')"
   ]
  },
  {
   "cell_type": "code",
   "execution_count": 7,
   "metadata": {},
   "outputs": [],
   "source": [
    "#for m in model.metabolites.query(\"prenyl diphosphate\", 'name'):\n",
    " #   print(m, m.name)"
   ]
  },
  {
   "cell_type": "code",
   "execution_count": 8,
   "metadata": {},
   "outputs": [],
   "source": [
    "#model.metabolites.get_by_id('DMAPP')"
   ]
  },
  {
   "cell_type": "code",
   "execution_count": 9,
   "metadata": {},
   "outputs": [],
   "source": [
    "#for m in model.metabolites.query(\"CTP\", 'name'):\n",
    " #   print(m, m.name)"
   ]
  },
  {
   "cell_type": "code",
   "execution_count": 10,
   "metadata": {},
   "outputs": [],
   "source": [
    "#model.metabolites.get_by_id('s_0539[c]')"
   ]
  },
  {
   "cell_type": "code",
   "execution_count": 11,
   "metadata": {},
   "outputs": [],
   "source": [
    "#for m in model.metabolites.query(\"ATP\", 'name'):\n",
    "#    print(m, m.name)"
   ]
  },
  {
   "cell_type": "code",
   "execution_count": 12,
   "metadata": {},
   "outputs": [],
   "source": [
    "#model.metabolites.get_by_id('s_0434[c]')"
   ]
  },
  {
   "cell_type": "code",
   "execution_count": 13,
   "metadata": {},
   "outputs": [],
   "source": [
    "#for m in model.metabolites.query(\"CMP\", 'name'):\n",
    " #   print(m, m.name)"
   ]
  },
  {
   "cell_type": "code",
   "execution_count": 14,
   "metadata": {},
   "outputs": [],
   "source": [
    "#model.metabolites.get_by_id('s_0526[c]')"
   ]
  },
  {
   "cell_type": "code",
   "execution_count": 15,
   "metadata": {},
   "outputs": [],
   "source": [
    "#for m in model.metabolites.query(\"diphosphate\", 'name'):\n",
    "#    print(m, m.name)"
   ]
  },
  {
   "cell_type": "code",
   "execution_count": 16,
   "metadata": {},
   "outputs": [],
   "source": [
    "#model.metabolites.get_by_id('PPi_c')"
   ]
  },
  {
   "cell_type": "code",
   "execution_count": 17,
   "metadata": {},
   "outputs": [],
   "source": [
    "#for m in model.metabolites.query(\"ADP\", 'name'):\n",
    " #   print(m, m.name)"
   ]
  },
  {
   "cell_type": "code",
   "execution_count": 18,
   "metadata": {},
   "outputs": [],
   "source": [
    "#model.metabolites.get_by_id('s_0394[c]')"
   ]
  },
  {
   "cell_type": "code",
   "execution_count": 19,
   "metadata": {},
   "outputs": [],
   "source": [
    "pyruvate = model.metabolites.get_by_id('s_1399[c]')\n",
    "pyruvate.id = \"pyruvate_c\"\n",
    "ppi= model.metabolites.get_by_id('PPi_c')\n",
    "ppi.id = \"ppi_c\"\n",
    "g3p = model.metabolites.get_by_id('s_0764[c]')\n",
    "g3p.id = \"g3p_c\"\n",
    "ctp = model.metabolites.get_by_id('s_0539[c]')\n",
    "ctp.id = \"ctp_c\"\n",
    "atp = model.metabolites.get_by_id('s_0434[c]')\n",
    "atp.id = \"atp_c\"\n",
    "adp = atp = model.metabolites.get_by_id('s_0394[c]')\n",
    "adp.id = \"adp_c\"\n",
    "cmp = model.metabolites.get_by_id('s_0526[c]')\n",
    "cmp.id = \"cmp_c\"\n",
    "co2 = model.metabolites.get_by_id('s_0456[c]')\n",
    "co2.id = \"co2_c\"\n",
    "nadp = model.metabolites.get_by_id('s_1207[c]')\n",
    "nadp.id = \"nadp_c\"\n",
    "nadph = model.metabolites.get_by_id('s_1212[c]')\n",
    "nadph.id = \"nadph_c\"\n",
    "h = model.metabolites.get_by_id('s_0794[c]')\n",
    "h.id = \"h_c\"\n",
    "h2o = model.metabolites.get_by_id('H2O_c')\n",
    "h2o.id = \"h2o_c\"\n",
    "dmapp = model.metabolites.get_by_id('DMAPP')\n",
    "dmapp.id = \"dmapp_c\"\n",
    "ipp = model.metabolites.get_by_id('IPP')\n",
    "ipp.id = \"ipp_c\""
   ]
  },
  {
   "cell_type": "markdown",
   "metadata": {},
   "source": [
    "New metabolites"
   ]
  },
  {
   "cell_type": "code",
   "execution_count": 20,
   "metadata": {},
   "outputs": [],
   "source": [
    "dxp = Metabolite(id='dxp', compartment = 'c', name='1-Deoxy-D-xylulose 5-phosphate', formula = 'C5H11O7P')\n",
    "mep = Metabolite(id='mep', compartment = 'c', name='2-C-Methyl-D-erythritol 4-phosphate', formula='C5H13O7P')\n",
    "dme = Metabolite(id='dme', compartment = 'c', name='4-diphosphocytidyl-2-C-methyl-D-erythritol', formula='C14H23N3O14P2')\n",
    "pdme = Metabolite(id='pdme', compartment = 'c', name='2-phospho-4-diphosphocytidyl-2-C-methyl-D-erythritol', formula='C14H22N3O17P3')\n",
    "mec = Metabolite(id='mec', compartment = 'c', name='2-C-methyl-D-erythritol 2,4-cyclodiphosphate', formula='C5H10O9P2')\n",
    "hmbd = Metabolite(id='hmbd', compartment = 'c', name='1-hydroxy-2-methyl-2-(E)-butenyl 4-diphosphate', formula='C5H9O8P2')\n",
    "#bacterial metabolites (needed for last two reactions). But research indicates that their activities are dependent on becoming reduced by NADPH\n",
    "#fldr = Metabolite(id='fldr', compartment = 'c', name='reduced_flavodoxin', formula='C17H21N4O9P')\n",
    "#fld = Metabolite(id='fmn', compartment = 'c', name='oxidized_flavodoxin', formula='C17H19N4O9P')"
   ]
  },
  {
   "cell_type": "markdown",
   "metadata": {},
   "source": [
    "Bacterial metabolites (needed for last two reactions):\n",
    "Flavodoxins are electron carriers. Their activity is dependent on becoming reduced by NADPH. Flavodoxins are proteins that are directly transcribed and translated. One caveat from this simulation is that the energy and resources required to generate the flavodoxins is not accounted for. Despite this, the MEP pathway stoichiometry remains the same. We are just skipping the step when the electrons are transferred from NADPH to the flavodoxins."
   ]
  },
  {
   "cell_type": "markdown",
   "metadata": {},
   "source": [
    "Introducing MEP pathway reactions"
   ]
  },
  {
   "cell_type": "code",
   "execution_count": 21,
   "metadata": {},
   "outputs": [],
   "source": [
    "dxp_synthase = Reaction('Ec-dxs')\n",
    "dx_reductoisomerase = Reaction('dxr')\n",
    "cytidyltransferase = Reaction('ispD')\n",
    "cm_kinase = Reaction('ispE')\n",
    "mec_synthase = Reaction('ispF')\n",
    "hmbpp_synthase = Reaction('ispG')\n",
    "hmbpp_reductase1 = Reaction('ispH1')\n",
    "hmbpp_reductase2 = Reaction('ispH2')"
   ]
  },
  {
   "cell_type": "code",
   "execution_count": 22,
   "metadata": {},
   "outputs": [],
   "source": [
    "dxp_synthase.add_metabolites(({pyruvate: -1,\n",
    "                             g3p: -1,\n",
    "                             h: -1,\n",
    "                             dxp: 1,\n",
    "                             co2: 1\n",
    "                             }))"
   ]
  },
  {
   "cell_type": "code",
   "execution_count": 23,
   "metadata": {},
   "outputs": [],
   "source": [
    "dx_reductoisomerase.add_metabolites(({dxp: -1,\n",
    "                               nadph: -1,\n",
    "                               h: -1,\n",
    "                               mep: 1,\n",
    "                               nadp: 1\n",
    "                              }))"
   ]
  },
  {
   "cell_type": "code",
   "execution_count": 24,
   "metadata": {},
   "outputs": [],
   "source": [
    "cytidyltransferase.add_metabolites(({mep: -1,\n",
    "                                     ctp: -1,\n",
    "                                     h: -1,\n",
    "                                    dme: 1,\n",
    "                                    ppi: 1\n",
    "                                   }))"
   ]
  },
  {
   "cell_type": "code",
   "execution_count": 25,
   "metadata": {},
   "outputs": [],
   "source": [
    "cm_kinase.add_metabolites(({dme: -1,\n",
    "                            atp: -1,\n",
    "                            h: 1,\n",
    "                            pdme: 1,\n",
    "                            adp: 1\n",
    "                            }))"
   ]
  },
  {
   "cell_type": "code",
   "execution_count": 26,
   "metadata": {},
   "outputs": [],
   "source": [
    "mec_synthase.add_metabolites(({pdme: -1,\n",
    "                               cmp: 1,\n",
    "                               mec: 1\n",
    "                                   }))"
   ]
  },
  {
   "cell_type": "code",
   "execution_count": 27,
   "metadata": {},
   "outputs": [],
   "source": [
    "hmbpp_synthase.add_metabolites(({mec: -1,\n",
    "                             h: -1,\n",
    "                             nadph: -2,\n",
    "                             h2o: 1,\n",
    "                             nadp: 2,\n",
    "                             hmbd: 1\n",
    "                             }))"
   ]
  },
  {
   "cell_type": "code",
   "execution_count": 28,
   "metadata": {},
   "outputs": [],
   "source": [
    "hmbpp_reductase1.add_metabolites(({hmbd: -1,\n",
    "                             nadph: -2,\n",
    "                             h: -2,\n",
    "                             h2o: 1,\n",
    "                             dmapp: 1,\n",
    "                             nadp: 2\n",
    "                             }))"
   ]
  },
  {
   "cell_type": "code",
   "execution_count": 29,
   "metadata": {},
   "outputs": [],
   "source": [
    "hmbpp_reductase2.add_metabolites(({hmbd: -1,\n",
    "                             nadph: -2,\n",
    "                             h: -2,\n",
    "                             h2o: 1,\n",
    "                             ipp: 1,\n",
    "                             nadp: 2\n",
    "                             }))"
   ]
  },
  {
   "cell_type": "code",
   "execution_count": 30,
   "metadata": {},
   "outputs": [],
   "source": [
    "model.add_reactions([dxp_synthase])\n",
    "model.add_reactions([dx_reductoisomerase])\n",
    "model.add_reactions([cytidyltransferase])\n",
    "model.add_reactions([cm_kinase])\n",
    "model.add_reactions([mec_synthase])\n",
    "model.add_reactions([hmbpp_synthase])\n",
    "model.add_reactions([hmbpp_reductase1])\n",
    "model.add_reactions([hmbpp_reductase2])"
   ]
  },
  {
   "cell_type": "code",
   "execution_count": 31,
   "metadata": {},
   "outputs": [],
   "source": [
    "#model.reactions."
   ]
  },
  {
   "cell_type": "code",
   "execution_count": 32,
   "metadata": {},
   "outputs": [],
   "source": [
    "#with model:\n",
    "   # model.objective = model.reactions.dxp_synthase\n",
    "   # print(model.optimize().objective_value)"
   ]
  },
  {
   "cell_type": "code",
   "execution_count": 33,
   "metadata": {},
   "outputs": [],
   "source": [
    "#model.add_boundary(model.metabolites.dxp, type = 'sink');\n",
    "#model.add_boundary(model.metabolites.mep, type = 'sink');\n",
    "#model.add_boundary(model.metabolites.dme, type = 'sink');\n",
    "#model.add_boundary(model.metabolites.pdme, type = 'sink');\n",
    "#model.add_boundary(model.metabolites.mec, type = 'sink');\n",
    "#model.add_boundary(model.metabolites.hmbd, type = 'sink');\n",
    "#model.add_boundary(model.metabolites.lycopene, type = 'demand');"
   ]
  },
  {
   "cell_type": "code",
   "execution_count": 34,
   "metadata": {},
   "outputs": [],
   "source": [
    "#from cobra.io import write_sbml_model\n",
    "#write_sbml_model(model,'yeast_lyco2.xml')"
   ]
  },
  {
   "cell_type": "code",
   "execution_count": 35,
   "metadata": {},
   "outputs": [],
   "source": [
    "#model = read_sbml_model('yeast_lyco2.xml')"
   ]
  },
  {
   "cell_type": "markdown",
   "metadata": {},
   "source": [
    "Attempting to add all reactions that Arnor found that could increase the flux of lycopene production if these genes are overexpressed. Didn't work."
   ]
  },
  {
   "cell_type": "code",
   "execution_count": 36,
   "metadata": {},
   "outputs": [],
   "source": [
    "#model.reactions.get_by_id('r_0455')"
   ]
  },
  {
   "cell_type": "code",
   "execution_count": 37,
   "metadata": {},
   "outputs": [],
   "source": [
    "#pho = Metabolite(id='pho', compartment = 'c', name='R-5-phosphomevalonate', formula = 'Cf6H10O7P')\n",
    "#mev = Metabolite(id='mev', compartment = 'c', name='R-mevalonate-diphosphate', formula = 'C6H10O10P2')\n",
    "#meppi = Metabolite(id='meppi', compartment = 'c', name='three-methylbut-3-en-1-yl-diphosphate', formula = 'C5H9O7P2')"
   ]
  },
  {
   "cell_type": "code",
   "execution_count": 38,
   "metadata": {},
   "outputs": [],
   "source": [
    "#mevalonate_ppi_decarboxylase1 = Reaction('MPD1')\n",
    "#mevalonate_ppi_decarboxylase2 = Reaction('MPD2')\n",
    "#mevalonate_ppi_decarboxylase3 = Reaction('MPD3')\n",
    "#mevalonate_ppi_decarboxylase4 = Reaction('MPD4')"
   ]
  },
  {
   "cell_type": "code",
   "execution_count": 39,
   "metadata": {},
   "outputs": [],
   "source": [
    "#mevalonate_ppi_decarboxylase1.add_metabolites(({mev: -1,\n",
    " #                                   atp: -1,\n",
    "  #                                  meppi: 1,\n",
    "   #                                 adp: 1,\n",
    "    #                                CO2: 1\n",
    "     #                             }))"
   ]
  },
  {
   "cell_type": "code",
   "execution_count": 40,
   "metadata": {},
   "outputs": [],
   "source": [
    "#mevalonate_ppi_decarboxylase2.add_metabolites(({mev: -1,\n",
    " #                                   atp: -1,\n",
    "  #                                  meppi: 1,\n",
    "   #                                 adp: 1,\n",
    "    #                                CO2: 1\n",
    "     #                             }))"
   ]
  },
  {
   "cell_type": "code",
   "execution_count": 41,
   "metadata": {},
   "outputs": [],
   "source": [
    "#mevalonate_ppi_decarboxylase3.add_metabolites(({mev: -1,\n",
    " #                                   atp: -1,\n",
    "  #                                  meppi: 1,\n",
    "   #                                 adp: 1,\n",
    "    #                                CO2: 1\n",
    "     #                             }))"
   ]
  },
  {
   "cell_type": "code",
   "execution_count": 42,
   "metadata": {},
   "outputs": [],
   "source": [
    "#mevalonate_ppi_decarboxylase4.add_metabolites(({mev: -1,\n",
    " #                                   atp: -1,\n",
    "  #                                  meppi: 1,\n",
    "   #                                 adp: 1,\n",
    "    #                                CO2: 1\n",
    "     #                             }))"
   ]
  },
  {
   "cell_type": "code",
   "execution_count": 43,
   "metadata": {},
   "outputs": [],
   "source": [
    "#model.add_reactions([mevalonate_ppi_decarboxylase1])\n",
    "#model.add_reactions([mevalonate_ppi_decarboxylase2])\n",
    "#model.add_reactions([mevalonate_ppi_decarboxylase3])\n",
    "#model.add_reactions([mevalonate_ppi_decarboxylase4])"
   ]
  },
  {
   "cell_type": "code",
   "execution_count": 44,
   "metadata": {},
   "outputs": [],
   "source": [
    "#model.reactions.r_0455.lower_bound = 0\n",
    "#model.reactions.r_0455.upper_bound = 1000"
   ]
  },
  {
   "cell_type": "code",
   "execution_count": 45,
   "metadata": {},
   "outputs": [],
   "source": [
    "#model.reactions.r_1265.lower_bound = 0\n",
    "#model.reactions.r_1265.upper_bound = 1000"
   ]
  },
  {
   "cell_type": "code",
   "execution_count": 46,
   "metadata": {},
   "outputs": [],
   "source": [
    "#model.reactions.r_1021.lower_bound = 0\n",
    "#model.reactions.r_1021.upper_bound = 1000"
   ]
  },
  {
   "cell_type": "code",
   "execution_count": 47,
   "metadata": {},
   "outputs": [],
   "source": [
    "#model.reactions.r_0800.lower_bound = 0\n",
    "#model.reactions.r_0800.upper_bound = 1000"
   ]
  },
  {
   "cell_type": "markdown",
   "metadata": {},
   "source": [
    "Adding alcohol degradation enzymes and then the resulting product acetate exportation overexpressed did not result in any changes in lycopene production or biomass production."
   ]
  },
  {
   "cell_type": "code",
   "execution_count": 48,
   "metadata": {},
   "outputs": [],
   "source": [
    "#eth = model.metabolites.get_by_id('s_0680[c]')\n",
    "#eth.id = \"ethanol\""
   ]
  },
  {
   "cell_type": "code",
   "execution_count": 49,
   "metadata": {},
   "outputs": [],
   "source": [
    "#acetald = model.metabolites.get_by_id('s_0359[c]')\n",
    "#acetald.id = \"acetaldehyde\""
   ]
  },
  {
   "cell_type": "code",
   "execution_count": 50,
   "metadata": {},
   "outputs": [],
   "source": [
    "#acetate = model.metabolites.get_by_id('s_0362[c]')\n",
    "#acetate.id = \"acetate\""
   ]
  },
  {
   "cell_type": "code",
   "execution_count": 51,
   "metadata": {},
   "outputs": [],
   "source": [
    "#NAD = model.metabolites.get_by_id('NAD_c')\n",
    "#NAD.id = \"NAD_c\"\n",
    "\n",
    "#NADH = model.metabolites.get_by_id('NADH_c')\n",
    "#NADH.id = \"NADH_c\""
   ]
  },
  {
   "cell_type": "code",
   "execution_count": 52,
   "metadata": {},
   "outputs": [],
   "source": [
    "#model.reactions.get_by_id('ADH_1')"
   ]
  },
  {
   "cell_type": "code",
   "execution_count": 53,
   "metadata": {},
   "outputs": [],
   "source": [
    "#alcohol_dehydrogenase1 = Reaction('ADH_1')\n",
    "#alcohol_dehydrogenase2 = Reaction('ADH_2')\n",
    "#alcohol_dehydrogenase3 = Reaction('ADH_3')"
   ]
  },
  {
   "cell_type": "code",
   "execution_count": 54,
   "metadata": {},
   "outputs": [],
   "source": [
    "#alcohol_dehydrogenase1.add_metabolites(({NAD: -1,\n",
    " #                                   eth: -1,\n",
    "  #                                  NADH: 1,\n",
    "   #                                 acetald: 1,\n",
    "    #                                h: 1\n",
    "     #                             }))"
   ]
  },
  {
   "cell_type": "code",
   "execution_count": 55,
   "metadata": {},
   "outputs": [],
   "source": [
    "#alcohol_dehydrogenase2.add_metabolites(({NAD: -1,\n",
    " #                                   eth: -1,\n",
    "  #                                  NADH: 1,\n",
    "   #                                 acetald: 1,\n",
    "    #                                h: 1\n",
    "     #                             }))"
   ]
  },
  {
   "cell_type": "code",
   "execution_count": 56,
   "metadata": {},
   "outputs": [],
   "source": [
    "#alcohol_dehydrogenase3.add_metabolites(({NAD: -1,\n",
    " #                                   eth: -1,\n",
    "  #                                  NADH: 1,\n",
    "   #                                 acetald: 1,\n",
    "    #                                h: 1\n",
    "     #                             }))"
   ]
  },
  {
   "cell_type": "code",
   "execution_count": 57,
   "metadata": {},
   "outputs": [],
   "source": [
    "#model.add_reactions([alcohol_dehydrogenase1])\n",
    "#model.add_reactions([alcohol_dehydrogenase2])\n",
    "#model.add_reactions([alcohol_dehydrogenase3])"
   ]
  },
  {
   "cell_type": "code",
   "execution_count": 58,
   "metadata": {},
   "outputs": [],
   "source": [
    "#aceta_dehydrogenase1 = Reaction('ACD_1')\n",
    "#aceta_dehydrogenase2 = Reaction('ACD_2')\n",
    "#aceta_dehydrogenase3 = Reaction('ACD_3')"
   ]
  },
  {
   "cell_type": "code",
   "execution_count": 59,
   "metadata": {},
   "outputs": [],
   "source": [
    "#aceta_dehydrogenase1.add_metabolites(({NAD: -1,\n",
    " #                                   acetald: -1,\n",
    "  #                                  h2o: -1,\n",
    "   #                                 NADH: 1,\n",
    "    #                                acetate: 1,\n",
    "     #                               h: 2\n",
    "      #                            }))"
   ]
  },
  {
   "cell_type": "code",
   "execution_count": 60,
   "metadata": {},
   "outputs": [],
   "source": [
    "#aceta_dehydrogenase2.add_metabolites(({NAD: -1,\n",
    " #                                   acetald: -1,\n",
    "  #                                  h2o: -1,\n",
    "   #                                 NADH: 1,\n",
    "    #                                acetate: 1,\n",
    "     #                               h: 2\n",
    "      #                            }))"
   ]
  },
  {
   "cell_type": "code",
   "execution_count": 61,
   "metadata": {},
   "outputs": [],
   "source": [
    "#aceta_dehydrogenase3.add_metabolites(({NAD: -1,\n",
    " #                                   acetald: -1,\n",
    "  #                                  h2o: -1,\n",
    "   #                                 NADH: 1,\n",
    "    #                                acetate: 1,\n",
    "     #                               h: 2\n",
    "      #                            }))"
   ]
  },
  {
   "cell_type": "code",
   "execution_count": 62,
   "metadata": {},
   "outputs": [],
   "source": [
    "#model.add_reactions([aceta_dehydrogenase1])\n",
    "#model.add_reactions([aceta_dehydrogenase2])\n",
    "#model.add_reactions([aceta_dehydrogenase3])"
   ]
  },
  {
   "cell_type": "code",
   "execution_count": 63,
   "metadata": {},
   "outputs": [],
   "source": [
    "#for m in model.reactions.query(\"acetate\", 'name'):\n",
    " #   print(m, m.name)"
   ]
  },
  {
   "cell_type": "code",
   "execution_count": 64,
   "metadata": {},
   "outputs": [],
   "source": [
    "#model.metabolites.get_by_id('s_0362[c]')"
   ]
  },
  {
   "cell_type": "code",
   "execution_count": 65,
   "metadata": {},
   "outputs": [],
   "source": [
    "#model.reactions.get_by_id('r_1634')"
   ]
  },
  {
   "cell_type": "code",
   "execution_count": 66,
   "metadata": {},
   "outputs": [],
   "source": [
    "#acetate_ex = model.metabolites.get_by_id('s_0364[e]')\n",
    "#acetate_ex.id = \"acetate_extracellular_transport\""
   ]
  },
  {
   "cell_type": "code",
   "execution_count": 67,
   "metadata": {},
   "outputs": [],
   "source": [
    "#acetate_ex1 = Reaction('ACX1')\n",
    "#acetate_ex2 = Reaction('ACX2')\n",
    "#acetate_ex3 = Reaction('ACX3')"
   ]
  },
  {
   "cell_type": "code",
   "execution_count": 68,
   "metadata": {},
   "outputs": [],
   "source": [
    "#acetate_ex1.add_metabolites(({acetate: -1,\n",
    "#                                    acetate_ex:1\n",
    " #                                 }))"
   ]
  },
  {
   "cell_type": "code",
   "execution_count": 69,
   "metadata": {},
   "outputs": [],
   "source": [
    "#acetate_ex2.add_metabolites(({acetate: -1,\n",
    " #                                   acetate_ex:1\n",
    "  #                                }))"
   ]
  },
  {
   "cell_type": "code",
   "execution_count": 70,
   "metadata": {},
   "outputs": [],
   "source": [
    "#acetate_ex3.add_metabolites(({acetate: -1,\n",
    " #                                   acetate_ex:1\n",
    "  #                                }))"
   ]
  },
  {
   "cell_type": "code",
   "execution_count": 71,
   "metadata": {},
   "outputs": [],
   "source": [
    "#model.add_reactions([acetate_ex1])\n",
    "#model.add_reactions([acetate_ex2])\n",
    "#model.add_reactions([acetate_ex3])"
   ]
  },
  {
   "cell_type": "markdown",
   "metadata": {},
   "source": [
    "ethanol converted to acetaldehyde"
   ]
  },
  {
   "cell_type": "code",
   "execution_count": 72,
   "metadata": {},
   "outputs": [],
   "source": [
    "#model.reactions.r_0163.lower_bound = -1000;\n",
    "#model.reactions.r_0163.upper_bound = 1000"
   ]
  },
  {
   "cell_type": "markdown",
   "metadata": {},
   "source": [
    "acetaldehyde converted to acetate"
   ]
  },
  {
   "cell_type": "code",
   "execution_count": 73,
   "metadata": {},
   "outputs": [],
   "source": [
    "#model.reactions.r_2116.lower_bound = -1000;\n",
    "#model.reactions.r_2116.upper_bound = 1000"
   ]
  },
  {
   "cell_type": "markdown",
   "metadata": {},
   "source": [
    "acetate export out of cell"
   ]
  },
  {
   "cell_type": "code",
   "execution_count": 74,
   "metadata": {},
   "outputs": [],
   "source": [
    "#model.reactions.r_1635.lower_bound = -1000;\n",
    "#model.reactions.r_1635.upper_bound = 1000"
   ]
  },
  {
   "cell_type": "code",
   "execution_count": 75,
   "metadata": {},
   "outputs": [],
   "source": [
    "#model.reactions.get_by_id('r_1635')"
   ]
  },
  {
   "cell_type": "code",
   "execution_count": 76,
   "metadata": {},
   "outputs": [],
   "source": [
    "#model.reactions.r_0163.lower_bound = 0;\n",
    "#model.reactions.r_0163.upper_bound = 1000"
   ]
  },
  {
   "cell_type": "code",
   "execution_count": 77,
   "metadata": {},
   "outputs": [],
   "source": [
    "#model.reactions.r_2116.lower_bound = 0;\n",
    "#model.reactions.r_2116.upper_bound = 1000"
   ]
  },
  {
   "cell_type": "code",
   "execution_count": 78,
   "metadata": {},
   "outputs": [
    {
     "name": "stdout",
     "output_type": "stream",
     "text": [
      "At glucose concentration = 1.0:\n",
      "Maximum theoretical productivity of lycopene = 0.22569028345031653 mmol/(gDW*h^-1)\n",
      "Maximum theoretical yield = 0.22569028345031653 mmol-lyco/mmol-glc\n",
      "\n",
      "At glucose concentration = 1000:\n",
      "Maximum theoretical productivity of lycopene = 58.318137254901906 mmol/(gDW*h*^-1)\n",
      "Maximum theoretical yield = 0.11409165769465837 mmol-lyco/mmol-glc\n",
      "\n"
     ]
    }
   ],
   "source": [
    "medium_glc_ex = model.reactions.get_by_id('r_1714')\n",
    "medium = model.medium\n",
    "with model:\n",
    "    model.objective = model.reactions.CrtI\n",
    "    lycopene_production = model.optimize().objective_value\n",
    "    print(\"At glucose concentration = {}:\".format(medium[medium_glc_ex.id]))\n",
    "    print('Maximum theoretical productivity of lycopene =', lycopene_production, 'mmol/(gDW*h^-1)')\n",
    "    \n",
    "    glc_uptake_flux = model.reactions.r_1714.flux\n",
    "    max_yield = lycopene_production / (-1*glc_uptake_flux)\n",
    "    print('Maximum theoretical yield =', max_yield, 'mmol-lyco/mmol-glc\\n')\n",
    "    \n",
    "    medium[medium_glc_ex.id] = 1000\n",
    "    model.medium = medium\n",
    "\n",
    "    lycopene_production = model.optimize().objective_value\n",
    "    glc_uptake_flux = model.reactions.r_1714.flux\n",
    "    max_yield = lycopene_production / (-1*glc_uptake_flux)\n",
    "    print(\"At glucose concentration = {}:\".format(medium[medium_glc_ex.id]))\n",
    "    print('Maximum theoretical productivity of lycopene =', lycopene_production, 'mmol/(gDW*h*^-1)')\n",
    "    print('Maximum theoretical yield =', max_yield, 'mmol-lyco/mmol-glc\\n')"
   ]
  },
  {
   "cell_type": "code",
   "execution_count": 79,
   "metadata": {},
   "outputs": [],
   "source": [
    "from cobra.flux_analysis.phenotype_phase_plane import production_envelope"
   ]
  },
  {
   "cell_type": "code",
   "execution_count": 80,
   "metadata": {},
   "outputs": [],
   "source": [
    "# Renaming IDs for exchange reactions needed\n",
    "glc_exchange = model.reactions.r_1714\n",
    "o2_exchange = model.reactions.r_1992\n",
    "growth = model.reactions.r_2111"
   ]
  },
  {
   "cell_type": "code",
   "execution_count": 81,
   "metadata": {},
   "outputs": [],
   "source": [
    "medium = model.medium\n",
    "\n",
    "#Amping glucose levels to 1000.0\n",
    "medium['r_1714'] = 1000\n",
    "model.reactions.r_1714.bounds = -1000.0, 1000"
   ]
  },
  {
   "cell_type": "code",
   "execution_count": 82,
   "metadata": {},
   "outputs": [
    {
     "data": {
      "text/html": [
       "<div>\n",
       "<style scoped>\n",
       "    .dataframe tbody tr th:only-of-type {\n",
       "        vertical-align: middle;\n",
       "    }\n",
       "\n",
       "    .dataframe tbody tr th {\n",
       "        vertical-align: top;\n",
       "    }\n",
       "\n",
       "    .dataframe thead th {\n",
       "        text-align: right;\n",
       "    }\n",
       "</style>\n",
       "<table border=\"1\" class=\"dataframe\">\n",
       "  <thead>\n",
       "    <tr style=\"text-align: right;\">\n",
       "      <th></th>\n",
       "      <th>carbon_source</th>\n",
       "      <th>flux_minimum</th>\n",
       "      <th>carbon_yield_minimum</th>\n",
       "      <th>mass_yield_minimum</th>\n",
       "      <th>flux_maximum</th>\n",
       "      <th>carbon_yield_maximum</th>\n",
       "      <th>mass_yield_maximum</th>\n",
       "      <th>r_1714</th>\n",
       "    </tr>\n",
       "  </thead>\n",
       "  <tbody>\n",
       "    <tr>\n",
       "      <th>0</th>\n",
       "      <td>r_1714</td>\n",
       "      <td>0.0</td>\n",
       "      <td>0.0</td>\n",
       "      <td>0.0</td>\n",
       "      <td>15.479327</td>\n",
       "      <td>0.0</td>\n",
       "      <td>0.0</td>\n",
       "      <td>-1000.000000</td>\n",
       "    </tr>\n",
       "    <tr>\n",
       "      <th>1</th>\n",
       "      <td>r_1714</td>\n",
       "      <td>0.0</td>\n",
       "      <td>0.0</td>\n",
       "      <td>0.0</td>\n",
       "      <td>16.146239</td>\n",
       "      <td>0.0</td>\n",
       "      <td>0.0</td>\n",
       "      <td>-947.370216</td>\n",
       "    </tr>\n",
       "    <tr>\n",
       "      <th>2</th>\n",
       "      <td>r_1714</td>\n",
       "      <td>0.0</td>\n",
       "      <td>0.0</td>\n",
       "      <td>0.0</td>\n",
       "      <td>16.813150</td>\n",
       "      <td>0.0</td>\n",
       "      <td>0.0</td>\n",
       "      <td>-894.740432</td>\n",
       "    </tr>\n",
       "    <tr>\n",
       "      <th>3</th>\n",
       "      <td>r_1714</td>\n",
       "      <td>0.0</td>\n",
       "      <td>0.0</td>\n",
       "      <td>0.0</td>\n",
       "      <td>17.480062</td>\n",
       "      <td>0.0</td>\n",
       "      <td>0.0</td>\n",
       "      <td>-842.110648</td>\n",
       "    </tr>\n",
       "    <tr>\n",
       "      <th>4</th>\n",
       "      <td>r_1714</td>\n",
       "      <td>0.0</td>\n",
       "      <td>0.0</td>\n",
       "      <td>0.0</td>\n",
       "      <td>18.146191</td>\n",
       "      <td>0.0</td>\n",
       "      <td>0.0</td>\n",
       "      <td>-789.480864</td>\n",
       "    </tr>\n",
       "    <tr>\n",
       "      <th>5</th>\n",
       "      <td>r_1714</td>\n",
       "      <td>0.0</td>\n",
       "      <td>0.0</td>\n",
       "      <td>0.0</td>\n",
       "      <td>18.808736</td>\n",
       "      <td>0.0</td>\n",
       "      <td>0.0</td>\n",
       "      <td>-736.851080</td>\n",
       "    </tr>\n",
       "    <tr>\n",
       "      <th>6</th>\n",
       "      <td>r_1714</td>\n",
       "      <td>0.0</td>\n",
       "      <td>0.0</td>\n",
       "      <td>0.0</td>\n",
       "      <td>19.471282</td>\n",
       "      <td>0.0</td>\n",
       "      <td>0.0</td>\n",
       "      <td>-684.221296</td>\n",
       "    </tr>\n",
       "    <tr>\n",
       "      <th>7</th>\n",
       "      <td>r_1714</td>\n",
       "      <td>0.0</td>\n",
       "      <td>0.0</td>\n",
       "      <td>0.0</td>\n",
       "      <td>20.133828</td>\n",
       "      <td>0.0</td>\n",
       "      <td>0.0</td>\n",
       "      <td>-631.591512</td>\n",
       "    </tr>\n",
       "    <tr>\n",
       "      <th>8</th>\n",
       "      <td>r_1714</td>\n",
       "      <td>0.0</td>\n",
       "      <td>0.0</td>\n",
       "      <td>0.0</td>\n",
       "      <td>20.709477</td>\n",
       "      <td>0.0</td>\n",
       "      <td>0.0</td>\n",
       "      <td>-578.961728</td>\n",
       "    </tr>\n",
       "    <tr>\n",
       "      <th>9</th>\n",
       "      <td>r_1714</td>\n",
       "      <td>0.0</td>\n",
       "      <td>0.0</td>\n",
       "      <td>0.0</td>\n",
       "      <td>19.765390</td>\n",
       "      <td>0.0</td>\n",
       "      <td>0.0</td>\n",
       "      <td>-526.331944</td>\n",
       "    </tr>\n",
       "    <tr>\n",
       "      <th>10</th>\n",
       "      <td>r_1714</td>\n",
       "      <td>0.0</td>\n",
       "      <td>0.0</td>\n",
       "      <td>0.0</td>\n",
       "      <td>18.631582</td>\n",
       "      <td>0.0</td>\n",
       "      <td>0.0</td>\n",
       "      <td>-473.702160</td>\n",
       "    </tr>\n",
       "    <tr>\n",
       "      <th>11</th>\n",
       "      <td>r_1714</td>\n",
       "      <td>0.0</td>\n",
       "      <td>0.0</td>\n",
       "      <td>0.0</td>\n",
       "      <td>17.497774</td>\n",
       "      <td>0.0</td>\n",
       "      <td>0.0</td>\n",
       "      <td>-421.072376</td>\n",
       "    </tr>\n",
       "    <tr>\n",
       "      <th>12</th>\n",
       "      <td>r_1714</td>\n",
       "      <td>0.0</td>\n",
       "      <td>0.0</td>\n",
       "      <td>0.0</td>\n",
       "      <td>16.363966</td>\n",
       "      <td>0.0</td>\n",
       "      <td>0.0</td>\n",
       "      <td>-368.442592</td>\n",
       "    </tr>\n",
       "    <tr>\n",
       "      <th>13</th>\n",
       "      <td>r_1714</td>\n",
       "      <td>0.0</td>\n",
       "      <td>0.0</td>\n",
       "      <td>0.0</td>\n",
       "      <td>15.230158</td>\n",
       "      <td>0.0</td>\n",
       "      <td>0.0</td>\n",
       "      <td>-315.812808</td>\n",
       "    </tr>\n",
       "    <tr>\n",
       "      <th>14</th>\n",
       "      <td>r_1714</td>\n",
       "      <td>0.0</td>\n",
       "      <td>0.0</td>\n",
       "      <td>0.0</td>\n",
       "      <td>14.096351</td>\n",
       "      <td>0.0</td>\n",
       "      <td>0.0</td>\n",
       "      <td>-263.183024</td>\n",
       "    </tr>\n",
       "    <tr>\n",
       "      <th>15</th>\n",
       "      <td>r_1714</td>\n",
       "      <td>0.0</td>\n",
       "      <td>0.0</td>\n",
       "      <td>0.0</td>\n",
       "      <td>12.962543</td>\n",
       "      <td>0.0</td>\n",
       "      <td>0.0</td>\n",
       "      <td>-210.553240</td>\n",
       "    </tr>\n",
       "    <tr>\n",
       "      <th>16</th>\n",
       "      <td>r_1714</td>\n",
       "      <td>0.0</td>\n",
       "      <td>0.0</td>\n",
       "      <td>0.0</td>\n",
       "      <td>11.828735</td>\n",
       "      <td>0.0</td>\n",
       "      <td>0.0</td>\n",
       "      <td>-157.923456</td>\n",
       "    </tr>\n",
       "    <tr>\n",
       "      <th>17</th>\n",
       "      <td>r_1714</td>\n",
       "      <td>0.0</td>\n",
       "      <td>0.0</td>\n",
       "      <td>0.0</td>\n",
       "      <td>9.452488</td>\n",
       "      <td>0.0</td>\n",
       "      <td>0.0</td>\n",
       "      <td>-105.293672</td>\n",
       "    </tr>\n",
       "    <tr>\n",
       "      <th>18</th>\n",
       "      <td>r_1714</td>\n",
       "      <td>0.0</td>\n",
       "      <td>0.0</td>\n",
       "      <td>0.0</td>\n",
       "      <td>4.726264</td>\n",
       "      <td>0.0</td>\n",
       "      <td>0.0</td>\n",
       "      <td>-52.663888</td>\n",
       "    </tr>\n",
       "    <tr>\n",
       "      <th>19</th>\n",
       "      <td>r_1714</td>\n",
       "      <td>0.0</td>\n",
       "      <td>0.0</td>\n",
       "      <td>0.0</td>\n",
       "      <td>0.000000</td>\n",
       "      <td>0.0</td>\n",
       "      <td>0.0</td>\n",
       "      <td>-0.034104</td>\n",
       "    </tr>\n",
       "  </tbody>\n",
       "</table>\n",
       "</div>"
      ],
      "text/plain": [
       "   carbon_source  flux_minimum  carbon_yield_minimum  mass_yield_minimum  \\\n",
       "0         r_1714           0.0                   0.0                 0.0   \n",
       "1         r_1714           0.0                   0.0                 0.0   \n",
       "2         r_1714           0.0                   0.0                 0.0   \n",
       "3         r_1714           0.0                   0.0                 0.0   \n",
       "4         r_1714           0.0                   0.0                 0.0   \n",
       "5         r_1714           0.0                   0.0                 0.0   \n",
       "6         r_1714           0.0                   0.0                 0.0   \n",
       "7         r_1714           0.0                   0.0                 0.0   \n",
       "8         r_1714           0.0                   0.0                 0.0   \n",
       "9         r_1714           0.0                   0.0                 0.0   \n",
       "10        r_1714           0.0                   0.0                 0.0   \n",
       "11        r_1714           0.0                   0.0                 0.0   \n",
       "12        r_1714           0.0                   0.0                 0.0   \n",
       "13        r_1714           0.0                   0.0                 0.0   \n",
       "14        r_1714           0.0                   0.0                 0.0   \n",
       "15        r_1714           0.0                   0.0                 0.0   \n",
       "16        r_1714           0.0                   0.0                 0.0   \n",
       "17        r_1714           0.0                   0.0                 0.0   \n",
       "18        r_1714           0.0                   0.0                 0.0   \n",
       "19        r_1714           0.0                   0.0                 0.0   \n",
       "\n",
       "    flux_maximum  carbon_yield_maximum  mass_yield_maximum       r_1714  \n",
       "0      15.479327                   0.0                 0.0 -1000.000000  \n",
       "1      16.146239                   0.0                 0.0  -947.370216  \n",
       "2      16.813150                   0.0                 0.0  -894.740432  \n",
       "3      17.480062                   0.0                 0.0  -842.110648  \n",
       "4      18.146191                   0.0                 0.0  -789.480864  \n",
       "5      18.808736                   0.0                 0.0  -736.851080  \n",
       "6      19.471282                   0.0                 0.0  -684.221296  \n",
       "7      20.133828                   0.0                 0.0  -631.591512  \n",
       "8      20.709477                   0.0                 0.0  -578.961728  \n",
       "9      19.765390                   0.0                 0.0  -526.331944  \n",
       "10     18.631582                   0.0                 0.0  -473.702160  \n",
       "11     17.497774                   0.0                 0.0  -421.072376  \n",
       "12     16.363966                   0.0                 0.0  -368.442592  \n",
       "13     15.230158                   0.0                 0.0  -315.812808  \n",
       "14     14.096351                   0.0                 0.0  -263.183024  \n",
       "15     12.962543                   0.0                 0.0  -210.553240  \n",
       "16     11.828735                   0.0                 0.0  -157.923456  \n",
       "17      9.452488                   0.0                 0.0  -105.293672  \n",
       "18      4.726264                   0.0                 0.0   -52.663888  \n",
       "19      0.000000                   0.0                 0.0    -0.034104  "
      ]
     },
     "execution_count": 82,
     "metadata": {},
     "output_type": "execute_result"
    }
   ],
   "source": [
    "ppp_biomass = production_envelope(model,\n",
    "                    reactions=[glc_exchange],\n",
    "                    objective=growth)\n",
    "ppp_biomass"
   ]
  },
  {
   "cell_type": "code",
   "execution_count": 83,
   "metadata": {},
   "outputs": [
    {
     "data": {
      "text/plain": [
       "<AxesSubplot:xlabel='Glucose uptake [-mmol/gDW/h]', ylabel='Biomass objective'>"
      ]
     },
     "execution_count": 83,
     "metadata": {},
     "output_type": "execute_result"
    },
    {
     "data": {
      "image/png": "[encoded data removed]",
      "text/plain": [
       "<Figure size 432x288 with 1 Axes>"
      ]
     },
     "metadata": {
      "needs_background": "light"
     },
     "output_type": "display_data"
    }
   ],
   "source": [
    "ppp_biomass.plot(x='r_1714', y='flux_maximum', xlabel=\"Glucose uptake [-mmol/gDW/h]\", ylabel=\"Biomass objective\", grid = True)"
   ]
  },
  {
   "cell_type": "code",
   "execution_count": 84,
   "metadata": {},
   "outputs": [
    {
     "data": {
      "text/html": [
       "<div>\n",
       "<style scoped>\n",
       "    .dataframe tbody tr th:only-of-type {\n",
       "        vertical-align: middle;\n",
       "    }\n",
       "\n",
       "    .dataframe tbody tr th {\n",
       "        vertical-align: top;\n",
       "    }\n",
       "\n",
       "    .dataframe thead th {\n",
       "        text-align: right;\n",
       "    }\n",
       "</style>\n",
       "<table border=\"1\" class=\"dataframe\">\n",
       "  <thead>\n",
       "    <tr style=\"text-align: right;\">\n",
       "      <th></th>\n",
       "      <th>carbon_source</th>\n",
       "      <th>flux_minimum</th>\n",
       "      <th>carbon_yield_minimum</th>\n",
       "      <th>mass_yield_minimum</th>\n",
       "      <th>flux_maximum</th>\n",
       "      <th>carbon_yield_maximum</th>\n",
       "      <th>mass_yield_maximum</th>\n",
       "      <th>r_1714</th>\n",
       "    </tr>\n",
       "  </thead>\n",
       "  <tbody>\n",
       "    <tr>\n",
       "      <th>0</th>\n",
       "      <td>r_1714</td>\n",
       "      <td>0.0</td>\n",
       "      <td>0.000000e+00</td>\n",
       "      <td>NaN</td>\n",
       "      <td>53.942991</td>\n",
       "      <td>1.330594e+00</td>\n",
       "      <td>NaN</td>\n",
       "      <td>-1000.000000</td>\n",
       "    </tr>\n",
       "    <tr>\n",
       "      <th>1</th>\n",
       "      <td>r_1714</td>\n",
       "      <td>0.0</td>\n",
       "      <td>0.000000e+00</td>\n",
       "      <td>NaN</td>\n",
       "      <td>55.362760</td>\n",
       "      <td>1.441479e+00</td>\n",
       "      <td>NaN</td>\n",
       "      <td>-947.370216</td>\n",
       "    </tr>\n",
       "    <tr>\n",
       "      <th>2</th>\n",
       "      <td>r_1714</td>\n",
       "      <td>0.0</td>\n",
       "      <td>0.000000e+00</td>\n",
       "      <td>NaN</td>\n",
       "      <td>55.922709</td>\n",
       "      <td>1.541706e+00</td>\n",
       "      <td>NaN</td>\n",
       "      <td>-894.740432</td>\n",
       "    </tr>\n",
       "    <tr>\n",
       "      <th>3</th>\n",
       "      <td>r_1714</td>\n",
       "      <td>0.0</td>\n",
       "      <td>0.000000e+00</td>\n",
       "      <td>NaN</td>\n",
       "      <td>56.461580</td>\n",
       "      <td>1.653843e+00</td>\n",
       "      <td>NaN</td>\n",
       "      <td>-842.110648</td>\n",
       "    </tr>\n",
       "    <tr>\n",
       "      <th>4</th>\n",
       "      <td>r_1714</td>\n",
       "      <td>0.0</td>\n",
       "      <td>0.000000e+00</td>\n",
       "      <td>NaN</td>\n",
       "      <td>57.000452</td>\n",
       "      <td>1.780931e+00</td>\n",
       "      <td>NaN</td>\n",
       "      <td>-789.480864</td>\n",
       "    </tr>\n",
       "    <tr>\n",
       "      <th>5</th>\n",
       "      <td>r_1714</td>\n",
       "      <td>0.0</td>\n",
       "      <td>0.000000e+00</td>\n",
       "      <td>NaN</td>\n",
       "      <td>57.539323</td>\n",
       "      <td>1.926174e+00</td>\n",
       "      <td>NaN</td>\n",
       "      <td>-736.851080</td>\n",
       "    </tr>\n",
       "    <tr>\n",
       "      <th>6</th>\n",
       "      <td>r_1714</td>\n",
       "      <td>0.0</td>\n",
       "      <td>0.000000e+00</td>\n",
       "      <td>NaN</td>\n",
       "      <td>58.078195</td>\n",
       "      <td>2.093760e+00</td>\n",
       "      <td>NaN</td>\n",
       "      <td>-684.221296</td>\n",
       "    </tr>\n",
       "    <tr>\n",
       "      <th>7</th>\n",
       "      <td>r_1714</td>\n",
       "      <td>0.0</td>\n",
       "      <td>0.000000e+00</td>\n",
       "      <td>NaN</td>\n",
       "      <td>58.318137</td>\n",
       "      <td>2.277602e+00</td>\n",
       "      <td>NaN</td>\n",
       "      <td>-631.591512</td>\n",
       "    </tr>\n",
       "    <tr>\n",
       "      <th>8</th>\n",
       "      <td>r_1714</td>\n",
       "      <td>0.0</td>\n",
       "      <td>0.000000e+00</td>\n",
       "      <td>NaN</td>\n",
       "      <td>58.318137</td>\n",
       "      <td>2.484644e+00</td>\n",
       "      <td>NaN</td>\n",
       "      <td>-578.961728</td>\n",
       "    </tr>\n",
       "    <tr>\n",
       "      <th>9</th>\n",
       "      <td>r_1714</td>\n",
       "      <td>0.0</td>\n",
       "      <td>0.000000e+00</td>\n",
       "      <td>NaN</td>\n",
       "      <td>58.318137</td>\n",
       "      <td>2.733093e+00</td>\n",
       "      <td>NaN</td>\n",
       "      <td>-526.331944</td>\n",
       "    </tr>\n",
       "    <tr>\n",
       "      <th>10</th>\n",
       "      <td>r_1714</td>\n",
       "      <td>0.0</td>\n",
       "      <td>0.000000e+00</td>\n",
       "      <td>NaN</td>\n",
       "      <td>57.122941</td>\n",
       "      <td>2.974512e+00</td>\n",
       "      <td>NaN</td>\n",
       "      <td>-473.702160</td>\n",
       "    </tr>\n",
       "    <tr>\n",
       "      <th>11</th>\n",
       "      <td>r_1714</td>\n",
       "      <td>0.0</td>\n",
       "      <td>0.000000e+00</td>\n",
       "      <td>NaN</td>\n",
       "      <td>55.443267</td>\n",
       "      <td>3.247899e+00</td>\n",
       "      <td>NaN</td>\n",
       "      <td>-421.072376</td>\n",
       "    </tr>\n",
       "    <tr>\n",
       "      <th>12</th>\n",
       "      <td>r_1714</td>\n",
       "      <td>0.0</td>\n",
       "      <td>0.000000e+00</td>\n",
       "      <td>NaN</td>\n",
       "      <td>53.763593</td>\n",
       "      <td>3.599390e+00</td>\n",
       "      <td>NaN</td>\n",
       "      <td>-368.442592</td>\n",
       "    </tr>\n",
       "    <tr>\n",
       "      <th>13</th>\n",
       "      <td>r_1714</td>\n",
       "      <td>0.0</td>\n",
       "      <td>0.000000e+00</td>\n",
       "      <td>NaN</td>\n",
       "      <td>52.083919</td>\n",
       "      <td>4.068032e+00</td>\n",
       "      <td>NaN</td>\n",
       "      <td>-315.812808</td>\n",
       "    </tr>\n",
       "    <tr>\n",
       "      <th>14</th>\n",
       "      <td>r_1714</td>\n",
       "      <td>0.0</td>\n",
       "      <td>0.000000e+00</td>\n",
       "      <td>NaN</td>\n",
       "      <td>48.323163</td>\n",
       "      <td>4.529059e+00</td>\n",
       "      <td>NaN</td>\n",
       "      <td>-263.183024</td>\n",
       "    </tr>\n",
       "    <tr>\n",
       "      <th>15</th>\n",
       "      <td>r_1714</td>\n",
       "      <td>0.0</td>\n",
       "      <td>0.000000e+00</td>\n",
       "      <td>NaN</td>\n",
       "      <td>42.967382</td>\n",
       "      <td>5.033701e+00</td>\n",
       "      <td>NaN</td>\n",
       "      <td>-210.553240</td>\n",
       "    </tr>\n",
       "    <tr>\n",
       "      <th>16</th>\n",
       "      <td>r_1714</td>\n",
       "      <td>0.0</td>\n",
       "      <td>0.000000e+00</td>\n",
       "      <td>NaN</td>\n",
       "      <td>36.481306</td>\n",
       "      <td>5.698154e+00</td>\n",
       "      <td>NaN</td>\n",
       "      <td>-157.923456</td>\n",
       "    </tr>\n",
       "    <tr>\n",
       "      <th>17</th>\n",
       "      <td>r_1714</td>\n",
       "      <td>0.0</td>\n",
       "      <td>0.000000e+00</td>\n",
       "      <td>NaN</td>\n",
       "      <td>24.321714</td>\n",
       "      <td>5.697737e+00</td>\n",
       "      <td>NaN</td>\n",
       "      <td>-105.293672</td>\n",
       "    </tr>\n",
       "    <tr>\n",
       "      <th>18</th>\n",
       "      <td>r_1714</td>\n",
       "      <td>0.0</td>\n",
       "      <td>0.000000e+00</td>\n",
       "      <td>NaN</td>\n",
       "      <td>12.162122</td>\n",
       "      <td>5.696484e+00</td>\n",
       "      <td>NaN</td>\n",
       "      <td>-52.663888</td>\n",
       "    </tr>\n",
       "    <tr>\n",
       "      <th>19</th>\n",
       "      <td>r_1714</td>\n",
       "      <td>0.0</td>\n",
       "      <td>4.593227e-29</td>\n",
       "      <td>NaN</td>\n",
       "      <td>0.000000</td>\n",
       "      <td>3.029572e-13</td>\n",
       "      <td>NaN</td>\n",
       "      <td>-0.034104</td>\n",
       "    </tr>\n",
       "  </tbody>\n",
       "</table>\n",
       "</div>"
      ],
      "text/plain": [
       "   carbon_source  flux_minimum  carbon_yield_minimum  mass_yield_minimum  \\\n",
       "0         r_1714           0.0          0.000000e+00                 NaN   \n",
       "1         r_1714           0.0          0.000000e+00                 NaN   \n",
       "2         r_1714           0.0          0.000000e+00                 NaN   \n",
       "3         r_1714           0.0          0.000000e+00                 NaN   \n",
       "4         r_1714           0.0          0.000000e+00                 NaN   \n",
       "5         r_1714           0.0          0.000000e+00                 NaN   \n",
       "6         r_1714           0.0          0.000000e+00                 NaN   \n",
       "7         r_1714           0.0          0.000000e+00                 NaN   \n",
       "8         r_1714           0.0          0.000000e+00                 NaN   \n",
       "9         r_1714           0.0          0.000000e+00                 NaN   \n",
       "10        r_1714           0.0          0.000000e+00                 NaN   \n",
       "11        r_1714           0.0          0.000000e+00                 NaN   \n",
       "12        r_1714           0.0          0.000000e+00                 NaN   \n",
       "13        r_1714           0.0          0.000000e+00                 NaN   \n",
       "14        r_1714           0.0          0.000000e+00                 NaN   \n",
       "15        r_1714           0.0          0.000000e+00                 NaN   \n",
       "16        r_1714           0.0          0.000000e+00                 NaN   \n",
       "17        r_1714           0.0          0.000000e+00                 NaN   \n",
       "18        r_1714           0.0          0.000000e+00                 NaN   \n",
       "19        r_1714           0.0          4.593227e-29                 NaN   \n",
       "\n",
       "    flux_maximum  carbon_yield_maximum  mass_yield_maximum       r_1714  \n",
       "0      53.942991          1.330594e+00                 NaN -1000.000000  \n",
       "1      55.362760          1.441479e+00                 NaN  -947.370216  \n",
       "2      55.922709          1.541706e+00                 NaN  -894.740432  \n",
       "3      56.461580          1.653843e+00                 NaN  -842.110648  \n",
       "4      57.000452          1.780931e+00                 NaN  -789.480864  \n",
       "5      57.539323          1.926174e+00                 NaN  -736.851080  \n",
       "6      58.078195          2.093760e+00                 NaN  -684.221296  \n",
       "7      58.318137          2.277602e+00                 NaN  -631.591512  \n",
       "8      58.318137          2.484644e+00                 NaN  -578.961728  \n",
       "9      58.318137          2.733093e+00                 NaN  -526.331944  \n",
       "10     57.122941          2.974512e+00                 NaN  -473.702160  \n",
       "11     55.443267          3.247899e+00                 NaN  -421.072376  \n",
       "12     53.763593          3.599390e+00                 NaN  -368.442592  \n",
       "13     52.083919          4.068032e+00                 NaN  -315.812808  \n",
       "14     48.323163          4.529059e+00                 NaN  -263.183024  \n",
       "15     42.967382          5.033701e+00                 NaN  -210.553240  \n",
       "16     36.481306          5.698154e+00                 NaN  -157.923456  \n",
       "17     24.321714          5.697737e+00                 NaN  -105.293672  \n",
       "18     12.162122          5.696484e+00                 NaN   -52.663888  \n",
       "19      0.000000          3.029572e-13                 NaN    -0.034104  "
      ]
     },
     "execution_count": 84,
     "metadata": {},
     "output_type": "execute_result"
    }
   ],
   "source": [
    "ppp_lycopene = production_envelope(model,\n",
    "                    reactions=[glc_exchange],\n",
    "                    objective=model.reactions.CrtI)\n",
    "ppp_lycopene"
   ]
  },
  {
   "cell_type": "code",
   "execution_count": 85,
   "metadata": {},
   "outputs": [
    {
     "data": {
      "text/plain": [
       "<AxesSubplot:xlabel='Glucose uptake [-mmol/gDW/h]', ylabel='Lycopene objective'>"
      ]
     },
     "execution_count": 85,
     "metadata": {},
     "output_type": "execute_result"
    },
    {
     "data": {
      "image/png": "[encoded data removed]",
      "text/plain": [
       "<Figure size 432x288 with 1 Axes>"
      ]
     },
     "metadata": {
      "needs_background": "light"
     },
     "output_type": "display_data"
    }
   ],
   "source": [
    "ppp_lycopene.plot(x='r_1714', y='flux_maximum', xlabel=\"Glucose uptake [-mmol/gDW/h]\", ylabel=\"Lycopene objective\", grid=True)"
   ]
  },
  {
   "cell_type": "code",
   "execution_count": 86,
   "metadata": {},
   "outputs": [],
   "source": [
    "from cobra.io import write_sbml_model\n",
    "write_sbml_model(model,\"MEP_only.xml\")"
   ]
  }
 ],
 "metadata": {
  "kernelspec": {
   "display_name": "Python 3",
   "language": "python",
   "name": "python3"
  },
  "language_info": {
   "codemirror_mode": {
    "name": "ipython",
    "version": 3
   },
   "file_extension": ".py",
   "mimetype": "text/x-python",
   "name": "python",
   "nbconvert_exporter": "python",
   "pygments_lexer": "ipython3",
   "version": "3.8.5"
  }
 },
 "nbformat": 4,
 "nbformat_minor": 4
}
