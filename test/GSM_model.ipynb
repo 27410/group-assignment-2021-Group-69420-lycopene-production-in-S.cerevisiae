{
 "cells": [
  {
   "cell_type": "markdown",
   "metadata": {},
   "source": [
    "# Testing model building with `carveme` and `memote`"
   ]
  },
  {
   "cell_type": "markdown",
   "metadata": {},
   "source": [
    "Importing the COBRA module to read sbml models created via the `carveme` method. Subsequently we reconstruct a draft of the GSM model of *S. cerevisae* using the found RefSeq ID. Looking at the [reference genome R64](https://www.ncbi.nlm.nih.gov/data-hub/taxonomy/4932/?utm_source=assembly&utm_medium=referral&utm_campaign=KnownItemSensor:taxname), we see that 6464 have been annotated.  "
   ]
  },
  {
   "cell_type": "code",
   "execution_count": 1,
   "metadata": {},
   "outputs": [],
   "source": [
    "from cobra.io import read_sbml_model"
   ]
  },
  {
   "cell_type": "markdown",
   "metadata": {},
   "source": [
    "%%capture\n",
    "!carve --refseq GCF_000146045.2_R64 --output Saccharomyces.xml"
   ]
  },
  {
   "cell_type": "markdown",
   "metadata": {},
   "source": [
    "print(\"DONE WITH THE CARVING!\")"
   ]
  },
  {
   "cell_type": "code",
   "execution_count": 2,
   "metadata": {},
   "outputs": [],
   "source": [
    "model = read_sbml_model('../yeast-GEM.xml') # Model initiated in minimal medium + glucose (flux bound = 1.0)"
   ]
  },
  {
   "cell_type": "code",
   "execution_count": 3,
   "metadata": {},
   "outputs": [
    {
     "name": "stdout",
     "output_type": "stream",
     "text": [
      "GSM model fact sheet:\n",
      "Number of reactions: 4058\n",
      "Number of metabolites: 2742\n",
      "Number of genes included in the model: 1150\n",
      "% of genes in model compared to the number of coding genes in Saccharomyces cerevisae R64 (6464 genes): 17.79\n",
      "Gene coverage percentage = 28.34 %\n"
     ]
    }
   ],
   "source": [
    "print(\"GSM model fact sheet:\")\n",
    "print(\"Number of reactions:\", len(model.reactions))\n",
    "print(\"Number of metabolites:\", len(model.metabolites))\n",
    "print(\"Number of genes included in the model:\", len(model.genes))\n",
    "print(\"% of genes in model compared to the number of coding genes in Saccharomyces cerevisae R64 (6464 genes):\",\n",
    "      round((len(model.genes)/6464)*100, 2))\n",
    "print(\"Gene coverage percentage =\", round(len(model.genes)/len(model.reactions)*100, 2), \"%\")"
   ]
  },
  {
   "cell_type": "markdown",
   "metadata": {},
   "source": [
    "Checking the model setup - how the metabolites etc. are named/tagged"
   ]
  },
  {
   "cell_type": "code",
   "execution_count": 70,
   "metadata": {},
   "outputs": [
    {
     "data": {
      "text/plain": [
       "[<Metabolite s_0001[ce] at 0x7ff762d43d60>,\n",
       " <Metabolite s_0002[c] at 0x7ff762d43e80>,\n",
       " <Metabolite s_0003[e] at 0x7ff762d43fa0>,\n",
       " <Metabolite s_0004[ce] at 0x7ff762d43f70>,\n",
       " <Metabolite s_0006[m] at 0x7ff762d43f10>]"
      ]
     },
     "execution_count": 70,
     "metadata": {},
     "output_type": "execute_result"
    }
   ],
   "source": [
    "model.metabolites[:5]"
   ]
  },
  {
   "cell_type": "code",
   "execution_count": 7,
   "metadata": {},
   "outputs": [
    {
     "data": {
      "text/plain": [
       "{'ce': 'cell envelope',\n",
       " 'c': 'cytoplasm',\n",
       " 'e': 'extracellular',\n",
       " 'm': 'mitochondrion',\n",
       " 'n': 'nucleus',\n",
       " 'p': 'peroxisome',\n",
       " 'er': 'endoplasmic reticulum',\n",
       " 'g': 'Golgi',\n",
       " 'lp': 'lipid particle',\n",
       " 'v': 'vacuole',\n",
       " 'erm': 'endoplasmic reticulum membrane',\n",
       " 'vm': 'vacuolar membrane',\n",
       " 'gm': 'Golgi membrane',\n",
       " 'mm': 'mitochondrial membrane'}"
      ]
     },
     "execution_count": 7,
     "metadata": {},
     "output_type": "execute_result"
    }
   ],
   "source": [
    "model.compartments # compartments used"
   ]
  },
  {
   "cell_type": "code",
   "execution_count": 9,
   "metadata": {},
   "outputs": [
    {
     "data": {
      "text/html": [
       "\n",
       "        <table>\n",
       "            <tr>\n",
       "                <td><strong>Metabolite identifier</strong></td><td>s_0001[ce]</td>\n",
       "            </tr><tr>\n",
       "                <td><strong>Name</strong></td><td>(1->3)-beta-D-glucan [cell envelope]</td>\n",
       "            </tr><tr>\n",
       "                <td><strong>Memory address</strong></td>\n",
       "                <td>0x07ff762d43d60</td>\n",
       "            </tr><tr>\n",
       "                <td><strong>Formula</strong></td><td>C6H10O5</td>\n",
       "            </tr><tr>\n",
       "                <td><strong>Compartment</strong></td><td>ce</td>\n",
       "            </tr><tr>\n",
       "                <td><strong>In 3 reaction(s)</strong></td><td>\n",
       "                    r_1543, r_4048, r_0005</td>\n",
       "            </tr>\n",
       "        </table>"
      ],
      "text/plain": [
       "<Metabolite s_0001[ce] at 0x7ff762d43d60>"
      ]
     },
     "execution_count": 9,
     "metadata": {},
     "output_type": "execute_result"
    }
   ],
   "source": [
    "model.metabolites.get_by_id('s_0001[ce]') # Again specifying model naming"
   ]
  },
  {
   "cell_type": "code",
   "execution_count": 95,
   "metadata": {},
   "outputs": [
    {
     "name": "stdout",
     "output_type": "stream",
     "text": [
      "acetoacetyl-CoA [cytoplasm]\n",
      "s_0367[c]\n",
      "acetoacetyl-CoA [mitochondrion]\n",
      "s_0370[m]\n",
      "acetyl-CoA [cytoplasm]\n",
      "s_0373[c]\n",
      "acetyl-CoA [mitochondrion]\n",
      "s_0376[m]\n",
      "acetyl-CoA [nucleus]\n",
      "s_0377[n]\n",
      "acetyl-CoA [peroxisome]\n",
      "s_0378[p]\n",
      "acetoacetyl-CoA [peroxisome]\n",
      "s_2914[p]\n"
     ]
    }
   ],
   "source": [
    "# Investigating where in the model, acetyl-CoA is used\n",
    "for metabolite in model.metabolites.query('acetyl-CoA', 'name'):\n",
    "    print(metabolite.name)"
   ]
  },
  {
   "cell_type": "code",
   "execution_count": 75,
   "metadata": {},
   "outputs": [
    {
     "name": "stdout",
     "output_type": "stream",
     "text": [
      "Model objective function:\n",
      "Maximize\n",
      "1.0*r_2111 - 1.0*r_2111_reverse_58b69\n"
     ]
    }
   ],
   "source": [
    "# Model default objective function (growth rate)\n",
    "print(\"Model objective function:\\n\", model.objective, sep=\"\")"
   ]
  },
  {
   "cell_type": "code",
   "execution_count": 77,
   "metadata": {},
   "outputs": [
    {
     "data": {
      "text/html": [
       "\n",
       "        <table>\n",
       "            <tr>\n",
       "                <td><strong>Reaction identifier</strong></td><td>r_2111</td>\n",
       "            </tr><tr>\n",
       "                <td><strong>Name</strong></td><td>growth</td>\n",
       "            </tr><tr>\n",
       "                <td><strong>Memory address</strong></td>\n",
       "                <td>0x07ff77dd9f250</td>\n",
       "            </tr><tr>\n",
       "                <td><strong>Stoichiometry</strong></td>\n",
       "                <td>\n",
       "                    <p style='text-align:right'>s_0450[c] --></p>\n",
       "                    <p style='text-align:right'>biomass [cytoplasm] --></p>\n",
       "                </td>\n",
       "            </tr><tr>\n",
       "                <td><strong>GPR</strong></td><td></td>\n",
       "            </tr><tr>\n",
       "                <td><strong>Lower bound</strong></td><td>0.0</td>\n",
       "            </tr><tr>\n",
       "                <td><strong>Upper bound</strong></td><td>1000.0</td>\n",
       "            </tr>\n",
       "        </table>\n",
       "        "
      ],
      "text/plain": [
       "<Reaction r_2111 at 0x7ff77dd9f250>"
      ]
     },
     "execution_count": 77,
     "metadata": {},
     "output_type": "execute_result"
    }
   ],
   "source": [
    "# Investigating the growth reaction rate\n",
    "model.reactions.get_by_id('r_2111')"
   ]
  },
  {
   "cell_type": "code",
   "execution_count": 79,
   "metadata": {},
   "outputs": [
    {
     "data": {
      "text/html": [
       "\n",
       "        <table>\n",
       "            <tr>\n",
       "                <td><strong>Metabolite identifier</strong></td><td>s_0450[c]</td>\n",
       "            </tr><tr>\n",
       "                <td><strong>Name</strong></td><td>biomass [cytoplasm]</td>\n",
       "            </tr><tr>\n",
       "                <td><strong>Memory address</strong></td>\n",
       "                <td>0x07ff788f81ee0</td>\n",
       "            </tr><tr>\n",
       "                <td><strong>Formula</strong></td><td></td>\n",
       "            </tr><tr>\n",
       "                <td><strong>Compartment</strong></td><td>c</td>\n",
       "            </tr><tr>\n",
       "                <td><strong>In 2 reaction(s)</strong></td><td>\n",
       "                    r_2111, r_4041</td>\n",
       "            </tr>\n",
       "        </table>"
      ],
      "text/plain": [
       "<Metabolite s_0450[c] at 0x7ff788f81ee0>"
      ]
     },
     "execution_count": 79,
     "metadata": {},
     "output_type": "execute_result"
    }
   ],
   "source": [
    "model.metabolites.get_by_id('s_0450[c]')"
   ]
  },
  {
   "cell_type": "code",
   "execution_count": 28,
   "metadata": {},
   "outputs": [
    {
     "data": {
      "text/html": [
       "<strong><em>Optimal</em> solution with objective value 0.084</strong><br><div>\n",
       "<style scoped>\n",
       "    .dataframe tbody tr th:only-of-type {\n",
       "        vertical-align: middle;\n",
       "    }\n",
       "\n",
       "    .dataframe tbody tr th {\n",
       "        vertical-align: top;\n",
       "    }\n",
       "\n",
       "    .dataframe thead th {\n",
       "        text-align: right;\n",
       "    }\n",
       "</style>\n",
       "<table border=\"1\" class=\"dataframe\">\n",
       "  <thead>\n",
       "    <tr style=\"text-align: right;\">\n",
       "      <th></th>\n",
       "      <th>fluxes</th>\n",
       "      <th>reduced_costs</th>\n",
       "    </tr>\n",
       "  </thead>\n",
       "  <tbody>\n",
       "    <tr>\n",
       "      <th>r_0001</th>\n",
       "      <td>0.000000</td>\n",
       "      <td>-1.667286e-02</td>\n",
       "    </tr>\n",
       "    <tr>\n",
       "      <th>r_0002</th>\n",
       "      <td>0.000000</td>\n",
       "      <td>-1.667286e-02</td>\n",
       "    </tr>\n",
       "    <tr>\n",
       "      <th>r_0003</th>\n",
       "      <td>0.000000</td>\n",
       "      <td>-0.000000e+00</td>\n",
       "    </tr>\n",
       "    <tr>\n",
       "      <th>r_0004</th>\n",
       "      <td>0.000000</td>\n",
       "      <td>1.734723e-18</td>\n",
       "    </tr>\n",
       "    <tr>\n",
       "      <th>r_0005</th>\n",
       "      <td>0.062686</td>\n",
       "      <td>6.722053e-18</td>\n",
       "    </tr>\n",
       "    <tr>\n",
       "      <th>...</th>\n",
       "      <td>...</td>\n",
       "      <td>...</td>\n",
       "    </tr>\n",
       "    <tr>\n",
       "      <th>r_4694</th>\n",
       "      <td>0.000000</td>\n",
       "      <td>0.000000e+00</td>\n",
       "    </tr>\n",
       "    <tr>\n",
       "      <th>r_4695</th>\n",
       "      <td>0.000000</td>\n",
       "      <td>0.000000e+00</td>\n",
       "    </tr>\n",
       "    <tr>\n",
       "      <th>r_4697</th>\n",
       "      <td>0.000000</td>\n",
       "      <td>-0.000000e+00</td>\n",
       "    </tr>\n",
       "    <tr>\n",
       "      <th>r_4698</th>\n",
       "      <td>0.000000</td>\n",
       "      <td>-1.866638e-01</td>\n",
       "    </tr>\n",
       "    <tr>\n",
       "      <th>r_4699</th>\n",
       "      <td>0.000000</td>\n",
       "      <td>0.000000e+00</td>\n",
       "    </tr>\n",
       "  </tbody>\n",
       "</table>\n",
       "<p>4058 rows × 2 columns</p>\n",
       "</div>"
      ],
      "text/plain": [
       "<Solution 0.084 at 0x7ff762558850>"
      ]
     },
     "execution_count": 28,
     "metadata": {},
     "output_type": "execute_result"
    }
   ],
   "source": [
    "model.optimize()"
   ]
  },
  {
   "cell_type": "code",
   "execution_count": 40,
   "metadata": {},
   "outputs": [
    {
     "name": "stdout",
     "output_type": "stream",
     "text": [
      "ammonium exchange = 1000.0\n",
      "D-glucose exchange = 1.0\n",
      "H+ exchange = 1000.0\n",
      "iron(2+) exchange = 1000.0\n",
      "oxygen exchange = 1000.0\n",
      "phosphate exchange = 1000.0\n",
      "potassium exchange = 1000.0\n",
      "sodium exchange = 1000.0\n",
      "sulphate exchange = 1000.0\n",
      "water exchange = 1000.0\n",
      "chloride exchange = 1000.0\n",
      "Cu2(+) exchange = 1000.0\n",
      "Mn(2+) exchange = 1000.0\n",
      "Zn(2+) exchange = 1000.0\n",
      "Mg(2+) exchange = 1000.0\n",
      "Ca(2+) exchange = 1000.0\n"
     ]
    }
   ],
   "source": [
    "# Exchange reactions for uptake of nutrients from medium\n",
    "for r in model.medium.keys():\n",
    "    print(model.reactions.get_by_id(r).name, \"=\",model.medium[r])"
   ]
  },
  {
   "cell_type": "code",
   "execution_count": 41,
   "metadata": {},
   "outputs": [
    {
     "data": {
      "text/plain": [
       "{'r_1654': 1000.0,\n",
       " 'r_1714': 1.0,\n",
       " 'r_1832': 1000.0,\n",
       " 'r_1861': 1000.0,\n",
       " 'r_1992': 1000.0,\n",
       " 'r_2005': 1000.0,\n",
       " 'r_2020': 1000.0,\n",
       " 'r_2049': 1000.0,\n",
       " 'r_2060': 1000.0,\n",
       " 'r_2100': 1000.0,\n",
       " 'r_4593': 1000.0,\n",
       " 'r_4594': 1000.0,\n",
       " 'r_4595': 1000.0,\n",
       " 'r_4596': 1000.0,\n",
       " 'r_4597': 1000.0,\n",
       " 'r_4600': 1000.0}"
      ]
     },
     "execution_count": 41,
     "metadata": {},
     "output_type": "execute_result"
    }
   ],
   "source": [
    "model.medium"
   ]
  },
  {
   "cell_type": "code",
   "execution_count": 44,
   "metadata": {},
   "outputs": [
    {
     "data": {
      "text/html": [
       "\n",
       "        <table>\n",
       "            <tr>\n",
       "                <td><strong>Reaction identifier</strong></td><td>r_1714</td>\n",
       "            </tr><tr>\n",
       "                <td><strong>Name</strong></td><td>D-glucose exchange</td>\n",
       "            </tr><tr>\n",
       "                <td><strong>Memory address</strong></td>\n",
       "                <td>0x07ff77def9760</td>\n",
       "            </tr><tr>\n",
       "                <td><strong>Stoichiometry</strong></td>\n",
       "                <td>\n",
       "                    <p style='text-align:right'>s_0565[e] <=></p>\n",
       "                    <p style='text-align:right'>D-glucose [extracellular] <=></p>\n",
       "                </td>\n",
       "            </tr><tr>\n",
       "                <td><strong>GPR</strong></td><td></td>\n",
       "            </tr><tr>\n",
       "                <td><strong>Lower bound</strong></td><td>-1.0</td>\n",
       "            </tr><tr>\n",
       "                <td><strong>Upper bound</strong></td><td>1000.0</td>\n",
       "            </tr>\n",
       "        </table>\n",
       "        "
      ],
      "text/plain": [
       "<Reaction r_1714 at 0x7ff77def9760>"
      ]
     },
     "execution_count": 44,
     "metadata": {},
     "output_type": "execute_result"
    }
   ],
   "source": [
    "model.reactions.r_1714"
   ]
  },
  {
   "cell_type": "code",
   "execution_count": 54,
   "metadata": {},
   "outputs": [
    {
     "data": {
      "text/html": [
       "\n",
       "        <table>\n",
       "            <tr>\n",
       "                <td><strong>Metabolite identifier</strong></td><td>s_0565[e]</td>\n",
       "            </tr><tr>\n",
       "                <td><strong>Name</strong></td><td>D-glucose [extracellular]</td>\n",
       "            </tr><tr>\n",
       "                <td><strong>Memory address</strong></td>\n",
       "                <td>0x07ff788f42220</td>\n",
       "            </tr><tr>\n",
       "                <td><strong>Formula</strong></td><td>C6H12O6</td>\n",
       "            </tr><tr>\n",
       "                <td><strong>Compartment</strong></td><td>e</td>\n",
       "            </tr><tr>\n",
       "                <td><strong>In 6 reaction(s)</strong></td><td>\n",
       "                    r_1166, r_1714, r_4400, r_0370, r_4420, r_1024</td>\n",
       "            </tr>\n",
       "        </table>"
      ],
      "text/plain": [
       "<Metabolite s_0565[e] at 0x7ff788f42220>"
      ]
     },
     "execution_count": 54,
     "metadata": {},
     "output_type": "execute_result"
    }
   ],
   "source": [
    "model.metabolites.get_by_id('s_0565[e]')"
   ]
  },
  {
   "cell_type": "code",
   "execution_count": 82,
   "metadata": {},
   "outputs": [
    {
     "name": "stdout",
     "output_type": "stream",
     "text": [
      "mu_min_gluc = 0.08374770604140971\n",
      "mu_max_succ = 19.816830259464087\n"
     ]
    }
   ],
   "source": [
    "# Experimentation with glucose concentration --> reach maximum growth rate at conc. ca. 575 \n",
    "medium = model.medium\n",
    "min_gluc = model.optimize()\n",
    "print(\"mu_min_gluc =\", min_gluc.fluxes['r_2111'])\n",
    "with model:\n",
    "    medium['r_1714'] = 575  # Glucose exchange reaciton\n",
    "    model.medium = medium\n",
    "    solution = model.optimize()\n",
    "    print(\"mu_max_succ =\",solution.fluxes['r_2111'])"
   ]
  },
  {
   "cell_type": "code",
   "execution_count": 100,
   "metadata": {},
   "outputs": [],
   "source": [
    "for reaction in model.metabolites.get_by_id('s_0367[c]').reactions:\n",
    "    reaction\n",
    "    #print(reaction.name, reaction, sep = \" | \")"
   ]
  },
  {
   "cell_type": "code",
   "execution_count": 101,
   "metadata": {},
   "outputs": [
    {
     "data": {
      "text/plain": [
       "frozenset({<Reaction r_0103 at 0x7ff788950670>,\n",
       "           <Reaction r_0559 at 0x7ff789d5ddf0>,\n",
       "           <Reaction r_4396 at 0x7ff762ab0df0>})"
      ]
     },
     "execution_count": 101,
     "metadata": {},
     "output_type": "execute_result"
    }
   ],
   "source": [
    "model.metabolites.get_by_id('s_0367[c]').reactions"
   ]
  },
  {
   "cell_type": "code",
   "execution_count": null,
   "metadata": {},
   "outputs": [],
   "source": []
  },
  {
   "cell_type": "code",
   "execution_count": null,
   "metadata": {},
   "outputs": [],
   "source": []
  }
 ],
 "metadata": {
  "kernelspec": {
   "display_name": "Python 3",
   "language": "python",
   "name": "python3"
  },
  "language_info": {
   "codemirror_mode": {
    "name": "ipython",
    "version": 3
   },
   "file_extension": ".py",
   "mimetype": "text/x-python",
   "name": "python",
   "nbconvert_exporter": "python",
   "pygments_lexer": "ipython3",
   "version": "3.8.5"
  }
 },
 "nbformat": 4,
 "nbformat_minor": 4
}
