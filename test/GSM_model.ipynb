{
 "cells": [
  {
   "cell_type": "code",
   "execution_count": null,
   "metadata": {},
   "outputs": [],
   "source": [
    "from cobra.io import read_sbml_model\n",
    "%%capture\n",
    "!carve --refseq GCF_000146045.2 --output Saccharomyces.xml --gapfill M9 --init M9"
   ]
  },
  {
   "cell_type": "code",
   "execution_count": null,
   "metadata": {},
   "outputs": [],
   "source": [
    "model = read_sbml_model('Saccharomyces.xml')\n",
    "print(\"Number of reactions:\", len(model.reactions))\n",
    "print(\"Number of metabolites:\", len(model.metabolites))\n",
    "print(\"Number of genes included in the model:\", len(model.genes))\n",
    "print(\"% of genes in model compared to the number of coding genes in Vibrio natrigens(4451 genes):\",(len(model.genes)/4451)*100)"
   ]
  },
  {
   "cell_type": "code",
   "execution_count": null,
   "metadata": {},
   "outputs": [],
   "source": [
    "!memote report snapshot --skip test_stoichiometric_consistency \\\n",
    "    --skip test_find_metabolites_not_produced_with_open_bounds \\\n",
    "    --skip test_find_metabolites_not_consumed_with_open_bounds Saccharomyces.xml --filename Saccharomyces.html"
   ]
  },
  {
   "cell_type": "code",
   "execution_count": null,
   "metadata": {},
   "outputs": [],
   "source": [
    "!memote report snapshot Saccharomyces.xml --filename Saccharomyces.html"
   ]
  },
  {
   "cell_type": "code",
   "execution_count": null,
   "metadata": {},
   "outputs": [],
   "source": [
    "!carve --refseq GCF_001456255.1 --output Test_Vnatri.xml --gapfill M9 --init M9"
   ]
  },
  {
   "cell_type": "code",
   "execution_count": null,
   "metadata": {},
   "outputs": [],
   "source": [
    "!memote report snapshot Test_Vnatri.xml --filename Test_Vnatri.html"
   ]
  },
  {
   "cell_type": "code",
   "execution_count": null,
   "metadata": {},
   "outputs": [],
   "source": []
  },
  {
   "cell_type": "code",
   "execution_count": null,
   "metadata": {},
   "outputs": [],
   "source": []
  },
  {
   "cell_type": "code",
   "execution_count": null,
   "metadata": {},
   "outputs": [],
   "source": []
  }
 ],
 "metadata": {
  "kernelspec": {
   "display_name": "Python 3",
   "language": "python",
   "name": "python3"
  },
  "language_info": {
   "codemirror_mode": {
    "name": "ipython",
    "version": 3
   },
   "file_extension": ".py",
   "mimetype": "text/x-python",
   "name": "python",
   "nbconvert_exporter": "python",
   "pygments_lexer": "ipython3",
   "version": "3.8.5"
  }
 },
 "nbformat": 4,
 "nbformat_minor": 4
}
