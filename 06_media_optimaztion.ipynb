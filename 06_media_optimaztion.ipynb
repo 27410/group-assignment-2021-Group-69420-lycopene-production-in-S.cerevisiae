{
 "cells": [
  {
   "cell_type": "markdown",
   "id": "02a71314",
   "metadata": {},
   "source": [
    "# Media Optimization"
   ]
  },
  {
   "cell_type": "markdown",
   "id": "5ee15acd",
   "metadata": {},
   "source": [
    "The model is imported"
   ]
  },
  {
   "cell_type": "code",
   "execution_count": 99,
   "id": "9ffb1dff",
   "metadata": {},
   "outputs": [],
   "source": [
    "import pandas as pd\n",
    "import numpy as np"
   ]
  },
  {
   "cell_type": "code",
   "execution_count": 100,
   "id": "74fedda2",
   "metadata": {},
   "outputs": [],
   "source": [
    "%run 01_loading_model.ipynb"
   ]
  },
  {
   "cell_type": "markdown",
   "id": "35dcfe4a",
   "metadata": {},
   "source": [
    "### The components of the standard medium and their relative abundance "
   ]
  },
  {
   "cell_type": "code",
   "execution_count": 101,
   "id": "c996bace",
   "metadata": {},
   "outputs": [
    {
     "data": {
      "text/plain": [
       "{'r_1654': 1000.0,\n",
       " 'r_1714': 1.0,\n",
       " 'r_1832': 1000.0,\n",
       " 'r_1861': 1000.0,\n",
       " 'r_1992': 1000.0,\n",
       " 'r_2005': 1000.0,\n",
       " 'r_2020': 1000.0,\n",
       " 'r_2049': 1000.0,\n",
       " 'r_2060': 1000.0,\n",
       " 'r_2100': 1000.0,\n",
       " 'r_4593': 1000.0,\n",
       " 'r_4594': 1000.0,\n",
       " 'r_4595': 1000.0,\n",
       " 'r_4596': 1000.0,\n",
       " 'r_4597': 1000.0,\n",
       " 'r_4600': 1000.0}"
      ]
     },
     "execution_count": 101,
     "metadata": {},
     "output_type": "execute_result"
    }
   ],
   "source": [
    "model.medium"
   ]
  },
  {
   "cell_type": "markdown",
   "id": "52bae49d",
   "metadata": {},
   "source": [
    "To be able to see which metabolites are responsible for the exchange reactions their name is extracted with the following for loop:"
   ]
  },
  {
   "cell_type": "code",
   "execution_count": 102,
   "id": "6e4c8b74",
   "metadata": {},
   "outputs": [
    {
     "name": "stdout",
     "output_type": "stream",
     "text": [
      "r_1654 ammonium exchange \t 1000.0\n",
      "r_1714 D-glucose exchange \t 1.0\n",
      "r_1832 H+ exchange \t 1000.0\n",
      "r_1861 iron(2+) exchange \t 1000.0\n",
      "r_1992 oxygen exchange \t 1000.0\n",
      "r_2005 phosphate exchange \t 1000.0\n",
      "r_2020 potassium exchange \t 1000.0\n",
      "r_2049 sodium exchange \t 1000.0\n",
      "r_2060 sulphate exchange \t 1000.0\n",
      "r_2100 water exchange \t 1000.0\n",
      "r_4593 chloride exchange \t 1000.0\n",
      "r_4594 Cu2(+) exchange \t 1000.0\n",
      "r_4595 Mn(2+) exchange \t 1000.0\n",
      "r_4596 Zn(2+) exchange \t 1000.0\n",
      "r_4597 Mg(2+) exchange \t 1000.0\n",
      "r_4600 Ca(2+) exchange \t 1000.0\n"
     ]
    }
   ],
   "source": [
    "for x, y in model.medium.items():\n",
    "    print(model.reactions.get_by_id(x).id,model.reactions.get_by_id(x).name,\"\\t\",y)"
   ]
  },
  {
   "cell_type": "markdown",
   "id": "88620cbe",
   "metadata": {},
   "source": [
    "To make it more understandable, the import reactions and the name of the metabolites are extracted. \n",
    "Fist we identify the reaction annotated as growth/biomass, which is r_2111. This corresponds to:"
   ]
  },
  {
   "cell_type": "code",
   "execution_count": 103,
   "id": "806df5b3",
   "metadata": {},
   "outputs": [
    {
     "data": {
      "text/html": [
       "<strong><em>Optimal</em> solution with objective value 0.084</strong><br><div>\n",
       "<style scoped>\n",
       "    .dataframe tbody tr th:only-of-type {\n",
       "        vertical-align: middle;\n",
       "    }\n",
       "\n",
       "    .dataframe tbody tr th {\n",
       "        vertical-align: top;\n",
       "    }\n",
       "\n",
       "    .dataframe thead th {\n",
       "        text-align: right;\n",
       "    }\n",
       "</style>\n",
       "<table border=\"1\" class=\"dataframe\">\n",
       "  <thead>\n",
       "    <tr style=\"text-align: right;\">\n",
       "      <th></th>\n",
       "      <th>fluxes</th>\n",
       "      <th>reduced_costs</th>\n",
       "    </tr>\n",
       "  </thead>\n",
       "  <tbody>\n",
       "    <tr>\n",
       "      <th>r_0001</th>\n",
       "      <td>0.000000</td>\n",
       "      <td>-1.667286e-02</td>\n",
       "    </tr>\n",
       "    <tr>\n",
       "      <th>r_0002</th>\n",
       "      <td>0.000000</td>\n",
       "      <td>-1.667286e-02</td>\n",
       "    </tr>\n",
       "    <tr>\n",
       "      <th>r_0003</th>\n",
       "      <td>0.000000</td>\n",
       "      <td>-0.000000e+00</td>\n",
       "    </tr>\n",
       "    <tr>\n",
       "      <th>r_0004</th>\n",
       "      <td>0.000000</td>\n",
       "      <td>-1.734723e-18</td>\n",
       "    </tr>\n",
       "    <tr>\n",
       "      <th>r_0005</th>\n",
       "      <td>0.062686</td>\n",
       "      <td>0.000000e+00</td>\n",
       "    </tr>\n",
       "    <tr>\n",
       "      <th>...</th>\n",
       "      <td>...</td>\n",
       "      <td>...</td>\n",
       "    </tr>\n",
       "    <tr>\n",
       "      <th>CrtI</th>\n",
       "      <td>0.000000</td>\n",
       "      <td>0.000000e+00</td>\n",
       "    </tr>\n",
       "    <tr>\n",
       "      <th>DM_dmapp</th>\n",
       "      <td>0.000000</td>\n",
       "      <td>0.000000e+00</td>\n",
       "    </tr>\n",
       "    <tr>\n",
       "      <th>DM_ggpp</th>\n",
       "      <td>0.000000</td>\n",
       "      <td>0.000000e+00</td>\n",
       "    </tr>\n",
       "    <tr>\n",
       "      <th>DM_phyto</th>\n",
       "      <td>0.000000</td>\n",
       "      <td>0.000000e+00</td>\n",
       "    </tr>\n",
       "    <tr>\n",
       "      <th>DM_lyco</th>\n",
       "      <td>0.000000</td>\n",
       "      <td>0.000000e+00</td>\n",
       "    </tr>\n",
       "  </tbody>\n",
       "</table>\n",
       "<p>4066 rows × 2 columns</p>\n",
       "</div>"
      ],
      "text/plain": [
       "<Solution 0.084 at 0x203a6b017c0>"
      ]
     },
     "execution_count": 103,
     "metadata": {},
     "output_type": "execute_result"
    }
   ],
   "source": [
    "model.reactions.r_2111\n",
    "model.optimize()"
   ]
  },
  {
   "cell_type": "code",
   "execution_count": 104,
   "id": "bee52894",
   "metadata": {},
   "outputs": [
    {
     "name": "stdout",
     "output_type": "stream",
     "text": [
      "Maximum theoretical biomass productivity: 0.08374778664999817 \\h\n",
      "Maximum theoretical productivity of lycopene reaction: 0.16915906286462645 mmol/gDW*h\n",
      "Theoretical max. yield of lycopene: 0.16915906286462645 mmol-lyco / mmol-glc\n"
     ]
    }
   ],
   "source": [
    "with model:\n",
    "    solution = model.optimize()\n",
    "    print('Maximum theoretical biomass productivity:',solution.fluxes[\"r_2111\"], \"\\h\") \n",
    "\n",
    "    model.objective = model.reactions.CrtI\n",
    "    lyco_production = model.optimize().objective_value\n",
    "    print('Maximum theoretical productivity of lycopene:', lyco_production, 'mmol/gDW*h')\n",
    "    print(\"Theoretical max. yield of lycopene:\", lyco_production / (-1*model.reactions.r_1714.flux), \"mmol-lyco / mmol-glc\")"
   ]
  },
  {
   "cell_type": "markdown",
   "id": "2564eef3",
   "metadata": {},
   "source": [
    "### Changing media"
   ]
  },
  {
   "cell_type": "markdown",
   "id": "3cc6efac",
   "metadata": {},
   "source": [
    "In order to analyse the effect of the medium on the productivities, different modifications to the medium are attempted. \n",
    "Initially, the medium is updated to a more ideal medium for S. cerevisiae: the YEPD medim"
   ]
  },
  {
   "cell_type": "markdown",
   "id": "d3cb1ef3",
   "metadata": {},
   "source": [
    "#### YEPD-mimicked media"
   ]
  },
  {
   "cell_type": "markdown",
   "id": "e074aa6a",
   "metadata": {},
   "source": [
    "We have to identify the ID of all amino acid exchange reactions. This is done with the following for-loop"
   ]
  },
  {
   "cell_type": "code",
   "execution_count": 105,
   "id": "472beba7",
   "metadata": {},
   "outputs": [
    {
     "name": "stdout",
     "output_type": "stream",
     "text": [
      "r_1873 L-alanine exchange\n",
      "r_1879 L-arginine exchange\n",
      "r_1880 L-asparagine exchange\n",
      "r_1881 L-aspartate exchange\n",
      "r_1883 L-cysteine exchange\n",
      "r_1886 L-glucitol exchange\n",
      "r_1889 L-glutamate exchange\n",
      "r_1891 L-glutamine exchange\n",
      "r_1810 L-glycine exchange\n",
      "r_1893 L-histidine exchange\n",
      "r_1896 L-homoserine exchange\n",
      "r_1897 L-isoleucine exchange\n",
      "r_1899 L-leucine exchange\n",
      "r_1900 L-lysine exchange\n",
      "r_1902 L-methionine exchange\n",
      "r_1903 L-phenylalanine exchange\n",
      "r_1904 L-proline exchange\n",
      "r_1906 L-serine exchange\n",
      "r_1909 L-sorbose exchange\n",
      "r_1911 L-threonine exchange\n",
      "r_1912 L-tryptophan exchange\n",
      "r_1913 L-tyrosine exchange\n",
      "r_1914 L-valine exchange\n"
     ]
    }
   ],
   "source": [
    " aa_list=[\"L-alanine\", \"L-arginine\", \"L-asparagine\", \"L-aspartate\", \"L-cysteine\", \"L-glucitol\", \"L-glutamate\", \"L-glutamine\", \"L-glycine\", \"L-histidine\", \"L-homoserine\", \"L-isoleucine\", \"L-leucine\", \"L-lysine\", \"L-methionine\", \"L-phenylalanine\", \"L-proline\", \"L-serine\", \"L-sorbose\", \"L-threonine\", \"L-tryptophan\", \"L-tyrosine\", \"L-valine\"]\n",
    "for aa in aa_list:\n",
    "    for m in model.reactions.query(r'^'+aa+\" exchange\", 'name'):\n",
    "        print(m.id,m.name)"
   ]
  },
  {
   "cell_type": "markdown",
   "id": "bfae561d",
   "metadata": {},
   "source": [
    "With the identified IDs, the medium content is updated"
   ]
  },
  {
   "cell_type": "code",
   "execution_count": 106,
   "id": "181f7180",
   "metadata": {},
   "outputs": [],
   "source": [
    "YEPDmedium = model.medium\n",
    "YEPDmedium['r_1714'] = 20\n",
    "YEPDmedium['r_1873'] = 10\n",
    "YEPDmedium['r_1879'] = 10\n",
    "YEPDmedium['r_1880'] = 10\n",
    "YEPDmedium['r_1881'] = 10\n",
    "YEPDmedium['r_1883'] = 10\n",
    "YEPDmedium['r_1889'] = 10\n",
    "YEPDmedium['r_1891'] = 10\n",
    "YEPDmedium['r_1810'] = 10\n",
    "YEPDmedium['r_1893'] = 10\n",
    "YEPDmedium['r_1897'] = 10\n",
    "YEPDmedium['r_1899'] = 10\n",
    "YEPDmedium['r_1900'] = 10\n",
    "YEPDmedium['r_1902'] = 10\n",
    "YEPDmedium['r_1903'] = 10\n",
    "YEPDmedium['r_1903'] = 10\n",
    "YEPDmedium['r_1904'] = 10\n",
    "YEPDmedium['r_1906'] = 10\n",
    "YEPDmedium['r_1911'] = 10\n",
    "YEPDmedium['r_1912'] = 10\n",
    "YEPDmedium['r_1913'] = 10\n",
    "YEPDmedium['r_1914'] = 10\n"
   ]
  },
  {
   "cell_type": "markdown",
   "id": "4525e3a0",
   "metadata": {},
   "source": [
    "#### Poductivites on YEPD medium"
   ]
  },
  {
   "cell_type": "markdown",
   "id": "68ab1187",
   "metadata": {},
   "source": [
    "To analyse the productivities on this medium, the performance is tested"
   ]
  },
  {
   "cell_type": "code",
   "execution_count": 107,
   "id": "65df2449",
   "metadata": {},
   "outputs": [
    {
     "name": "stdout",
     "output_type": "stream",
     "text": [
      "Maximum theoretical biomass productivity: 10.237513608012602 \\h\n",
      "Theoretical max. productivity of lycopene: 16.709647633330416 mmol/gDW*h\n",
      "Theoretical max. yield of lycopene: 0.8354823816665208 mmol-lyco / mmol-glc\n"
     ]
    }
   ],
   "source": [
    "model.medium = YEPDmedium\n",
    "with model:\n",
    "    solution = model.optimize()\n",
    "    print('Maximum theoretical biomass productivity:',solution.fluxes[\"r_2111\"], \"\\h\") \n",
    "\n",
    "    model.objective = model.reactions.CrtI\n",
    "    lyco_production = model.optimize().objective_value\n",
    "    print('Theoretical max. productivity of lycopene:', lyco_production, 'mmol/gDW*h')\n",
    "    print(\"Theoretical max. yield of lycopene:\", lyco_production / (-1*model.reactions.r_1714.flux), \"mmol-lyco / mmol-glc\")"
   ]
  },
  {
   "cell_type": "markdown",
   "id": "a3be8940",
   "metadata": {},
   "source": [
    "Very clearly it can be seen that by adding amino acids to the medium, lycopene productivity increases excessively. This is likely due to biosynthesis of amino acids requires a lot of the metabolites generated throughout central metabolism. When the requirement for endogenous synthesis decreases, the flux can be directed towards increased production of other metabolites, such as lycopene"
   ]
  },
  {
   "cell_type": "markdown",
   "id": "4e464eed",
   "metadata": {},
   "source": [
    "#### Changing the carbon source in the medium"
   ]
  },
  {
   "cell_type": "markdown",
   "id": "e3b0a450",
   "metadata": {},
   "source": [
    "To further improve the medium, the carbon source is furhter examined. The carbon source can be changed in the medium by chinging the flux bounds of the apropriate exchange reactions. The following code is an example of how the exchange reactions are identified."
   ]
  },
  {
   "cell_type": "code",
   "execution_count": 108,
   "id": "52554561",
   "metadata": {},
   "outputs": [
    {
     "name": "stdout",
     "output_type": "stream",
     "text": [
      "r_2056 succinate exchange\n"
     ]
    }
   ],
   "source": [
    "for m in model.reactions.query(\"succinate exchange\", 'name'):\n",
    "        print(m.id,m.name)"
   ]
  },
  {
   "cell_type": "markdown",
   "id": "3577d748",
   "metadata": {},
   "source": [
    "Initially, the glucose is increased from 1 to 10: "
   ]
  },
  {
   "cell_type": "code",
   "execution_count": 109,
   "id": "c713d3b2",
   "metadata": {},
   "outputs": [
    {
     "name": "stdout",
     "output_type": "stream",
     "text": [
      "Maximum theoretical biomass productivity: 9.371403141493689 \\h\n",
      "Maximum theoretical productivity of lycopene reaction: 14.9402786212709 mmol/gDW*h\n"
     ]
    }
   ],
   "source": [
    "medium = model.medium\n",
    "with model:\n",
    "    medium['r_1714'] = 10 #Glucose exchange \n",
    "    model.medium = medium\n",
    "    solution1= model.optimize()\n",
    "    print('Maximum theoretical biomass productivity:',solution1.fluxes[\"r_2111\"], \"\\h\") \n",
    "    \n",
    "    model.objective = model.reactions.CrtI\n",
    "    lyco_production = model.optimize().objective_value\n",
    "    print('Maximum theoretical productivity of lycopene reaction:', lyco_production, 'mmol/gDW*h')"
   ]
  },
  {
   "cell_type": "markdown",
   "id": "bb39745d",
   "metadata": {},
   "source": [
    "Then different carbon sources are added to the medium while glucose is removed"
   ]
  },
  {
   "cell_type": "code",
   "execution_count": 110,
   "id": "9e7a7197",
   "metadata": {},
   "outputs": [
    {
     "name": "stdout",
     "output_type": "stream",
     "text": [
      "Maximum theoretical biomass productivity: 8.760445060484907 \\h\n",
      "Maximum theoretical productivity of lycopene reaction: 14.160636426922654 mmol/gDW*h\n"
     ]
    }
   ],
   "source": [
    "medium = model.medium\n",
    "with model:\n",
    "    medium['r_1714'] = 0 #Glucose exchange \n",
    "    medium['r_2056'] = 10 #Succinate exchange\n",
    "    model.medium = medium\n",
    "    solution2= model.optimize()\n",
    "    print('Maximum theoretical biomass productivity:',solution2.fluxes[\"r_2111\"], \"\\h\") \n",
    "    \n",
    "    model.objective = model.reactions.CrtI\n",
    "    lyco_production = model.optimize().objective_value\n",
    "    print('Maximum theoretical productivity of lycopene reaction:', lyco_production, 'mmol/gDW*h')"
   ]
  },
  {
   "cell_type": "markdown",
   "id": "d20e248f",
   "metadata": {},
   "source": [
    "Changing the carbon source to succinate led to a decrease in growth rate."
   ]
  },
  {
   "cell_type": "code",
   "execution_count": 111,
   "id": "46e352b1",
   "metadata": {},
   "outputs": [
    {
     "name": "stdout",
     "output_type": "stream",
     "text": [
      "Maximum theoretical biomass productivity: 9.360908802688375 \\h\n",
      "Maximum theoretical productivity of lycopene reaction: 14.916649108238401 mmol/gDW*h\n"
     ]
    }
   ],
   "source": [
    "medium = model.medium\n",
    "with model:\n",
    "    medium['r_1714'] = 0 #Glucose exchange \n",
    "    medium['r_1709'] = 10 #Fructose exchange\n",
    "    model.medium = medium\n",
    "    solution3= model.optimize()\n",
    "    print('Maximum theoretical biomass productivity:',solution3.fluxes[\"r_2111\"], \"\\h\") \n",
    "    \n",
    "    model.objective = model.reactions.CrtI\n",
    "    lyco_production = model.optimize().objective_value\n",
    "    print('Maximum theoretical productivity of lycopene reaction:', lyco_production, 'mmol/gDW*h')"
   ]
  },
  {
   "cell_type": "markdown",
   "id": "85144b9d",
   "metadata": {},
   "source": [
    "Changing the carbon source to fructose gives a growth rate similar to glucose"
   ]
  },
  {
   "cell_type": "code",
   "execution_count": 112,
   "id": "30a276fa",
   "metadata": {},
   "outputs": [
    {
     "name": "stdout",
     "output_type": "stream",
     "text": [
      "Maximum theoretical biomass productivity: 8.575127321611605 \\h\n",
      "Maximum theoretical productivity of lycopene reaction: 13.886697969642164 mmol/gDW*h\n"
     ]
    }
   ],
   "source": [
    "medium = model.medium\n",
    "with model:\n",
    "    medium['r_1714'] = 0 #Glucose exchange \n",
    "    medium['r_2033'] = 10 #Pyruvate exchange\n",
    "    model.medium = medium\n",
    "    solution4= model.optimize()\n",
    "    print('Maximum theoretical biomass productivity:',solution4.fluxes[\"r_2111\"], \"\\h\") \n",
    "    \n",
    "    model.objective = model.reactions.CrtI\n",
    "    lyco_production = model.optimize().objective_value\n",
    "    print('Maximum theoretical productivity of lycopene reaction:', lyco_production, 'mmol/gDW*h')"
   ]
  },
  {
   "cell_type": "markdown",
   "id": "520d9b90",
   "metadata": {},
   "source": [
    "Pyruvate however does not seem to increase the productivity"
   ]
  },
  {
   "cell_type": "code",
   "execution_count": 113,
   "id": "39806d45",
   "metadata": {},
   "outputs": [
    {
     "name": "stdout",
     "output_type": "stream",
     "text": [
      "Maximum theoretical biomass productivity: 8.986853650905225 \\h\n",
      "Maximum theoretical productivity of lycopene reaction: 14.513321377066154 mmol/gDW*h\n"
     ]
    }
   ],
   "source": [
    "medium = model.medium\n",
    "with model:\n",
    "    medium['r_1714'] = 0 #Glucose exchange \n",
    "    medium['r_1687'] = 10 #Citrate exchange\n",
    "    model.medium = medium\n",
    "    solution5= model.optimize()\n",
    "    print('Maximum theoretical biomass productivity:',solution5.fluxes[\"r_2111\"], \"\\h\") \n",
    "    \n",
    "    model.objective = model.reactions.CrtI\n",
    "    lyco_production = model.optimize().objective_value\n",
    "    print('Maximum theoretical productivity of lycopene reaction:', lyco_production, 'mmol/gDW*h')"
   ]
  },
  {
   "cell_type": "markdown",
   "id": "042c7d33",
   "metadata": {},
   "source": [
    "## Text for report: \n",
    "In the model, the default medium is based on the most essential components for growth. Glucose is the carbon source, ammonium is the nitrogen source, and the most essential ions and trace metals are also included. In this medium, biosynthesis of all amino acids and various other central metabolites are required. Thus, a lot of the carbon is used for biosynthesis of central metabolites instead of lycopene synthesis. To optimize the medium, we have changed the medium, so it mimics the YEPD medium, which often is applied for fungal growth. This was done by adding all amino acids to the medium, in order to limit the requirement for biosynthesis. In addition, the glucose uptake is increased to 20 mmol/gDW/h to improve the growth of S. cerevisiae. \n",
    "A change of the medium significantly increases the biomass productivity and the productivity of lycopene. Biomass productivity is increased 119-fold and lycopene productivity is increased by 99-fold. The maximum theoretical yield of lycopene is increased by a factor 5. \n",
    "In addition to examining the impact of the amino acids on the growth of S. cerevisiae, the carbon source was also changed. The carbon sources that were tested are glucose, fructose, succinate, pyruvate and citrate. Glucose and fructose resulted in the highest biomass and lycopene productivity, but no major differences between the various carbon sources were observed. \n"
   ]
  },
  {
   "cell_type": "markdown",
   "id": "9160fa24",
   "metadata": {},
   "source": []
  }
 ],
 "metadata": {
  "kernelspec": {
   "display_name": "Python 3",
   "language": "python",
   "name": "python3"
  },
  "language_info": {
   "codemirror_mode": {
    "name": "ipython",
    "version": 3
   },
   "file_extension": ".py",
   "mimetype": "text/x-python",
   "name": "python",
   "nbconvert_exporter": "python",
   "pygments_lexer": "ipython3",
   "version": "3.8.8"
  }
 },
 "nbformat": 4,
 "nbformat_minor": 5
}
