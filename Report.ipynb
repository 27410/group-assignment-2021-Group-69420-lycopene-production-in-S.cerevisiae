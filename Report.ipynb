{
 "cells": [
  {
   "cell_type": "markdown",
   "metadata": {},
   "source": [
    "# Group 69420"
   ]
  },
  {
   "cell_type": "markdown",
   "metadata": {},
   "source": [
    "## 1. Introduction"
   ]
  },
  {
   "cell_type": "markdown",
   "metadata": {},
   "source": [
    "### 1.1 Literature review of the compound\n",
    "Lycopene (C40H56) is a red carotenoid/tetraterpenoid pigment containing 13 double bonds (11 conjugated and 2 non-conjugated bonds), with strong antioxidant activity. It moreover has important industrial and pharmaceutical application values, and is widely used in pharmaceutical, food, feed, cosmetic, and nutritional supplement industries as a natural colorant (Shi et al. 2019; Hong et al. 2019). The excellent antioxidant properties of lycopene include favorable physiological effects such as anti-aging and anti-cancer activity, and these effects along with lycopene’s vibrant red color are the underlying reasons for the pigment being widely used in the aforementioned industries (Shi et al. 2019; Hong et al. 2019). Moreover, lycopene possesses several positive health effects on the immune and cardiovascular systems and is already used to treat several diseases such as human papilloma virus infection and asthma.\n",
    "\n",
    "Lycopene is extensively found in fruits and vegetables such as in tomatoes, and numerous microorganisms including the yeast *Xanthophyllomyces dendrorhous*, the bacterium *Pantoea agglomerans*, the algae *Dunaliella salina* and the fungus *B. trispora* naturally produce lycopene (Shi et al. 2019). Therefore, lycopene production currently consists of extracting the pigment from plants with nonpolar solvent or synthesizing it chemically via microbial fermentation. Lycopene can also be synthesized by chemical methods, however the complex synthesis process and the risk of chemical reagent residues in the product have limited the use of these methods. Because of these risks associated chemical synthesis and the low yields obtained when extracting lycopene from natural plant sources as well as the unstable supply of natural plant sources (caused by climate and season changes), microbial production of lycopene is a more economical and sustainable production method (Shi et al. 2019; Chen et al., 2016). For this reason, many researchers have recently focused on synthesis of lycopene by microbial fermentation via engineered microorganisms (Li et al., 2019; Saini & Keum, 2018). Successful industrial production of lycopene by microbial fermentation, would both decrease the consumption of natural plant sources for lycopene extraction and increase the market supply of lycopene (Shi et al. 2019)."
   ]
  },
  {
   "cell_type": "markdown",
   "metadata": {},
   "source": [
    "### 1.2 Literature review of the cell factory (<500 words)"
   ]
  },
  {
   "cell_type": "markdown",
   "metadata": {},
   "source": [
    "## 2. Problem definition (<300 words)"
   ]
  },
  {
   "cell_type": "markdown",
   "metadata": {},
   "source": [
    "## 3. Reconstruction of a new GSM for your cell factory host of interest (<1500 words)"
   ]
  },
  {
   "cell_type": "markdown",
   "metadata": {},
   "source": [
    "or"
   ]
  },
  {
   "cell_type": "markdown",
   "metadata": {},
   "source": [
    "## 4. Computer-Aided Cell Factory Engineering (<1500 words if Category II project; <500 words for Category I project)"
   ]
  },
  {
   "cell_type": "markdown",
   "metadata": {},
   "source": [
    "## 5. Discussion (<500 words)"
   ]
  },
  {
   "cell_type": "markdown",
   "metadata": {},
   "source": [
    "## 6. Conclusion (<200 words)"
   ]
  },
  {
   "cell_type": "markdown",
   "metadata": {},
   "source": [
    "## References"
   ]
  },
  {
   "cell_type": "code",
   "execution_count": null,
   "metadata": {},
   "outputs": [],
   "source": []
  }
 ],
 "metadata": {
  "kernelspec": {
   "display_name": "Python 3",
   "language": "python",
   "name": "python3"
  },
  "language_info": {
   "codemirror_mode": {
    "name": "ipython",
    "version": 3
   },
   "file_extension": ".py",
   "mimetype": "text/x-python",
   "name": "python",
   "nbconvert_exporter": "python",
   "pygments_lexer": "ipython3",
   "version": "3.8.8"
  }
 },
 "nbformat": 4,
 "nbformat_minor": 4
}
