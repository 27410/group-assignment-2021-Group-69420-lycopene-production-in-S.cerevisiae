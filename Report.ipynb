{
 "cells": [
  {
   "cell_type": "markdown",
   "metadata": {},
   "source": [
    "# [Title]"
   ]
  },
  {
   "cell_type": "markdown",
   "metadata": {},
   "source": [
    "## 1. Introduction"
   ]
  },
  {
   "cell_type": "markdown",
   "metadata": {},
   "source": [
    "### 1.1 Literature review of the compound (<500 words)"
   ]
  },
  {
   "cell_type": "markdown",
   "metadata": {},
   "source": [
    "It will decrease the consumption of tomatoes for lycopene extraction and increase the market supply of lycopene (Shi et al. 2019) \n",
    "\n",
    "The lycopene biosynthetic pathway has been extensively studied and is well characterized in a majority of species (Figure 1).7 The pathway can be divided into two at the metabolic node formed by isopentenyl diphosphate (IPP) and its isomer dimethylallyl diphosphate (DMAPP). In the upstream pathway, IPP and DMAPP are produced via the mevalonate (MVA) pathway in yeast, which utilizes acetyl- CoA to produce IPP, which is subsequently isomerized to generate DMAPP. The downstream pathway is responsible for the condensation and various modifications of these precursors. IPP and DMAPP can be condensed to geranylgeranyl diphosphate (GGPP) by GGPP synthase (GGPPS/CrtE). The condensation of two GGPP molecules by phytoene synthase (CrtB) leads to the formation of the colorless compound phytoene. Lycopene, the first colored compound produced during carotenoid biosynthesis, is then synthesized via the catalytic activity of phytoene desaturase (CrtI) (Shi et al. 2019) \n",
    "\n",
    "Lycopene is a red carotenoid pigment with strong antioxidant activity (Hong et al. 2019) \n",
    "\n",
    "Lycopene is widely used in foods, cosmetics, nutritional supplements, and pharmaceuticals (Shi et al. 2019) \n",
    "\n",
    "Lycopene, a red carotenoid pigment with antioxidant and potential anti-cancer activity, is widely used in food, feed, and cosmetic industries as a natural colorant and pharmaceutical (Hong et al. 2019) \n",
    "\n",
    "Lycopene is a carotenoid widely found in vegetables and fruits, mainly in tomatoes. Lycopene is an excellent antioxidant with favorable physiological effects, including anti-aging and cancer prevention. Therefore, it is widely used in foods, cosmetics, nutritional supplements, and pharmaceuticals and has high market value. Currently, lycopene is extracted from plants or synthesised chemically or via microbial fermentation. Because of the risk of chemical residues in chemical synthesis and the low yields from natural plant sources, microbial production of lycopene is more economical and sustainable (Shi et al. 2019) \n",
    "\n",
   ]
  },
  {
   "cell_type": "markdown",
   "metadata": {},
   "source": [
    "### 1.2 Literature review of the cell factory (<500 words)"
   ]
  },
  {
   "cell_type": "markdown",
   "metadata": {},
   "source": [
    "## 2. Problem definition (<300 words)"
   ]
  },
  {
   "cell_type": "markdown",
   "metadata": {},
   "source": [
    "## 3. Reconstruction of a new GSM for your cell factory host of interest (<1500 words)"
   ]
  },
  {
   "cell_type": "markdown",
   "metadata": {},
   "source": [
    "or"
   ]
  },
  {
   "cell_type": "markdown",
   "metadata": {},
   "source": [
    "## 4. Computer-Aided Cell Factory Engineering (<1500 words if Category II project; <500 words for Category I project)"
   ]
  },
  {
   "cell_type": "markdown",
   "metadata": {},
   "source": [
    "## 5. Discussion (<500 words)"
   ]
  },
  {
   "cell_type": "markdown",
   "metadata": {},
   "source": [
    "## 6. Conclusion (<200 words)"
   ]
  },
  {
   "cell_type": "markdown",
   "metadata": {},
   "source": [
    "## References"
   ]
  },
  {
   "cell_type": "code",
   "execution_count": null,
   "metadata": {},
   "outputs": [],
   "source": []
  }
 ],
 "metadata": {
  "kernelspec": {
   "display_name": "python3.6",
   "language": "python",
   "name": "python3.6"
  },
  "language_info": {
   "codemirror_mode": {
    "name": "ipython",
    "version": 3
   },
   "file_extension": ".py",
   "mimetype": "text/x-python",
   "name": "python",
   "nbconvert_exporter": "python",
   "pygments_lexer": "ipython3",
   "version": "3.6.11"
  }
 },
 "nbformat": 4,
 "nbformat_minor": 4
}
